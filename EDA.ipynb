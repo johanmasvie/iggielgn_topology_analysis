{
 "cells": [
  {
   "cell_type": "code",
   "execution_count": null,
   "metadata": {},
   "outputs": [],
   "source": [
    "import pandas as pd\n",
    "import networkx as nx\n",
    "import matplotlib.pyplot as plt\n",
    "import seaborn as sns\n",
    "import random\n",
    "\n",
    "import utils\n",
    "\n",
    "country_aggregated_df = pd.read_csv('./Data/Gas_Trade_Flows_IEA_202310 - Data.csv')"
   ]
  },
  {
   "cell_type": "markdown",
   "metadata": {},
   "source": [
    "### Process data"
   ]
  },
  {
   "cell_type": "code",
   "execution_count": null,
   "metadata": {},
   "outputs": [],
   "source": [
    "# Remove unnamed colum\n",
    "country_aggregated_df = country_aggregated_df.drop(columns=['Unnamed: 2'])\n",
    "\n",
    "# Remove the columns with flow data beteen Oct-08 and Aug-09\n",
    "country_aggregated_df = country_aggregated_df.drop(columns=['Oct-08', 'Nov-08', 'Dec-08', 'Jan-09', 'Feb-09', 'Mar-09', 'Apr-09', 'May-09', 'Jun-09', 'Jul-09', 'Aug-09', 'Sep-09', 'Oct-09', 'Nov-09', 'Dec-09'])\n",
    "country_aggregated_df.head()"
   ]
  },
  {
   "cell_type": "code",
   "execution_count": null,
   "metadata": {},
   "outputs": [],
   "source": [
    "country_aggregated_df.shape"
   ]
  },
  {
   "cell_type": "markdown",
   "metadata": {},
   "source": [
    "### Countries in the data"
   ]
  },
  {
   "cell_type": "code",
   "execution_count": null,
   "metadata": {},
   "outputs": [],
   "source": [
    "unique_countries = set(country_aggregated_df['Exit'].unique()) | set(country_aggregated_df['Entry'].unique())\n",
    "\n",
    "print(\"Data contains {} unique countries\".format(len(unique_countries)))\n",
    "print(unique_countries)\n"
   ]
  },
  {
   "cell_type": "code",
   "execution_count": null,
   "metadata": {},
   "outputs": [],
   "source": [
    "print(\"Pure exporting countries: {}\".format(set(country_aggregated_df['Exit'].unique()) - set(country_aggregated_df['Entry'].unique())))\n",
    "print(\"Pure importing countries: {}\".format(set(country_aggregated_df['Entry'].unique()) - set(country_aggregated_df['Exit'].unique())))"
   ]
  },
  {
   "cell_type": "code",
   "execution_count": null,
   "metadata": {},
   "outputs": [],
   "source": [
    "# Retrieve columns with flow data \n",
    "mm_yyyy = country_aggregated_df.iloc[:,country_aggregated_df.columns.get_loc('Jan-10'):]"
   ]
  },
  {
   "cell_type": "markdown",
   "metadata": {},
   "source": [
    "## Test configure grid for max-flow"
   ]
  },
  {
   "cell_type": "code",
   "execution_count": null,
   "metadata": {},
   "outputs": [],
   "source": [
    "graphs = utils.create_graphs_from_dataset(country_aggregated_df)"
   ]
  },
  {
   "cell_type": "code",
   "execution_count": null,
   "metadata": {},
   "outputs": [],
   "source": [
    "# Get most recent grid\n",
    "oct_23 = graphs[-1]"
   ]
  },
  {
   "cell_type": "code",
   "execution_count": null,
   "metadata": {},
   "outputs": [],
   "source": [
    "# Display edge data\n",
    "oct_23_edges = utils.get_edge_data(oct_23)\n",
    "oct_23_edges"
   ]
  },
  {
   "cell_type": "code",
   "execution_count": null,
   "metadata": {},
   "outputs": [],
   "source": [
    "# Display node data\n",
    "oct_23_nodes = utils.get_node_data(oct_23)\n",
    "oct_23_nodes"
   ]
  },
  {
   "cell_type": "markdown",
   "metadata": {},
   "source": [
    "## Convert multi-edge directed graph to directed graph\n",
    "Required by max-flow algorithm"
   ]
  },
  {
   "cell_type": "code",
   "execution_count": null,
   "metadata": {},
   "outputs": [],
   "source": [
    "def create_digraph_of(M):\n",
    "    G = nx.DiGraph()\n",
    "    for u,v,data in M.edges(data=True):\n",
    "        w = data['flow'] if 'flow' in data else 0\n",
    "        c = data['capacity'] if 'capacity' in data else 0\n",
    "        if G.has_edge(u,v):\n",
    "            G[u][v]['flow'] += w\n",
    "            G[u][v]['capacity'] += c\n",
    "        else:\n",
    "            G.add_edge(u, v, flow=w, capacity=c)\n",
    "    return G\n",
    "\n",
    "oct_23_digraph = create_digraph_of(oct_23)"
   ]
  },
  {
   "cell_type": "markdown",
   "metadata": {},
   "source": [
    "## Flow hierarchy\n",
    "Network directionality, i.e., things move in one general direction\n",
    "\n",
    "Source: https://web.mit.edu/~cmagee/www/documents/28-DetectingEvolvingPatterns_FlowHierarchy.pdf\n",
    "\n",
    "Additional source: https://arxiv.org/pdf/1202.0191.pdf\n",
    "\n",
    "\"By definition, a pure random directed network embeds no hierarchy.\"\n",
    "\n",
    "ISSUE: edges (pipelines) included in grid construction for a given year"
   ]
  },
  {
   "cell_type": "code",
   "execution_count": null,
   "metadata": {},
   "outputs": [],
   "source": [
    "print(\"Flow degree, MultiDiGraph: \", nx.flow_hierarchy(oct_23, weight='flow'))\n",
    "print(\"Flow degree, DiGraph: \", nx.flow_hierarchy(oct_23_digraph, weight='flow'))"
   ]
  },
  {
   "cell_type": "code",
   "execution_count": null,
   "metadata": {},
   "outputs": [],
   "source": [
    "print(\"Flow degree, MultiDiGraph: \", nx.flow_hierarchy(utils.ER_benchmark(oct_23)))\n",
    "print(\"Flow degree, DiGraph: \", nx.flow_hierarchy(utils.ER_benchmark(oct_23_digraph)))"
   ]
  },
  {
   "cell_type": "code",
   "execution_count": null,
   "metadata": {},
   "outputs": [],
   "source": [
    "graph_names = [graphs[i].name for i in range(len(graphs))]\n",
    "flow_hierarchy_multidigraph = [nx.flow_hierarchy(graph, weight=\"flow\") for graph in graphs]\n",
    "flow_hierarchy_digraph = [nx.flow_hierarchy(utils.create_digraph_of(graph), weight=\"flow\") for graph in graphs]\n",
    "flow_hierarchy_er_benchmark = [nx.flow_hierarchy(utils.ER_benchmark(graph)) for graph in graphs]\n",
    "flow_hierarchy_er_benchmark_digraph = [nx.flow_hierarchy(utils.ER_benchmark(utils.create_digraph_of(graph))) for graph in graphs]\n",
    "\n",
    "fig, axs = plt.subplots(1, 2, figsize=(20, 7))\n",
    "axs[0].bar(graph_names, flow_hierarchy_multidigraph, label='Real', color='skyblue', alpha=0.8)\n",
    "axs[0].bar(graph_names, flow_hierarchy_er_benchmark, label='ER', color='green', alpha=0.8)\n",
    "axs[0].set_ylabel('Hierarchy degree')\n",
    "axs[0].set_title('MultiDiGraph')\n",
    "axs[0].set_ylim(0, 1)\n",
    "axs[0].legend()\n",
    "axs[0].set_xticks(range(0, len(graph_names), 4))\n",
    "axs[0].set_xticklabels(graph_names[::4], rotation=45, fontsize=10)\n",
    "\n",
    "axs[1].bar(graph_names, flow_hierarchy_digraph, label='Real', color='red', alpha=0.8)\n",
    "axs[1].bar(graph_names, flow_hierarchy_er_benchmark_digraph, label='ER', color='orange', alpha=0.8)\n",
    "axs[1].set_ylabel('Hierarchy degree')\n",
    "axs[1].set_title('DiGraph')\n",
    "axs[1].set_ylim(0, 1)\n",
    "axs[1].legend()\n",
    "axs[1].set_xticks(range(0, len(graph_names), 4))\n",
    "axs[1].set_xticklabels(graph_names[::4], rotation=45, fontsize=10)\n",
    "\n",
    "\n",
    "plt.tight_layout()\n",
    "\n",
    "plt.show()\n"
   ]
  },
  {
   "cell_type": "markdown",
   "metadata": {},
   "source": [
    "## Max flow"
   ]
  },
  {
   "cell_type": "code",
   "execution_count": null,
   "metadata": {},
   "outputs": [],
   "source": [
    "# Define sources and sinks\n",
    "sources = ['Algeria', 'Russia', 'Norway', 'Liquefied Natural Gas']\n",
    "sinks = ['Germany', 'France', 'Italy']"
   ]
  },
  {
   "cell_type": "code",
   "execution_count": null,
   "metadata": {},
   "outputs": [],
   "source": [
    "# Illustrative example\n",
    "flow_value, flow_dict, flow_edges = utils.max_flow(oct_23_digraph, sources, sinks, capacity='capacity', show_plot=True)"
   ]
  },
  {
   "cell_type": "markdown",
   "metadata": {},
   "source": [
    "### Explore load rate across MM-YYYY"
   ]
  },
  {
   "cell_type": "code",
   "execution_count": null,
   "metadata": {},
   "outputs": [],
   "source": [
    "\"\"\" load_rates = []\n",
    "for graph_data in graphs:\n",
    "    graph = create_digraph_of(graph_data)\n",
    "    \n",
    "    # Calculate ideal and real flow values\n",
    "    ideal_flow_value, _, _ = utils.max_flow(graph, sources, sinks, capacity='capacity', show_plot=False)\n",
    "    real_flow_value, _, _ = utils.max_flow(graph, sources, sinks, capacity='flow', show_plot=False)\n",
    "\n",
    "    # Calculate and append the load rate to the list\n",
    "    load_rate = real_flow_value / ideal_flow_value\n",
    "    load_rates.append(load_rate)\n",
    "\n",
    "# Plotting\n",
    "graph_names = [graphs[i].name for i in range(len(graphs))]\n",
    "plt.figure(figsize=(30, 10))\n",
    "plt.plot(load_rates, marker='o')\n",
    "plt.ylabel('Load Rate', fontsize=15)\n",
    "plt.title('Historic Load Rate of the European Natural Gas Grid', fontsize=20)\n",
    "plt.xticks(range(0, len(graph_names), 4), [graph_names[i] for i in range(0, len(graph_names), 4)], rotation=45)\n",
    "plt.show()\n",
    " \"\"\""
   ]
  },
  {
   "cell_type": "markdown",
   "metadata": {},
   "source": [
    "### Explore N-k analysis with max flow"
   ]
  },
  {
   "cell_type": "code",
   "execution_count": 74,
   "metadata": {},
   "outputs": [],
   "source": [
    "\"\"\" \n",
    "TODO: Implement 'flow capacity robustness': \n",
    "1. Calculate maximum flow matric W\n",
    "2. Remove k edges/nodes from W --> W'\n",
    "3. Recalculate maximum flow matrix W' for each iteration --> W''\n",
    "4. Flow capacity robustness = W'' / W\n",
    "\n",
    "TODO: Disgard 'max_flow_index', find a better way to measure the impact of the removals with regards to actual flow\n",
    "\"\"\"\n",
    "\n",
    "\n",
    "sources = ['Algeria', 'Russia', 'Norway', 'Liquefied Natural Gas']\n",
    "sinks = ['Germany', 'France', 'Italy']\n",
    "\n",
    "def n_minus_k(G, sources, sinks, k_removals, capacity='capacity', heuristic='random', remove='edge'):\n",
    "\n",
    "    results_df = pd.DataFrame(columns=['max_flow_value', 'max_flow_index', 'load_rate', 'removed_entity'])\n",
    "\n",
    "    def add_super_source_sink(G, sources, sinks):\n",
    "        super_source = \"super_source\"\n",
    "        super_sink = \"super_sink\"\n",
    "\n",
    "        G.add_node(super_source)\n",
    "        for source in sources:\n",
    "            G.add_edge(super_source, source, capacity=float('inf'))\n",
    "\n",
    "        G.add_node(super_sink)\n",
    "        for sink in sinks:\n",
    "            G.add_edge(sink, super_sink, capacity=float('inf'))\n",
    "\n",
    "        return super_source, super_sink\n",
    "    \n",
    "    source, sink = add_super_source_sink(G, sources, sinks)\n",
    "\n",
    "    def get_initial_load_rate(G, sources, sinks):\n",
    "        init_flow_value_real, _ = nx.maximum_flow(G, sources, sinks, capacity='flow', flow_func=nx.algorithms.flow.dinitz)\n",
    "        init_flow_value_ideal, _ = nx.maximum_flow(G, sources, sinks, capacity='capacity', flow_func=nx.algorithms.flow.dinitz)\n",
    "        return init_flow_value_ideal, init_flow_value_real / init_flow_value_ideal\n",
    "    \n",
    "    init_flow_value_ideal, initial_load_rate = get_initial_load_rate(G, source, sink)\n",
    "\n",
    "    results_df.loc[0] = [init_flow_value_ideal, 1, initial_load_rate, None]\n",
    "\n",
    "    for k in range(1, k_removals + 1):\n",
    "\n",
    "        if heuristic == 'random':\n",
    "\n",
    "            switch = True\n",
    "            while switch:\n",
    "                target = random.choice(list(G.nodes() if remove == 'node' else G.edges()))\n",
    "                if target not in sources and target not in sinks and target != 'super_source' and target != 'super_sink':\n",
    "                    switch = False\n",
    "\n",
    "            G.remove_node(target) if remove == 'node' else G.remove_edge(*target)\n",
    "\n",
    "        elif heuristic == 'greedy':\n",
    "            \"\"\" \n",
    "            Greedy heuristic that removes the node or edge based on centrality indeces, project thesis...\n",
    "            \"\"\"\n",
    "            return NotImplementedError\n",
    "        \n",
    "        elif heuristic == 'max_flow':\n",
    "\n",
    "            if remove == 'node':\n",
    "                raise NotImplementedError(\"Heuristic not implemented for node removal\")\n",
    "            \n",
    "            flow_value, flow_dict = nx.maximum_flow(G, source, sink, capacity=capacity, flow_func=nx.algorithms.flow.dinitz)\n",
    "            max_edge = max(((k1, k2, v) for k1, edges in flow_dict.items() for k2, v in edges.items() if v and k1 not in {'super_source', 'super_sink'} and k2 not in {'super_source', 'super_sink'}), key=lambda x: x[2])\n",
    "            target = (max_edge[0], max_edge[1])\n",
    "            \n",
    "            G.remove_edge(*target)\n",
    "\n",
    "\n",
    "        # Other heuristics\n",
    "\n",
    "\n",
    "        else:\n",
    "            raise ValueError(\"Invalid heuristic\")\n",
    "\n",
    "        current_max_flow_value_ideal, _ = nx.maximum_flow(G, source, sink, capacity='capacity', flow_func=nx.algorithms.flow.dinitz)\n",
    "        current_max_flow_value_real, _ = nx.maximum_flow(G, source, sink, capacity='flow', flow_func=nx.algorithms.flow.dinitz)\n",
    "\n",
    "        if current_max_flow_value_ideal == 0 or current_max_flow_value_real == 0:\n",
    "            results_df.loc[k] = [current_max_flow_value_ideal, None, None, target]\n",
    "            return results_df\n",
    "\n",
    "        current_load_rate = current_max_flow_value_real / current_max_flow_value_ideal\n",
    "        \n",
    "    \n",
    "        results_df.loc[k] = [current_max_flow_value_ideal, current_load_rate / initial_load_rate, current_load_rate, target]\n",
    "\n",
    "    return results_df"
   ]
  },
  {
   "cell_type": "code",
   "execution_count": 75,
   "metadata": {},
   "outputs": [
    {
     "name": "stderr",
     "output_type": "stream",
     "text": [
      "c:\\Users\\Oskar\\anaconda3\\lib\\site-packages\\numpy\\core\\_asarray.py:102: VisibleDeprecationWarning: Creating an ndarray from ragged nested sequences (which is a list-or-tuple of lists-or-tuples-or ndarrays with different lengths or shapes) is deprecated. If you meant to do this, you must specify 'dtype=object' when creating the ndarray.\n",
      "  return array(a, dtype, copy=False, order=order)\n"
     ]
    },
    {
     "data": {
      "text/html": [
       "<div>\n",
       "<style scoped>\n",
       "    .dataframe tbody tr th:only-of-type {\n",
       "        vertical-align: middle;\n",
       "    }\n",
       "\n",
       "    .dataframe tbody tr th {\n",
       "        vertical-align: top;\n",
       "    }\n",
       "\n",
       "    .dataframe thead th {\n",
       "        text-align: right;\n",
       "    }\n",
       "</style>\n",
       "<table border=\"1\" class=\"dataframe\">\n",
       "  <thead>\n",
       "    <tr style=\"text-align: right;\">\n",
       "      <th></th>\n",
       "      <th>max_flow_value</th>\n",
       "      <th>max_flow_index</th>\n",
       "      <th>load_rate</th>\n",
       "      <th>removed_entity</th>\n",
       "    </tr>\n",
       "  </thead>\n",
       "  <tbody>\n",
       "    <tr>\n",
       "      <th>0</th>\n",
       "      <td>38277.44</td>\n",
       "      <td>1.000000</td>\n",
       "      <td>0.285913</td>\n",
       "      <td>NaN</td>\n",
       "    </tr>\n",
       "    <tr>\n",
       "      <th>1</th>\n",
       "      <td>32482.40</td>\n",
       "      <td>1.178406</td>\n",
       "      <td>0.336921</td>\n",
       "      <td>(Russia, Ukraine)</td>\n",
       "    </tr>\n",
       "    <tr>\n",
       "      <th>2</th>\n",
       "      <td>29448.84</td>\n",
       "      <td>1.299794</td>\n",
       "      <td>0.371628</td>\n",
       "      <td>(Netherlands, Germany)</td>\n",
       "    </tr>\n",
       "    <tr>\n",
       "      <th>3</th>\n",
       "      <td>24486.36</td>\n",
       "      <td>1.563215</td>\n",
       "      <td>0.446943</td>\n",
       "      <td>(Russia, Germany)</td>\n",
       "    </tr>\n",
       "    <tr>\n",
       "      <th>4</th>\n",
       "      <td>20429.68</td>\n",
       "      <td>1.438941</td>\n",
       "      <td>0.411411</td>\n",
       "      <td>(Belgium, Germany)</td>\n",
       "    </tr>\n",
       "    <tr>\n",
       "      <th>5</th>\n",
       "      <td>16598.32</td>\n",
       "      <td>1.139776</td>\n",
       "      <td>0.325876</td>\n",
       "      <td>(Norway, Germany)</td>\n",
       "    </tr>\n",
       "    <tr>\n",
       "      <th>6</th>\n",
       "      <td>13496.32</td>\n",
       "      <td>1.401743</td>\n",
       "      <td>0.400776</td>\n",
       "      <td>(Algeria, Tunisia)</td>\n",
       "    </tr>\n",
       "    <tr>\n",
       "      <th>7</th>\n",
       "      <td>10421.28</td>\n",
       "      <td>1.179027</td>\n",
       "      <td>0.337099</td>\n",
       "      <td>(Liquefied Natural Gas, France)</td>\n",
       "    </tr>\n",
       "    <tr>\n",
       "      <th>8</th>\n",
       "      <td>9640.08</td>\n",
       "      <td>1.274572</td>\n",
       "      <td>0.364416</td>\n",
       "      <td>(Poland, Germany)</td>\n",
       "    </tr>\n",
       "    <tr>\n",
       "      <th>9</th>\n",
       "      <td>7579.20</td>\n",
       "      <td>1.060458</td>\n",
       "      <td>0.303198</td>\n",
       "      <td>(Liquefied Natural Gas, Italy)</td>\n",
       "    </tr>\n",
       "    <tr>\n",
       "      <th>10</th>\n",
       "      <td>7579.20</td>\n",
       "      <td>1.029078</td>\n",
       "      <td>0.294226</td>\n",
       "      <td>(Austria, Italy)</td>\n",
       "    </tr>\n",
       "    <tr>\n",
       "      <th>11</th>\n",
       "      <td>5980.68</td>\n",
       "      <td>1.114067</td>\n",
       "      <td>0.318526</td>\n",
       "      <td>(Belgium, France)</td>\n",
       "    </tr>\n",
       "    <tr>\n",
       "      <th>12</th>\n",
       "      <td>5980.68</td>\n",
       "      <td>1.114067</td>\n",
       "      <td>0.318526</td>\n",
       "      <td>(Russia, Republic of Türkiye)</td>\n",
       "    </tr>\n",
       "    <tr>\n",
       "      <th>13</th>\n",
       "      <td>4478.88</td>\n",
       "      <td>1.487621</td>\n",
       "      <td>0.425330</td>\n",
       "      <td>(Liquefied Natural Gas, Republic of Türkiye)</td>\n",
       "    </tr>\n",
       "    <tr>\n",
       "      <th>14</th>\n",
       "      <td>2998.32</td>\n",
       "      <td>0.618251</td>\n",
       "      <td>0.176766</td>\n",
       "      <td>(Norway, France)</td>\n",
       "    </tr>\n",
       "    <tr>\n",
       "      <th>15</th>\n",
       "      <td>1733.52</td>\n",
       "      <td>0.338959</td>\n",
       "      <td>0.096913</td>\n",
       "      <td>(Spain, France)</td>\n",
       "    </tr>\n",
       "    <tr>\n",
       "      <th>16</th>\n",
       "      <td>1101.12</td>\n",
       "      <td>0.311285</td>\n",
       "      <td>0.089000</td>\n",
       "      <td>(Liquefied Natural Gas, Greece)</td>\n",
       "    </tr>\n",
       "    <tr>\n",
       "      <th>17</th>\n",
       "      <td>1101.12</td>\n",
       "      <td>0.311285</td>\n",
       "      <td>0.089000</td>\n",
       "      <td>(Liquefied Natural Gas, Poland)</td>\n",
       "    </tr>\n",
       "    <tr>\n",
       "      <th>18</th>\n",
       "      <td>438.96</td>\n",
       "      <td>0.525879</td>\n",
       "      <td>0.150355</td>\n",
       "      <td>(Norway, Denmark)</td>\n",
       "    </tr>\n",
       "    <tr>\n",
       "      <th>19</th>\n",
       "      <td>215.76</td>\n",
       "      <td>NaN</td>\n",
       "      <td>NaN</td>\n",
       "      <td>(Liquefied Natural Gas, Croatia)</td>\n",
       "    </tr>\n",
       "  </tbody>\n",
       "</table>\n",
       "</div>"
      ],
      "text/plain": [
       "    max_flow_value  max_flow_index  load_rate  \\\n",
       "0         38277.44        1.000000   0.285913   \n",
       "1         32482.40        1.178406   0.336921   \n",
       "2         29448.84        1.299794   0.371628   \n",
       "3         24486.36        1.563215   0.446943   \n",
       "4         20429.68        1.438941   0.411411   \n",
       "5         16598.32        1.139776   0.325876   \n",
       "6         13496.32        1.401743   0.400776   \n",
       "7         10421.28        1.179027   0.337099   \n",
       "8          9640.08        1.274572   0.364416   \n",
       "9          7579.20        1.060458   0.303198   \n",
       "10         7579.20        1.029078   0.294226   \n",
       "11         5980.68        1.114067   0.318526   \n",
       "12         5980.68        1.114067   0.318526   \n",
       "13         4478.88        1.487621   0.425330   \n",
       "14         2998.32        0.618251   0.176766   \n",
       "15         1733.52        0.338959   0.096913   \n",
       "16         1101.12        0.311285   0.089000   \n",
       "17         1101.12        0.311285   0.089000   \n",
       "18          438.96        0.525879   0.150355   \n",
       "19          215.76             NaN        NaN   \n",
       "\n",
       "                                  removed_entity  \n",
       "0                                            NaN  \n",
       "1                              (Russia, Ukraine)  \n",
       "2                         (Netherlands, Germany)  \n",
       "3                              (Russia, Germany)  \n",
       "4                             (Belgium, Germany)  \n",
       "5                              (Norway, Germany)  \n",
       "6                             (Algeria, Tunisia)  \n",
       "7                (Liquefied Natural Gas, France)  \n",
       "8                              (Poland, Germany)  \n",
       "9                 (Liquefied Natural Gas, Italy)  \n",
       "10                              (Austria, Italy)  \n",
       "11                             (Belgium, France)  \n",
       "12                 (Russia, Republic of Türkiye)  \n",
       "13  (Liquefied Natural Gas, Republic of Türkiye)  \n",
       "14                              (Norway, France)  \n",
       "15                               (Spain, France)  \n",
       "16               (Liquefied Natural Gas, Greece)  \n",
       "17               (Liquefied Natural Gas, Poland)  \n",
       "18                             (Norway, Denmark)  \n",
       "19              (Liquefied Natural Gas, Croatia)  "
      ]
     },
     "execution_count": 75,
     "metadata": {},
     "output_type": "execute_result"
    }
   ],
   "source": [
    "oct_23_digraph = create_digraph_of(oct_23)\n",
    "results_df = n_minus_k(oct_23_digraph, sources, sinks, 50, heuristic='max_flow', remove='edge')\n",
    "results_df"
   ]
  }
 ],
 "metadata": {
  "kernelspec": {
   "display_name": "venv",
   "language": "python",
   "name": "python3"
  },
  "language_info": {
   "codemirror_mode": {
    "name": "ipython",
    "version": 3
   },
   "file_extension": ".py",
   "mimetype": "text/x-python",
   "name": "python",
   "nbconvert_exporter": "python",
   "pygments_lexer": "ipython3",
   "version": "3.9.7"
  }
 },
 "nbformat": 4,
 "nbformat_minor": 2
}
