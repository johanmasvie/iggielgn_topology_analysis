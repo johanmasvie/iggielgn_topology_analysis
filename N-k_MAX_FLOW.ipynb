{
 "cells": [
  {
   "cell_type": "code",
   "execution_count": null,
   "metadata": {},
   "outputs": [],
   "source": [
    "import pandas as pd\n",
    "import utils_max_flow as utils\n",
    "import pickle"
   ]
  },
  {
   "cell_type": "code",
   "execution_count": null,
   "metadata": {},
   "outputs": [],
   "source": [
    "with open('graph_objects/G_simple_directed_iggielgn.pickle', 'rb') as f:\n",
    "    G_simple_directed = pickle.load(f)\n",
    "    G_simple_directed.name = 'G_simple_directed'"
   ]
  },
  {
   "cell_type": "code",
   "execution_count": null,
   "metadata": {},
   "outputs": [],
   "source": [
    "# Dataset; 'iggin' or 'iggielgn'\n",
    "dataset = 'iggielgn'\n",
    "\n",
    "# S-t-flow; 's-t-degree' or 's-t-type'\n",
    "s_t_flow = 'hybrid'"
   ]
  },
  {
   "cell_type": "code",
   "execution_count": null,
   "metadata": {},
   "outputs": [],
   "source": [
    "# Toggle to run N-k or just print stored results\n",
    "run_analysis = True"
   ]
  },
  {
   "cell_type": "markdown",
   "metadata": {},
   "source": [
    "----\n",
    "# Heuristics"
   ]
  },
  {
   "cell_type": "markdown",
   "metadata": {},
   "source": [
    "### Node removal"
   ]
  },
  {
   "cell_type": "code",
   "execution_count": null,
   "metadata": {},
   "outputs": [],
   "source": [
    "if run_analysis:\n",
    "    random_node_removal_df = utils.flow_capacity_robustness(G_simple_directed, heuristic='random', remove='node', k_removals=2500, n_benchmarks=5)\n",
    "    random_node_removal_df.to_pickle('results/max_flow/'+dataset+'/'+s_t_flow+'/random_node_removal_df.pkl')\n",
    "random_node_removal_df = pd.read_pickle('results/max_flow/'+dataset+'/'+s_t_flow+'/random_node_removal_df.pkl')"
   ]
  },
  {
   "cell_type": "code",
   "execution_count": null,
   "metadata": {},
   "outputs": [],
   "source": [
    "if run_analysis:\n",
    "    load_rate_node_removal_df = utils.flow_capacity_robustness(G_simple_directed, heuristic='load_rate', remove='node')\n",
    "    load_rate_node_removal_df.to_pickle('results/max_flow/'+dataset+'/'+s_t_flow+'/load_rate_node_removal_df.pkl')\n",
    "load_rate_node_removal_df = pd.read_pickle('results/max_flow/'+dataset+'/'+s_t_flow+'/load_rate_node_removal_df.pkl')\n",
    "utils.results_summary(load_rate_node_removal_df)"
   ]
  },
  {
   "cell_type": "code",
   "execution_count": null,
   "metadata": {},
   "outputs": [],
   "source": [
    "if run_analysis:\n",
    "    max_flow_node_removal_df = utils.flow_capacity_robustness(G_simple_directed, heuristic='max_flow', remove='node')\n",
    "    max_flow_node_removal_df.to_pickle('results/max_flow/'+dataset+'/'+s_t_flow+'/max_flow_node_removal_df.pkl')\n",
    "max_flow_node_removal_df = pd.read_pickle('results/max_flow/'+dataset+'/'+s_t_flow+'/max_flow_node_removal_df.pkl')\n",
    "utils.results_summary(max_flow_node_removal_df)"
   ]
  },
  {
   "cell_type": "code",
   "execution_count": null,
   "metadata": {},
   "outputs": [],
   "source": [
    "if run_analysis:\n",
    "    max_flow_edge_count_node_removal_df = utils.flow_capacity_robustness(G_simple_directed, heuristic='max_flow_edge_count', remove='node')\n",
    "    max_flow_edge_count_node_removal_df.to_pickle('results/max_flow/'+dataset+'/'+s_t_flow+'/max_flow_edge_count_node_removal_df.pkl')\n",
    "max_flow_edge_count_node_removal_df = pd.read_pickle('results/max_flow/'+dataset+'/'+s_t_flow+'/max_flow_edge_count_node_removal_df.pkl')\n",
    "utils.results_summary(max_flow_edge_count_node_removal_df)"
   ]
  },
  {
   "cell_type": "code",
   "execution_count": null,
   "metadata": {},
   "outputs": [],
   "source": [
    "if run_analysis:\n",
    "    wfcr_node_removal_df = utils.flow_capacity_robustness(G_simple_directed, heuristic='wfcr', remove='node')\n",
    "    wfcr_node_removal_df.to_pickle('results/max_flow/'+dataset+'/'+s_t_flow+'/wfcr_node_removal_df.pkl')\n",
    "wfcr_node_removal_df = pd.read_pickle('results/max_flow/'+dataset+'/'+s_t_flow+'/wfcr_node_removal_df.pkl')\n",
    "utils.results_summary(wfcr_node_removal_df, 'capacity_robustness_max_flow')"
   ]
  },
  {
   "cell_type": "code",
   "execution_count": null,
   "metadata": {},
   "outputs": [],
   "source": [
    "fig = utils.plot_heuristic_comparison_biplot([load_rate_node_removal_df, max_flow_edge_count_node_removal_df, max_flow_node_removal_df, wfcr_node_removal_df])\n",
    "fig.savefig('saved_plots/'+dataset+'/'+s_t_flow+'/max_flow/node_removals.png')"
   ]
  },
  {
   "cell_type": "markdown",
   "metadata": {},
   "source": [
    "### Edge removal"
   ]
  },
  {
   "cell_type": "code",
   "execution_count": null,
   "metadata": {},
   "outputs": [],
   "source": [
    "if run_analysis:\n",
    "    random_edge_removal_df = utils.flow_capacity_robustness(G_simple_directed, heuristic='random', remove='edge', k_removals=2500, n_benchmarks=5)\n",
    "    random_edge_removal_df.to_pickle('results/max_flow/'+dataset+'/'+s_t_flow+'/random_edge_removal_df.pkl')\n",
    "random_edge_removal_df = pd.read_pickle('results/max_flow/'+dataset+'/'+s_t_flow+'/random_edge_removal_df.pkl')"
   ]
  },
  {
   "cell_type": "code",
   "execution_count": null,
   "metadata": {},
   "outputs": [],
   "source": [
    "if run_analysis:\n",
    "    load_rate_edge_removal_df = utils.flow_capacity_robustness(G_simple_directed, heuristic='load_rate', remove='edge')\n",
    "    load_rate_edge_removal_df.to_pickle('results/max_flow/'+dataset+'/'+s_t_flow+'/load_rate_edge_removal_df.pkl')\n",
    "load_rate_edge_removal_df = pd.read_pickle('results/max_flow/'+dataset+'/'+s_t_flow+'/load_rate_edge_removal_df.pkl')\n",
    "utils.results_summary(load_rate_edge_removal_df) "
   ]
  },
  {
   "cell_type": "code",
   "execution_count": null,
   "metadata": {},
   "outputs": [],
   "source": [
    "if run_analysis:\n",
    "    max_flow_edge_removal_df = utils.flow_capacity_robustness(G_simple_directed, heuristic='max_flow', remove='edge')\n",
    "    max_flow_edge_removal_df.to_pickle('results/max_flow/'+dataset+'/'+s_t_flow+'/max_flow_edge_removal_df.pkl')\n",
    "max_flow_edge_removal_df = pd.read_pickle('results/max_flow/'+dataset+'/'+s_t_flow+'/max_flow_edge_removal_df.pkl')\n",
    "utils.results_summary(max_flow_edge_removal_df)"
   ]
  },
  {
   "cell_type": "code",
   "execution_count": null,
   "metadata": {},
   "outputs": [],
   "source": [
    "if run_analysis:\n",
    "    max_flow_edge_count_edge_removal_df = utils.flow_capacity_robustness(G_simple_directed, heuristic='max_flow_edge_count', remove='edge')\n",
    "    max_flow_edge_count_edge_removal_df.to_pickle('results/max_flow/'+dataset+'/'+s_t_flow+'/max_flow_edge_count_edge_removal_df.pkl')\n",
    "max_flow_edge_count_edge_removal_df = pd.read_pickle('results/max_flow/'+dataset+'/'+s_t_flow+'/max_flow_edge_count_edge_removal_df.pkl')\n",
    "utils.results_summary(max_flow_edge_count_edge_removal_df)"
   ]
  },
  {
   "cell_type": "code",
   "execution_count": null,
   "metadata": {},
   "outputs": [],
   "source": [
    "if run_analysis:\n",
    "    wfcr_edge_removal_df = utils.flow_capacity_robustness(G_simple_directed, heuristic='wfcr', remove='edge')\n",
    "    wfcr_edge_removal_df.to_pickle('results/max_flow/'+dataset+'/'+s_t_flow+'/wfcr_edge_removal_df.pkl')\n",
    "wfcr_edge_removal_df = pd.read_pickle('results/max_flow/'+dataset+'/'+s_t_flow+'/wfcr_edge_removal_df.pkl')\n",
    "utils.results_summary(wfcr_edge_removal_df, 'capacity_robustness_max_flow') "
   ]
  },
  {
   "cell_type": "code",
   "execution_count": null,
   "metadata": {},
   "outputs": [],
   "source": [
    "fig = utils.plot_heuristic_comparison_biplot([load_rate_edge_removal_df, max_flow_edge_removal_df, max_flow_edge_count_edge_removal_df, wfcr_edge_removal_df])\n",
    "fig.savefig('saved_plots/'+dataset+'/'+s_t_flow+'/max_flow/edge_removals.png')"
   ]
  }
 ],
 "metadata": {
  "kernelspec": {
   "display_name": "master_thesis",
   "language": "python",
   "name": "python3"
  },
  "language_info": {
   "codemirror_mode": {
    "name": "ipython",
    "version": 3
   },
   "file_extension": ".py",
   "mimetype": "text/x-python",
   "name": "python",
   "nbconvert_exporter": "python",
   "pygments_lexer": "ipython3",
   "version": "3.12.1"
  }
 },
 "nbformat": 4,
 "nbformat_minor": 2
}
