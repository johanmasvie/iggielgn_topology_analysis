{
 "cells": [
  {
   "cell_type": "code",
   "execution_count": null,
   "metadata": {},
   "outputs": [],
   "source": [
    "import pandas as pd\n",
    "import utils_max_flow as utils\n",
    "import pickle"
   ]
  },
  {
   "cell_type": "code",
   "execution_count": null,
   "metadata": {},
   "outputs": [],
   "source": [
    "with open('graph_objects/G_simple_directed_iggielgn.pickle', 'rb') as f:\n",
    "    G_simple_directed = pickle.load(f)\n",
    "    G_simple_directed.name = 'G_simple_directed'"
   ]
  },
  {
   "cell_type": "markdown",
   "metadata": {},
   "source": [
    "----\n",
    "# Heuristics"
   ]
  },
  {
   "cell_type": "markdown",
   "metadata": {},
   "source": [
    "### Node removal"
   ]
  },
  {
   "cell_type": "code",
   "execution_count": null,
   "metadata": {},
   "outputs": [],
   "source": [
    "# NOT RUN WITH IGGIELGN\n",
    "#random_node_removal_df = utils.flow_capacity_robustness(G_simple_directed, heuristic='random', remove='node')\n",
    "#random_node_removal_df.to_pickle('results/max_flow/iggielgn/sinks_sources_flow_index/random_node_removal_df.pkl')\n",
    "# random_node_removal_df = pd.read_pickle('results/max_flow/iggielgn/sinks_sources_flow_index/random_node_removal_df.pkl')"
   ]
  },
  {
   "cell_type": "code",
   "execution_count": null,
   "metadata": {},
   "outputs": [],
   "source": [
    "# NOT RUN WITH IGGIELGN\n",
    "# load_rate_node_removal_df = utils.flow_capacity_robustness(G_simple_directed, heuristic='load_rate', remove='node')\n",
    "# load_rate_node_removal_df.to_pickle('results/max_flow/iggielgn/sinks_sources_flow_index/load_rate_node_removal_df.pkl')\n",
    "# load_rate_node_removal_df = pd.read_pickle('results/max_flow/iggielgn/sinks_sources_flow_index/load_rate_node_removal_df.pkl')\n",
    "# utils.results_summary(load_rate_node_removal_df)"
   ]
  },
  {
   "cell_type": "code",
   "execution_count": null,
   "metadata": {},
   "outputs": [],
   "source": [
    "# NOT RUN WITH IGGIELGN\n",
    "# max_flow_node_removal_df = utils.flow_capacity_robustness(G_simple_directed, heuristic='max_flow', remove='node')\n",
    "# max_flow_node_removal_df.to_pickle('results/max_flow/iggielgn/sinks_sources_flow_index/max_flow_node_removal_df.pkl')\n",
    "# max_flow_node_removal_df = pd.read_pickle('results/max_flow/iggielgn/sinks_sources_flow_index/max_flow_node_removal_df.pkl')\n",
    "# utils.results_summary(max_flow_node_removal_df)"
   ]
  },
  {
   "cell_type": "code",
   "execution_count": null,
   "metadata": {},
   "outputs": [],
   "source": [
    "# NOT RUN WITH IGGIELGN\n",
    "# max_flow_edge_count_node_removal_df = utils.flow_capacity_robustness(G_simple_directed, heuristic='max_flow_edge_count', remove='node')\n",
    "# max_flow_edge_count_node_removal_df.to_pickle('results/max_flow/iggielgn/sinks_sources_flow_index/max_flow_edge_count_node_removal_df.pkl')\n",
    "# max_flow_edge_count_node_removal_df = pd.read_pickle('results/max_flow/iggielgn/sinks_sources_flow_index/max_flow_edge_count_node_removal_df.pkl')\n",
    "# utils.results_summary(max_flow_edge_count_node_removal_df)"
   ]
  },
  {
   "cell_type": "code",
   "execution_count": null,
   "metadata": {},
   "outputs": [],
   "source": [
    "# NOT RUN WITH IGGIELGN\n",
    "# wfcr_node_removal_df = utils.flow_capacity_robustness(G_simple_directed, heuristic='wfcr', remove='node')\n",
    "# wfcr_node_removal_df.to_pickle('results/max_flow/iggielgn/sinks_sources_flow_index/wfcr_node_removal_df.pkl')\n",
    "# wfcr_node_removal_df = pd.read_pickle('results/max_flow/iggielgn/sinks_sources_flow_index/wfcr_node_removal_df.pkl')\n",
    "# utils.results_summary(wfcr_node_removal_df)"
   ]
  },
  {
   "cell_type": "code",
   "execution_count": null,
   "metadata": {},
   "outputs": [],
   "source": [
    "# utils.plot_heuristic_comparison_biplot([random_node_removal_df, load_rate_node_removal_df, max_flow_node_removal_df, max_flow_edge_count_node_removal_df, wfcr_node_removal_df], 'N-k max flow')"
   ]
  },
  {
   "cell_type": "markdown",
   "metadata": {},
   "source": [
    "### Edge removal"
   ]
  },
  {
   "cell_type": "code",
   "execution_count": null,
   "metadata": {},
   "outputs": [],
   "source": [
    "# NOT RUN WITH IGGIELGN\n",
    "# random_edge_removal_df = utils.flow_capacity_robustness(G_simple_directed, heuristic='random', remove='edge')\n",
    "# random_edge_removal_df.to_pickle('results/max_flow/iggielgn/sinks_sources_flow_index/random_edge_removal_df.pkl')\n",
    "# random_edge_removal_df = pd.read_pickle('results/max_flow/iggielgn/sinks_sources_flow_index/random_edge_removal_df.pkl')"
   ]
  },
  {
   "cell_type": "code",
   "execution_count": null,
   "metadata": {},
   "outputs": [],
   "source": [
    "# NOT RUN WITH IGGIELGN\n",
    "# load_rate_edge_removal_df = utils.flow_capacity_robustness(G_simple_directed, heuristic='load_rate', remove='edge')\n",
    "# load_rate_edge_removal_df.to_pickle('results/max_flow/iggielgn/sinks_sources_flow_index/load_rate_edge_removal_df.pkl')\n",
    "# load_rate_edge_removal_df = pd.read_pickle('results/max_flow/iggielgn/sinks_sources_flow_index/load_rate_edge_removal_df.pkl')\n",
    "# utils.results_summary(load_rate_edge_removal_df) "
   ]
  },
  {
   "cell_type": "code",
   "execution_count": null,
   "metadata": {},
   "outputs": [],
   "source": [
    "# NOT RUN WITH IGGIELGN\n",
    "# max_flow_edge_removal_df = utils.flow_capacity_robustness(G_simple_directed, heuristic='max_flow', remove='edge')\n",
    "# max_flow_edge_removal_df.to_pickle('results/max_flow/iggielgn/sinks_sources_flow_index/max_flow_edge_removal_df.pkl')\n",
    "# max_flow_edge_removal_df = pd.read_pickle('results/max_flow/iggielgn/sinks_sources_flow_index/max_flow_edge_removal_df.pkl')\n",
    "# utils.results_summary(max_flow_edge_removal_df)"
   ]
  },
  {
   "cell_type": "code",
   "execution_count": null,
   "metadata": {},
   "outputs": [],
   "source": [
    "# NOT RUN WITH IGGIELGN\n",
    "# max_flow_edge_count_edge_removal_df = utils.flow_capacity_robustness(G_simple_directed, heuristic='max_flow_edge_count', remove='edge')\n",
    "# max_flow_edge_count_edge_removal_df.to_pickle('results/max_flow/iggielgn/sinks_sources_flow_index/max_flow_edge_count_edge_removal_df.pkl')\n",
    "# max_flow_edge_count_edge_removal_df = pd.read_pickle('results/max_flow/iggielgn/sinks_sources_flow_index/max_flow_edge_count_edge_removal_df.pkl')\n",
    "# utils.results_summary(max_flow_edge_count_edge_removal_df)"
   ]
  },
  {
   "cell_type": "code",
   "execution_count": null,
   "metadata": {},
   "outputs": [],
   "source": [
    "# NOT RUN WITH IGGIELGN\n",
    "# wfcr_edge_removal_df = utils.flow_capacity_robustness(G_simple_directed, heuristic='wfcr', remove='edge')\n",
    "# wfcr_edge_removal_df.to_pickle('results/max_flow/iggielgn/sinks_sources_flow_index/wfcr_edge_removal_df.pkl')\n",
    "# wfcr_edge_removal_df = pd.read_pickle('results/max_flow/iggielgn/sinks_sources_flow_index/wfcr_edge_removal_df.pkl')\n",
    "# utils.results_summary(wfcr_edge_removal_df) "
   ]
  },
  {
   "cell_type": "code",
   "execution_count": null,
   "metadata": {},
   "outputs": [],
   "source": [
    "# utils.plot_heuristic_comparison_biplot([random_edge_removal_df, load_rate_edge_removal_df, max_flow_edge_removal_df, max_flow_edge_count_edge_removal_df, wfcr_edge_removal_df], 'N-k max flow')"
   ]
  }
 ],
 "metadata": {
  "kernelspec": {
   "display_name": "master_thesis",
   "language": "python",
   "name": "python3"
  },
  "language_info": {
   "codemirror_mode": {
    "name": "ipython",
    "version": 3
   },
   "file_extension": ".py",
   "mimetype": "text/x-python",
   "name": "python",
   "nbconvert_exporter": "python",
   "pygments_lexer": "ipython3",
   "version": "3.12.1"
  }
 },
 "nbformat": 4,
 "nbformat_minor": 2
}
