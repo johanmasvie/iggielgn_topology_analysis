{
 "cells": [
  {
   "cell_type": "markdown",
   "metadata": {},
   "source": [
    "# Imports"
   ]
  },
  {
   "cell_type": "code",
   "execution_count": null,
   "metadata": {},
   "outputs": [],
   "source": [
    "import pandas as pd\n",
    "import matplotlib.pyplot as plt\n",
    "import numpy as np\n",
    "from shapely import wkt\n",
    "import networkx as nx\n",
    "import dill\n",
    "from mpl_toolkits.basemap import Basemap\n",
    "import geopandas as gpd\n",
    "import ast\n",
    "import utils_pre_processing as upp\n",
    "from utils_pre_processing import split_col_to_and_from\n",
    "# Show all columns when using .head()\n",
    "pd.set_option('display.max_columns', None)"
   ]
  },
  {
   "cell_type": "markdown",
   "metadata": {},
   "source": [
    "# Reading data"
   ]
  },
  {
   "cell_type": "code",
   "execution_count": null,
   "metadata": {},
   "outputs": [],
   "source": [
    "iggielgn_borderpoints = pd.read_csv('IGGIELGN/IGGIELGN_BorderPoints.csv', delimiter=';')\n",
    "iggielgn_compressors = pd.read_csv('IGGIELGN/IGGIELGN_Compressors.csv', delimiter=';')\n",
    "iggielgn_consumers = pd.read_csv('IGGIELGN/IGGIELGN_Consumers.csv', delimiter=';')\n",
    "iggielgn_lngs = pd.read_csv('IGGIELGN/IGGIELGN_LNGs.csv', delimiter=';')\n",
    "iggielgn_nodes = pd.read_csv('IGGIELGN/IGGIELGN_Nodes.csv', delimiter=';')\n",
    "iggielgn_pipesegments = pd.read_csv('IGGIELGN/IGGIELGN_PipeSegments.csv', delimiter=';')\n",
    "iggielgn_productions = pd.read_csv('IGGIELGN/IGGIELGN_Productions.csv', delimiter=';')\n",
    "iggielgn_storages = pd.read_csv('IGGIELGN/IGGIELGN_Storages.csv', delimiter=';')"
   ]
  },
  {
   "cell_type": "markdown",
   "metadata": {},
   "source": [
    "# Pre-processing columns"
   ]
  },
  {
   "cell_type": "markdown",
   "metadata": {},
   "source": [
    "## Pipe Segments"
   ]
  },
  {
   "cell_type": "code",
   "execution_count": null,
   "metadata": {},
   "outputs": [],
   "source": [
    "# Expanding param, uncertainty and method columns\n",
    "iggielgn_pipesegments = upp.split_column_to_multiple(iggielgn_pipesegments, 'param')\n",
    "iggielgn_pipesegments = upp.split_column_to_multiple(iggielgn_pipesegments, 'uncertainty', 'uncertainty_')\n",
    "iggielgn_pipesegments = upp.split_column_to_multiple(iggielgn_pipesegments, 'method', 'method_')\n",
    "\n",
    "# Splitting node_id, country_code, lat and long columns\n",
    "iggielgn_pipesegments = upp.split_col_to_and_from(iggielgn_pipesegments, 'node_id', 'str')\n",
    "iggielgn_pipesegments = upp.split_col_to_and_from(iggielgn_pipesegments, 'country_code', 'str')\n",
    "iggielgn_pipesegments = upp.split_coords(iggielgn_pipesegments, 'lat')\n",
    "iggielgn_pipesegments = upp.split_coords(iggielgn_pipesegments, 'long')"
   ]
  },
  {
   "cell_type": "markdown",
   "metadata": {},
   "source": [
    "## Border Points"
   ]
  },
  {
   "cell_type": "code",
   "execution_count": null,
   "metadata": {},
   "outputs": [],
   "source": [
    "# Convert values in the node_id col of iggielgn_borderpoints from ['INET_CS_0'] to INET_CS_0. It is a string, so you need to evaluate it first\n",
    "iggielgn_borderpoints['node_id'] = iggielgn_borderpoints['node_id'].apply(lambda x: ast.literal_eval(x)[0])\n",
    "\n",
    "# Rename the country_code column to country_code_node\n",
    "iggielgn_borderpoints.rename(columns={'country_code': 'country_code_node'}, inplace=True)\n",
    "\n",
    "# Expanding param, uncertainty and method columns\n",
    "iggielgn_borderpoints = upp.split_column_to_multiple(iggielgn_borderpoints, 'param')\n",
    "iggielgn_borderpoints = upp.split_column_to_multiple(iggielgn_borderpoints, 'uncertainty', 'uncertainty_')\n",
    "iggielgn_borderpoints = upp.split_column_to_multiple(iggielgn_borderpoints, 'method', 'method_')"
   ]
  },
  {
   "cell_type": "markdown",
   "metadata": {},
   "source": [
    "## Compressors"
   ]
  },
  {
   "cell_type": "code",
   "execution_count": null,
   "metadata": {},
   "outputs": [],
   "source": [
    "# Convert values in the node_id col of iggielgn_compressors from ['INET_CS_0'] to INET_CS_0. It is a string, so you need to evaluate it first\n",
    "iggielgn_compressors['node_id'] = iggielgn_compressors['node_id'].apply(lambda x: ast.literal_eval(x)[0])\n",
    "\n",
    "# Expanding param, uncertainty and method columns\n",
    "iggielgn_compressors = upp.split_column_to_multiple(iggielgn_compressors, 'param')\n",
    "iggielgn_compressors = upp.split_column_to_multiple(iggielgn_compressors, 'uncertainty', 'uncertainty_')\n",
    "iggielgn_compressors = upp.split_column_to_multiple(iggielgn_compressors, 'method', 'method_')"
   ]
  },
  {
   "cell_type": "markdown",
   "metadata": {},
   "source": [
    "## LNGs"
   ]
  },
  {
   "cell_type": "code",
   "execution_count": null,
   "metadata": {},
   "outputs": [],
   "source": [
    "# Convert values in the node_id col of iggielgn_lngs from ['INET_CS_0'] to INET_CS_0. It is a string, so you need to evaluate it first\n",
    "iggielgn_lngs['node_id'] = iggielgn_lngs['node_id'].apply(lambda x: ast.literal_eval(x)[0])\n",
    "\n",
    "# Expanding param, uncertainty and method columns\n",
    "iggielgn_lngs = upp.split_column_to_multiple(iggielgn_lngs, 'param')\n",
    "iggielgn_lngs = upp.split_column_to_multiple(iggielgn_lngs, 'uncertainty', 'uncertainty_')\n",
    "iggielgn_lngs = upp.split_column_to_multiple(iggielgn_lngs, 'method', 'method_')"
   ]
  },
  {
   "cell_type": "markdown",
   "metadata": {},
   "source": [
    "## Consumers"
   ]
  },
  {
   "cell_type": "code",
   "execution_count": null,
   "metadata": {},
   "outputs": [],
   "source": [
    "# Convert values in the node_id col of iggielgn_consumers from ['INET_CS_0'] to INET_CS_0. It is a string, so you need to evaluate it first\n",
    "iggielgn_consumers['node_id'] = iggielgn_consumers['node_id'].apply(lambda x: ast.literal_eval(x)[0])\n",
    "\n",
    "# Expanding param, uncertainty and method columns\n",
    "iggielgn_consumers = upp.split_column_to_multiple(iggielgn_consumers, 'param')\n",
    "iggielgn_consumers = upp.split_column_to_multiple(iggielgn_consumers, 'uncertainty', 'uncertainty_')\n",
    "iggielgn_consumers = upp.split_column_to_multiple(iggielgn_consumers, 'method', 'method_')"
   ]
  },
  {
   "cell_type": "markdown",
   "metadata": {},
   "source": [
    "## Productions"
   ]
  },
  {
   "cell_type": "code",
   "execution_count": null,
   "metadata": {},
   "outputs": [],
   "source": [
    "# Convert values in the node_id col of iggielgn_productions from ['INET_CS_0'] to INET_CS_0. It is a string, so you need to evaluate it first\n",
    "iggielgn_productions['node_id'] = iggielgn_productions['node_id'].apply(lambda x: ast.literal_eval(x)[0])\n",
    "\n",
    "# Expanding param, uncertainty and method columns\n",
    "iggielgn_productions = upp.split_column_to_multiple(iggielgn_productions, 'param')\n",
    "iggielgn_productions = upp.split_column_to_multiple(iggielgn_productions, 'uncertainty', 'uncertainty_')\n",
    "iggielgn_productions = upp.split_column_to_multiple(iggielgn_productions, 'method', 'method_')"
   ]
  },
  {
   "cell_type": "markdown",
   "metadata": {},
   "source": [
    "## Storages"
   ]
  },
  {
   "cell_type": "code",
   "execution_count": null,
   "metadata": {},
   "outputs": [],
   "source": [
    "# Convert values in the node_id col of iggielgn_storages from ['INET_CS_0'] to INET_CS_0. It is a string, so you need to evaluate it first\n",
    "iggielgn_storages['node_id'] = iggielgn_storages['node_id'].apply(lambda x: ast.literal_eval(x)[0])\n",
    "\n",
    "# Expanding param, uncertainty and method columns\n",
    "iggielgn_storages = upp.split_column_to_multiple(iggielgn_storages, 'param')\n",
    "iggielgn_storages = upp.split_column_to_multiple(iggielgn_storages, 'uncertainty', 'uncertainty_')\n",
    "iggielgn_storages = upp.split_column_to_multiple(iggielgn_storages, 'method', 'method_')"
   ]
  },
  {
   "cell_type": "markdown",
   "metadata": {},
   "source": [
    "## Nodes"
   ]
  },
  {
   "cell_type": "code",
   "execution_count": null,
   "metadata": {},
   "outputs": [],
   "source": [
    "# Expanding param, uncertainty and method columns\n",
    "iggielgn_nodes = upp.split_column_to_multiple(iggielgn_nodes, 'param')\n",
    "iggielgn_nodes = upp.split_column_to_multiple(iggielgn_nodes, 'uncertainty', 'uncertainty_')\n",
    "iggielgn_nodes = upp.split_column_to_multiple(iggielgn_nodes, 'method', 'method_')\n",
    "\n",
    "# # Add a \"type\" column to iggielgn_nodes, a list of the type of the node\n",
    "# iggielgn_nodes['type'] = ''\n",
    "\n",
    "# for row in iggielgn_nodes.itertuples():\n",
    "#     iggielgn_nodes.loc[iggielgn_nodes['id'] == row.id, 'type'] = iggielgn_nodes.loc[iggielgn_nodes['id'] == row.id, 'type'] + 'node'\n",
    "#     if row.id in iggielgn_consumers['node_id'].values:\n",
    "#         iggielgn_nodes.loc[iggielgn_nodes['id'] == row.id, 'type'] = iggielgn_nodes.loc[iggielgn_nodes['id'] == row.id, 'type'] + ', consumer'\n",
    "#     if row.id in iggielgn_productions['node_id'].values:\n",
    "#         iggielgn_nodes.loc[iggielgn_nodes['id'] == row.id, 'type'] = iggielgn_nodes.loc[iggielgn_nodes['id'] == row.id, 'type'] + ', production'\n",
    "#     if row.id in iggielgn_storages['node_id'].values:\n",
    "#         iggielgn_nodes.loc[iggielgn_nodes['id'] == row.id, 'type'] = iggielgn_nodes.loc[iggielgn_nodes['id'] == row.id, 'type'] + ', storage'\n",
    "#     if row.id in iggielgn_compressors['node_id'].values:\n",
    "#         iggielgn_nodes.loc[iggielgn_nodes['id'] == row.id, 'type'] = iggielgn_nodes.loc[iggielgn_nodes['id'] == row.id, 'type'] + ', compressor'\n",
    "#     if row.id in iggielgn_lngs['node_id'].values:\n",
    "#         iggielgn_nodes.loc[iggielgn_nodes['id'] == row.id, 'type'] = iggielgn_nodes.loc[iggielgn_nodes['id'] == row.id, 'type'] + ', lng'\n",
    "#     if row.id in iggielgn_borderpoints['node_id'].values:\n",
    "#         iggielgn_nodes.loc[iggielgn_nodes['id'] == row.id, 'type'] = iggielgn_nodes.loc[iggielgn_nodes['id'] == row.id, 'type'] + ', borderpoint'"
   ]
  },
  {
   "cell_type": "markdown",
   "metadata": {},
   "source": [
    "## Updating missing country_codes"
   ]
  },
  {
   "cell_type": "code",
   "execution_count": null,
   "metadata": {},
   "outputs": [],
   "source": [
    "# Print the number of nodes where country_code == XX\n",
    "print(iggielgn_nodes[iggielgn_nodes['country_code'] == 'XX'].shape[0])"
   ]
  },
  {
   "cell_type": "code",
   "execution_count": null,
   "metadata": {},
   "outputs": [],
   "source": [
    "# Plot these nodes on the map\n",
    "fig, ax = plt.subplots(figsize=(16, 16))\n",
    "\n",
    "# Use BaseMap to underlay a map of Europe\n",
    "m = Basemap(projection='merc', llcrnrlat=30, urcrnrlat=70, llcrnrlon=-15, urcrnrlon=80, resolution='l')\n",
    "m.drawcoastlines()\n",
    "m.drawcountries()\n",
    "m.fillcontinents(color='lightgray')\n",
    "\n",
    "# Plot the nodes with country_code == XX\n",
    "for row in iggielgn_nodes.itertuples():\n",
    "    if row.country_code == 'XX':\n",
    "        x, y = m(row.long, row.lat)\n",
    "        m.plot(x, y, 'ro', markersize=5)\n",
    "    else:\n",
    "        x, y = m(row.long, row.lat)\n",
    "        m.plot(x, y, 'bo', markersize=5)\n",
    "\n",
    "plt.show()"
   ]
  },
  {
   "cell_type": "code",
   "execution_count": null,
   "metadata": {},
   "outputs": [],
   "source": [
    "# Load data/country_geometries/dz.json into a GeoDataFrame\n",
    "dz = gpd.read_file('data/country_geometries/dz.json')\n",
    "# Load data/country_geometries/tn.json into a GeoDataFrame\n",
    "tn = gpd.read_file('data/country_geometries/tn.json')\n",
    "# Load data/country_geometries/ly.json into a GeoDataFrame\n",
    "ly = gpd.read_file('data/country_geometries/ly.json')\n",
    "# Load data/country_geometries/kz.json into a GeoDataFrame\n",
    "kz = gpd.read_file('data/country_geometries/kz.json')\n",
    "# Load data/country_geometries/ru.json into a GeoDataFrame\n",
    "ru = gpd.read_file('data/country_geometries/ru.json')\n",
    "# Load data/country_geometries/eg.json into a GeoDataFrame\n",
    "eg = gpd.read_file('data/country_geometries/eg.json')"
   ]
  },
  {
   "cell_type": "code",
   "execution_count": null,
   "metadata": {},
   "outputs": [],
   "source": [
    "# Plot these nodes on the map\n",
    "fig, ax = plt.subplots(figsize=(16, 16))\n",
    "\n",
    "# Use BaseMap to underlay a map of Europe\n",
    "m = Basemap(projection='merc', llcrnrlat=30, urcrnrlat=70, llcrnrlon=-15, urcrnrlon=80, resolution='l')\n",
    "m.drawcoastlines()\n",
    "m.drawcountries()\n",
    "m.fillcontinents(color='lightgray')\n",
    "\n",
    "# For nodes with country_code == XX, check if they are in Algeria\n",
    "for row in iggielgn_nodes.itertuples():\n",
    "    if row.country_code == 'XX':\n",
    "        point = wkt.loads(f'POINT({row.long} {row.lat})')\n",
    "        if dz['geometry'].contains(point).any():\n",
    "            x, y = m(row.long, row.lat)\n",
    "            m.plot(x, y, 'ro', markersize=5)\n",
    "            iggielgn_nodes.loc[iggielgn_nodes['id'] == row.id, 'country_code'] = 'DZ'\n",
    "        elif tn['geometry'].contains(point).any():\n",
    "            x, y = m(row.long, row.lat)\n",
    "            m.plot(x, y, 'go', markersize=5)\n",
    "            iggielgn_nodes.loc[iggielgn_nodes['id'] == row.id, 'country_code'] = 'TN'\n",
    "        elif ly['geometry'].contains(point).any():\n",
    "            x, y = m(row.long, row.lat)\n",
    "            m.plot(x, y, 'yo', markersize=5)\n",
    "            iggielgn_nodes.loc[iggielgn_nodes['id'] == row.id, 'country_code'] = 'LY'\n",
    "        elif kz['geometry'].contains(point).any():\n",
    "            x, y = m(row.long, row.lat)\n",
    "            try:\n",
    "                m.plot(x, y, 'bo', markerssize=5)\n",
    "            except:\n",
    "                print(row.long, row.lat)\n",
    "            iggielgn_nodes.loc[iggielgn_nodes['id'] == row.id, 'country_code'] = 'KZ'\n",
    "        elif ru['geometry'].contains(point).any():\n",
    "            x, y = m(row.long, row.lat)\n",
    "            m.plot(x, y, 'wo', markersize=5)\n",
    "            iggielgn_nodes.loc[iggielgn_nodes['id'] == row.id, 'country_code'] = 'RU'\n",
    "        elif row.id.split('_')[0] == 'NO':\n",
    "            x, y = m(row.long, row.lat)\n",
    "            m.plot(x, y, 'co', markersize=5)\n",
    "            iggielgn_nodes.loc[iggielgn_nodes['id'] == row.id, 'country_code'] = 'NO'\n",
    "        elif eg['geometry'].contains(point).any():\n",
    "            x, y = m(row.long, row.lat)\n",
    "            m.plot(x, y, 'mo', markersize=5)\n",
    "            iggielgn_nodes.loc[iggielgn_nodes['id'] == row.id, 'country_code'] = 'EG'\n",
    "\n",
    "plt.show()"
   ]
  },
  {
   "cell_type": "code",
   "execution_count": null,
   "metadata": {},
   "outputs": [],
   "source": [
    "# Plot these nodes on the map\n",
    "fig, ax = plt.subplots(figsize=(16, 16))\n",
    "\n",
    "# Use BaseMap to underlay a map of Europe\n",
    "m = Basemap(projection='merc', llcrnrlat=30, urcrnrlat=70, llcrnrlon=-15, urcrnrlon=80, resolution='l')\n",
    "m.drawcoastlines()\n",
    "m.drawcountries()\n",
    "m.fillcontinents(color='lightgray')\n",
    "\n",
    "# Plot the nodes with country_code == XX\n",
    "for row in iggielgn_nodes.itertuples():\n",
    "    if row.country_code == 'XX':\n",
    "        x, y = m(row.long, row.lat)\n",
    "        m.plot(x, y, 'ro', markersize=5)\n",
    "    else:\n",
    "        x, y = m(row.long, row.lat)\n",
    "        m.plot(x, y, 'bo', markersize=5)\n",
    "\n",
    "plt.show()"
   ]
  },
  {
   "cell_type": "markdown",
   "metadata": {},
   "source": [
    "# Plotting the nodes"
   ]
  },
  {
   "cell_type": "code",
   "execution_count": null,
   "metadata": {},
   "outputs": [],
   "source": [
    "# Plot the nodes on the map\n",
    "fig, ax = plt.subplots(figsize=(16, 16))\n",
    "\n",
    "# Use BaseMap to underlay a map of Europe\n",
    "m = Basemap(projection='merc', llcrnrlat=30, urcrnrlat=70, llcrnrlon=-15, urcrnrlon=80, resolution='l')\n",
    "m.drawcoastlines()\n",
    "m.drawcountries()\n",
    "m.fillcontinents(color='lightgray')\n",
    "\n",
    "# Plot the nodes, and color based on the type\n",
    "for row in iggielgn_nodes.itertuples():\n",
    "    x, y = m(row.long, row.lat)\n",
    "    # If row.type contains \"consumer\", color red\n",
    "    if 'node' in row.type:\n",
    "        m.plot(x, y, 'ko', markersize=2)\n",
    "    if 'consumer' in row.type:\n",
    "        m.plot(x, y, 'ro', markersize=2)\n",
    "    if 'production' in row.type:\n",
    "        m.plot(x, y, 'go', markersize=2)\n",
    "    if 'storage' in row.type:\n",
    "        m.plot(x, y, 'bo', markersize=2)\n",
    "    if 'compressor' in row.type:\n",
    "        m.plot(x, y, 'yo', markersize=2)\n",
    "    if 'lng' in row.type:\n",
    "        m.plot(x, y, 'mo', markersize=4)\n",
    "    if 'borderpoint' in row.type:\n",
    "        m.plot(x, y, 'co', markersize=2)\n",
    "\n",
    "\n",
    "# Add legend\n",
    "plt.plot([], [], 'ro', label='Consumer')\n",
    "plt.plot([], [], 'go', label='Production')\n",
    "plt.plot([], [], 'bo', label='Storage')\n",
    "plt.plot([], [], 'yo', label='Compressor')\n",
    "plt.plot([], [], 'mo', label='LNG')\n",
    "plt.plot([], [], 'co', label='Borderpoint')\n",
    "plt.plot([], [], 'ko', label='Node')\n",
    "plt.legend(loc='upper right', fontsize=20)\n",
    "\n",
    "plt.savefig('latex_figures/iggielgn_nodes.png')\n",
    "\n",
    "plt.show()"
   ]
  },
  {
   "cell_type": "markdown",
   "metadata": {},
   "source": [
    "# Creating the NetworkX graph"
   ]
  },
  {
   "cell_type": "code",
   "execution_count": null,
   "metadata": {},
   "outputs": [],
   "source": [
    "# Create a networkx graph using the nodes_df as nodes and the pipe_segments_df as edges\n",
    "G_multi_directed = nx.MultiDiGraph()\n",
    "\n",
    "# Add nodes to the graph\n",
    "for index, row in iggielgn_nodes.iterrows():\n",
    "    # Get the columns of the row, and add the columns as attributes to the node\n",
    "    attributes = dict(row)\n",
    "    G_multi_directed.add_node(row['id'], **attributes)\n",
    "\n",
    "# Add edges to the graph\n",
    "for index, row in iggielgn_pipesegments.iterrows():\n",
    "    # Get the columns of the row, and add the columns as attributes to the edge\n",
    "    attributes = dict(row)\n",
    "    G_multi_directed.add_edge(row['from_node_id'], row['to_node_id'], **attributes)\n",
    "\n",
    "# Iterate over the edges once more: if the is_bothDirection is 1.0, add the edge in the opposite direction\n",
    "for index, row in iggielgn_pipesegments.iterrows():\n",
    "    if row['is_bothDirection'] == 1.0:\n",
    "        G_multi_directed.add_edge(row['to_node_id'], row['from_node_id'], **dict(row))"
   ]
  },
  {
   "cell_type": "code",
   "execution_count": null,
   "metadata": {},
   "outputs": [],
   "source": [
    "# Plot the nodes on the map\n",
    "fig, ax = plt.subplots(figsize=(16, 16))\n",
    "\n",
    "# Use BaseMap to underlay a map of Europe\n",
    "m = Basemap(projection='merc', llcrnrlat=30, urcrnrlat=70, llcrnrlon=-15, urcrnrlon=80, resolution='l')\n",
    "m.drawcoastlines()\n",
    "m.drawcountries()\n",
    "m.fillcontinents(color='lightgray')\n",
    "\n",
    "# Plot the nodes, and color based on the type\n",
    "for row in iggielgn_nodes.itertuples():\n",
    "    x, y = m(row.long, row.lat)\n",
    "    if 'consumer' in row.type or 'storage' in row.type:    \n",
    "        m.plot(x, y, 'ro', markersize=4)\n",
    "    if 'production' in row.type or 'lng' in row.type:\n",
    "        m.plot(x, y, 'go', markersize=4)\n",
    "    \n",
    "plt.plot([], [], 'ro', label='Sinks')\n",
    "plt.plot([], [], 'go', label='Sources')\n",
    "plt.legend(loc='upper right', fontsize=20)\n",
    "\n",
    "# Save the figure\n",
    "plt.savefig('latex_figures/iggielgn_nodes_sources_sinks_component_based.png', bbox_inches='tight')\n",
    "\n",
    "plt.show()"
   ]
  },
  {
   "cell_type": "code",
   "execution_count": null,
   "metadata": {},
   "outputs": [],
   "source": [
    "# Plot the nodes of the network: if the node has indegree = 0, mark it green (source), if outdegree = 0, mark it red (sink)\n",
    "fig, ax = plt.subplots(figsize=(16, 16))\n",
    "\n",
    "# Use BaseMap to underlay a map of Europe\n",
    "m = Basemap(projection='merc', llcrnrlat=30, urcrnrlat=70, llcrnrlon=-15, urcrnrlon=80, resolution='l')\n",
    "m.drawcoastlines()\n",
    "m.drawcountries()\n",
    "m.fillcontinents(color='lightgray')\n",
    "\n",
    "# Plot the nodes, and color based on the type\n",
    "for row in iggielgn_nodes.itertuples():\n",
    "    x, y = m(row.long, row.lat)\n",
    "    if G_multi_directed.in_degree(row.id) == 0:\n",
    "        m.plot(x, y, 'go', markersize=4)\n",
    "    if G_multi_directed.out_degree(row.id) == 0:\n",
    "        m.plot(x, y, 'ro', markersize=4)\n",
    "\n",
    "# Save the figure\n",
    "plt.savefig('latex_figures/iggielgn_nodes_sources_sinks_degree_based.png', bbox_inches='tight')\n",
    "\n",
    "plt.show()"
   ]
  },
  {
   "cell_type": "markdown",
   "metadata": {},
   "source": [
    "# Defining sinks and sources"
   ]
  },
  {
   "cell_type": "code",
   "execution_count": null,
   "metadata": {},
   "outputs": [],
   "source": [
    "# Give the nodes a new attribute, 'flow_type', which can be either 'sink', 'source' or 'transit'\n",
    "\n",
    "# First, set all nodes to transit\n",
    "for node in G_multi_directed.nodes():\n",
    "    G_multi_directed.nodes[node]['flow_type'] = 'transit'\n",
    "\n",
    "# Then, set the nodes that are consumers to sink\n",
    "for node in iggielgn_consumers['node_id']:\n",
    "    G_multi_directed.nodes[node]['flow_type'] = 'sink'\n",
    "\n",
    "# Set the nodes with type 'storage' to sink\n",
    "for node in G_multi_directed.nodes():\n",
    "    if 'storage' in G_multi_directed.nodes[node]['type']:\n",
    "        G_multi_directed.nodes[node]['flow_type'] = 'sink'\n",
    "\n",
    "# Then, set the nodes that are productions to source\n",
    "for node in iggielgn_productions['node_id']:\n",
    "    G_multi_directed.nodes[node]['flow_type'] = 'source'\n",
    "\n",
    "# Set the nodes with type 'lng' to source\n",
    "for node in G_multi_directed.nodes():\n",
    "    if 'lng' in G_multi_directed.nodes[node]['type']:\n",
    "        G_multi_directed.nodes[node]['flow_type'] = 'source'\n",
    "\n",
    "# Then, set the nodes that are in Norway with in-degree 0 to source\n",
    "for node in G_multi_directed.nodes():\n",
    "    if G_multi_directed.nodes[node]['country_code'] == 'NO' and G_multi_directed.in_degree(node) == 0:\n",
    "        G_multi_directed.nodes[node]['flow_type'] = 'source'\n",
    "\n",
    "# Then, set the nodes that are in Russia with in-degree 0 to source\n",
    "for node in G_multi_directed.nodes():\n",
    "    if G_multi_directed.nodes[node]['country_code'] == 'RU' and G_multi_directed.in_degree(node) == 0:\n",
    "        G_multi_directed.nodes[node]['flow_type'] = 'source'\n",
    "\n",
    "# Then, set the nodes that are in Algeria with in-degree 0 to source\n",
    "for node in G_multi_directed.nodes():\n",
    "    if G_multi_directed.nodes[node]['country_code'] == 'DZ' and G_multi_directed.in_degree(node) == 0:\n",
    "        G_multi_directed.nodes[node]['flow_type'] = 'source'\n",
    "\n",
    "# Then, set the nodes that are in Libya with in-degree 0 to source\n",
    "for node in G_multi_directed.nodes():\n",
    "    if G_multi_directed.nodes[node]['country_code'] == 'LY' and G_multi_directed.in_degree(node) == 0:\n",
    "        G_multi_directed.nodes[node]['flow_type'] = 'source'"
   ]
  },
  {
   "cell_type": "code",
   "execution_count": null,
   "metadata": {},
   "outputs": [],
   "source": [
    "# Plot the nodes of the network, coloring each node basedd on its 'flow_type' attribute\n",
    "fig, ax = plt.subplots(figsize=(16, 16))\n",
    "\n",
    "# Use BaseMap to underlay a map of Europe\n",
    "m = Basemap(projection='merc', llcrnrlat=30, urcrnrlat=70, llcrnrlon=-15, urcrnrlon=80, resolution='l')\n",
    "m.drawcoastlines()\n",
    "m.drawcountries()\n",
    "m.fillcontinents(color='lightgray')\n",
    "\n",
    "# Plot the nodes, and color based on the flow_type\n",
    "for node in G_multi_directed.nodes(data=True):\n",
    "    x, y = m(node[1]['long'], node[1]['lat'])\n",
    "    if node[1]['flow_type'] == 'source':\n",
    "        m.plot(x, y, 'go', markersize=4)\n",
    "    if node[1]['flow_type'] == 'sink':\n",
    "        m.plot(x, y, 'ro', markersize=4)\n",
    "    # if node[1]['flow_type'] == 'transit':\n",
    "    #     m.plot(x, y, 'bo', markersize=4)\n",
    "\n",
    "# Add legend\n",
    "plt.plot([], [], 'go', label='Source')\n",
    "plt.plot([], [], 'ro', label='Sink')\n",
    "# plt.plot([], [], 'bo', label='Transit')\n",
    "plt.legend(loc='upper right', fontsize=20)\n",
    "\n",
    "plt.savefig('latex_figures/iggielgn_sinks_sources.png', bbox_inches='tight')\n",
    "\n",
    "plt.show()\n"
   ]
  },
  {
   "cell_type": "markdown",
   "metadata": {},
   "source": [
    "# Saving graph-versions"
   ]
  },
  {
   "cell_type": "code",
   "execution_count": null,
   "metadata": {},
   "outputs": [],
   "source": [
    "# Create a simple directed graph, a multi undirected graph, and a simple undirected graph from the directed multigraph\n",
    "\n",
    "# Aggregating the edges with the same from_node_id and to_node_id, and aggregating the capacity attribute of the edges\n",
    "G_simple_directed = nx.DiGraph()\n",
    "for from_node in G_multi_directed.nodes:\n",
    "    for to_node in G_multi_directed.nodes:\n",
    "        if G_multi_directed.has_edge(from_node, to_node):\n",
    "            edge_attrs = G_multi_directed[from_node][to_node][0]\n",
    "            if G_simple_directed.has_edge(from_node, to_node):\n",
    "                G_simple_directed[from_node][to_node]['max_cap_M_m3_per_d'] += edge_attrs['max_cap_M_m3_per_d']\n",
    "            else:\n",
    "                G_simple_directed.add_node(from_node, **G_multi_directed.nodes[from_node])\n",
    "                G_simple_directed.add_node(to_node, **G_multi_directed.nodes[to_node])\n",
    "                G_simple_directed.add_edge(from_node, to_node, name=edge_attrs['name'], max_cap_M_m3_per_d=edge_attrs['max_cap_M_m3_per_d'], length_km=edge_attrs['length_km'], diameter_mm=edge_attrs['diameter_mm'], is_H_gas=edge_attrs['is_H_gas'], is_bothDirection=edge_attrs['is_bothDirection'], start_year=edge_attrs['start_year'], end_year=edge_attrs['end_year'], from_country_code=edge_attrs['from_country_code'], to_country_code=edge_attrs['to_country_code'])\n",
    "\n",
    "G_multi_undirected = nx.MultiGraph(G_multi_directed)\n",
    "G_simple_undirected = nx.Graph(G_multi_directed)"
   ]
  },
  {
   "cell_type": "code",
   "execution_count": null,
   "metadata": {},
   "outputs": [],
   "source": [
    "# Saving the multi di-graph to a pickle file\n",
    "with open('graph_objects/G_multi_directed_iggielgn.pickle', 'wb') as file:\n",
    "    dill.dump(G_multi_directed, file)\n",
    "\n",
    "# Saving the simple di-graph to a pickle file\n",
    "with open('graph_objects/G_simple_directed_iggielgn.pickle', 'wb') as file:\n",
    "    dill.dump(G_simple_directed, file)\n",
    "\n",
    "# Saving the multi un-graph to a pickle file\n",
    "with open('graph_objects/G_multi_undirected_iggielgn.pickle', 'wb') as file:\n",
    "    dill.dump(G_multi_undirected, file)\n",
    "\n",
    "# Saving the simple un-graph to a pickle file\n",
    "with open('graph_objects/G_simple_undirected_iggielgn.pickle', 'wb') as file:\n",
    "    dill.dump(G_simple_undirected, file)"
   ]
  },
  {
   "cell_type": "markdown",
   "metadata": {},
   "source": [
    "# Plotting the graph"
   ]
  },
  {
   "cell_type": "code",
   "execution_count": null,
   "metadata": {},
   "outputs": [],
   "source": [
    "# Plot the graph\n",
    "fig, ax = plt.subplots(figsize=(16, 16))\n",
    "\n",
    "# Use BaseMap to underlay a map of Europe\n",
    "m = Basemap(projection='merc', llcrnrlat=30, urcrnrlat=70, llcrnrlon=-15, urcrnrlon=80, resolution='l')\n",
    "m.drawcoastlines()\n",
    "m.drawcountries()\n",
    "m.fillcontinents(color='lightgray')\n",
    "\n",
    "# Plot the edges\n",
    "for edge in G_multi_directed.edges():\n",
    "    node1 = G_multi_directed.nodes[edge[0]]\n",
    "    node2 = G_multi_directed.nodes[edge[1]]\n",
    "    x1, y1 = m(node1['long'], node1['lat'])\n",
    "    x2, y2 = m(node2['long'], node2['lat'])\n",
    "    m.plot([x1, x2], [y1, y2], 'k-')\n",
    "\n",
    "plt.savefig('latex_figures/iggielgn_pipelines.png')\n",
    "\n",
    "plt.show()"
   ]
  }
 ],
 "metadata": {
  "kernelspec": {
   "display_name": "venv",
   "language": "python",
   "name": "python3"
  },
  "language_info": {
   "codemirror_mode": {
    "name": "ipython",
    "version": 3
   },
   "file_extension": ".py",
   "mimetype": "text/x-python",
   "name": "python",
   "nbconvert_exporter": "python",
   "pygments_lexer": "ipython3",
   "version": "3.9.13"
  }
 },
 "nbformat": 4,
 "nbformat_minor": 2
}
