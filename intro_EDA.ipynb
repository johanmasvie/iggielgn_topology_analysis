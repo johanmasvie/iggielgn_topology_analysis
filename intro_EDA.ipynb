{
 "cells": [
  {
   "cell_type": "code",
   "execution_count": 1,
   "metadata": {},
   "outputs": [
    {
     "data": {
      "text/html": [
       "<div>\n",
       "<style scoped>\n",
       "    .dataframe tbody tr th:only-of-type {\n",
       "        vertical-align: middle;\n",
       "    }\n",
       "\n",
       "    .dataframe tbody tr th {\n",
       "        vertical-align: top;\n",
       "    }\n",
       "\n",
       "    .dataframe thead th {\n",
       "        text-align: right;\n",
       "    }\n",
       "</style>\n",
       "<table border=\"1\" class=\"dataframe\">\n",
       "  <thead>\n",
       "    <tr style=\"text-align: right;\">\n",
       "      <th></th>\n",
       "      <th>Borderpoint</th>\n",
       "      <th>Exit</th>\n",
       "      <th>Unnamed: 2</th>\n",
       "      <th>Entry</th>\n",
       "      <th>MAXFLOW (Mm3/h)</th>\n",
       "      <th>Oct-08</th>\n",
       "      <th>Nov-08</th>\n",
       "      <th>Dec-08</th>\n",
       "      <th>Jan-09</th>\n",
       "      <th>Feb-09</th>\n",
       "      <th>...</th>\n",
       "      <th>Jan-23</th>\n",
       "      <th>Feb-23</th>\n",
       "      <th>Mar-23</th>\n",
       "      <th>Apr-23</th>\n",
       "      <th>May-23</th>\n",
       "      <th>Jun-23</th>\n",
       "      <th>Jul-23</th>\n",
       "      <th>Aug-23</th>\n",
       "      <th>Sep-23</th>\n",
       "      <th>Oct-23</th>\n",
       "    </tr>\n",
       "  </thead>\n",
       "  <tbody>\n",
       "    <tr>\n",
       "      <th>0</th>\n",
       "      <td>Adriatic LNG</td>\n",
       "      <td>Liquefied Natural Gas</td>\n",
       "      <td>--&gt;</td>\n",
       "      <td>Italy</td>\n",
       "      <td>1.10</td>\n",
       "      <td>0</td>\n",
       "      <td>0</td>\n",
       "      <td>0</td>\n",
       "      <td>0</td>\n",
       "      <td>0</td>\n",
       "      <td>...</td>\n",
       "      <td>687.0</td>\n",
       "      <td>654.0</td>\n",
       "      <td>850.0</td>\n",
       "      <td>714.0</td>\n",
       "      <td>809.0</td>\n",
       "      <td>620.0</td>\n",
       "      <td>823.0</td>\n",
       "      <td>693.0</td>\n",
       "      <td>754.0</td>\n",
       "      <td>745.0</td>\n",
       "    </tr>\n",
       "    <tr>\n",
       "      <th>1</th>\n",
       "      <td>Almeria</td>\n",
       "      <td>Algeria</td>\n",
       "      <td>--&gt;</td>\n",
       "      <td>Spain</td>\n",
       "      <td>1.07</td>\n",
       "      <td>0</td>\n",
       "      <td>0</td>\n",
       "      <td>0</td>\n",
       "      <td>0</td>\n",
       "      <td>0</td>\n",
       "      <td>...</td>\n",
       "      <td>760.0</td>\n",
       "      <td>659.0</td>\n",
       "      <td>569.0</td>\n",
       "      <td>619.0</td>\n",
       "      <td>698.0</td>\n",
       "      <td>448.0</td>\n",
       "      <td>767.0</td>\n",
       "      <td>696.0</td>\n",
       "      <td>709.0</td>\n",
       "      <td>863.0</td>\n",
       "    </tr>\n",
       "    <tr>\n",
       "      <th>2</th>\n",
       "      <td>Alveringem</td>\n",
       "      <td>Belgium</td>\n",
       "      <td>--&gt;</td>\n",
       "      <td>France</td>\n",
       "      <td>NaN</td>\n",
       "      <td>0</td>\n",
       "      <td>0</td>\n",
       "      <td>0</td>\n",
       "      <td>0</td>\n",
       "      <td>0</td>\n",
       "      <td>...</td>\n",
       "      <td>0.0</td>\n",
       "      <td>0.0</td>\n",
       "      <td>0.0</td>\n",
       "      <td>0.0</td>\n",
       "      <td>0.0</td>\n",
       "      <td>0.0</td>\n",
       "      <td>0.0</td>\n",
       "      <td>0.0</td>\n",
       "      <td>0.0</td>\n",
       "      <td>0.0</td>\n",
       "    </tr>\n",
       "    <tr>\n",
       "      <th>3</th>\n",
       "      <td>Alveringem</td>\n",
       "      <td>France</td>\n",
       "      <td>--&gt;</td>\n",
       "      <td>Belgium</td>\n",
       "      <td>0.37</td>\n",
       "      <td>0</td>\n",
       "      <td>0</td>\n",
       "      <td>0</td>\n",
       "      <td>0</td>\n",
       "      <td>0</td>\n",
       "      <td>...</td>\n",
       "      <td>644.0</td>\n",
       "      <td>616.0</td>\n",
       "      <td>185.0</td>\n",
       "      <td>240.0</td>\n",
       "      <td>392.0</td>\n",
       "      <td>396.0</td>\n",
       "      <td>195.0</td>\n",
       "      <td>50.0</td>\n",
       "      <td>394.0</td>\n",
       "      <td>371.0</td>\n",
       "    </tr>\n",
       "    <tr>\n",
       "      <th>4</th>\n",
       "      <td>Badajoz</td>\n",
       "      <td>Portugal</td>\n",
       "      <td>--&gt;</td>\n",
       "      <td>Spain</td>\n",
       "      <td>0.30</td>\n",
       "      <td>0</td>\n",
       "      <td>0</td>\n",
       "      <td>0</td>\n",
       "      <td>0</td>\n",
       "      <td>12</td>\n",
       "      <td>...</td>\n",
       "      <td>54.0</td>\n",
       "      <td>0.0</td>\n",
       "      <td>4.0</td>\n",
       "      <td>91.0</td>\n",
       "      <td>139.0</td>\n",
       "      <td>84.0</td>\n",
       "      <td>44.0</td>\n",
       "      <td>25.0</td>\n",
       "      <td>19.0</td>\n",
       "      <td>27.0</td>\n",
       "    </tr>\n",
       "  </tbody>\n",
       "</table>\n",
       "<p>5 rows × 186 columns</p>\n",
       "</div>"
      ],
      "text/plain": [
       "    Borderpoint                   Exit Unnamed: 2    Entry  MAXFLOW (Mm3/h)  \\\n",
       "0  Adriatic LNG  Liquefied Natural Gas        -->    Italy             1.10   \n",
       "1       Almeria                Algeria        -->    Spain             1.07   \n",
       "2    Alveringem                Belgium        -->   France              NaN   \n",
       "3    Alveringem                 France        -->  Belgium             0.37   \n",
       "4       Badajoz               Portugal        -->    Spain             0.30   \n",
       "\n",
       "   Oct-08  Nov-08  Dec-08  Jan-09  Feb-09  ...  Jan-23  Feb-23  Mar-23  \\\n",
       "0       0       0       0       0       0  ...   687.0   654.0   850.0   \n",
       "1       0       0       0       0       0  ...   760.0   659.0   569.0   \n",
       "2       0       0       0       0       0  ...     0.0     0.0     0.0   \n",
       "3       0       0       0       0       0  ...   644.0   616.0   185.0   \n",
       "4       0       0       0       0      12  ...    54.0     0.0     4.0   \n",
       "\n",
       "   Apr-23  May-23  Jun-23  Jul-23  Aug-23  Sep-23  Oct-23  \n",
       "0   714.0   809.0   620.0   823.0   693.0   754.0   745.0  \n",
       "1   619.0   698.0   448.0   767.0   696.0   709.0   863.0  \n",
       "2     0.0     0.0     0.0     0.0     0.0     0.0     0.0  \n",
       "3   240.0   392.0   396.0   195.0    50.0   394.0   371.0  \n",
       "4    91.0   139.0    84.0    44.0    25.0    19.0    27.0  \n",
       "\n",
       "[5 rows x 186 columns]"
      ]
     },
     "execution_count": 1,
     "metadata": {},
     "output_type": "execute_result"
    }
   ],
   "source": [
    "import pandas as pd\n",
    "import networkx as nx\n",
    "import matplotlib.pyplot as plt\n",
    "import seaborn as sns\n",
    "\n",
    "import utils\n",
    "\n",
    "# Read data\n",
    "df = pd.read_csv('./Data/Gas_Trade_Flows_IEA_202310 - Data.csv')\n",
    "df.head()"
   ]
  },
  {
   "cell_type": "markdown",
   "metadata": {},
   "source": [
    "### Process data"
   ]
  },
  {
   "cell_type": "code",
   "execution_count": 2,
   "metadata": {},
   "outputs": [
    {
     "data": {
      "text/html": [
       "<div>\n",
       "<style scoped>\n",
       "    .dataframe tbody tr th:only-of-type {\n",
       "        vertical-align: middle;\n",
       "    }\n",
       "\n",
       "    .dataframe tbody tr th {\n",
       "        vertical-align: top;\n",
       "    }\n",
       "\n",
       "    .dataframe thead th {\n",
       "        text-align: right;\n",
       "    }\n",
       "</style>\n",
       "<table border=\"1\" class=\"dataframe\">\n",
       "  <thead>\n",
       "    <tr style=\"text-align: right;\">\n",
       "      <th></th>\n",
       "      <th>Borderpoint</th>\n",
       "      <th>Exit</th>\n",
       "      <th>Entry</th>\n",
       "      <th>MAXFLOW (Mm3/h)</th>\n",
       "      <th>Oct-08</th>\n",
       "      <th>Nov-08</th>\n",
       "      <th>Dec-08</th>\n",
       "      <th>Jan-09</th>\n",
       "      <th>Feb-09</th>\n",
       "      <th>Mar-09</th>\n",
       "      <th>...</th>\n",
       "      <th>Jan-23</th>\n",
       "      <th>Feb-23</th>\n",
       "      <th>Mar-23</th>\n",
       "      <th>Apr-23</th>\n",
       "      <th>May-23</th>\n",
       "      <th>Jun-23</th>\n",
       "      <th>Jul-23</th>\n",
       "      <th>Aug-23</th>\n",
       "      <th>Sep-23</th>\n",
       "      <th>Oct-23</th>\n",
       "    </tr>\n",
       "  </thead>\n",
       "  <tbody>\n",
       "    <tr>\n",
       "      <th>0</th>\n",
       "      <td>Adriatic LNG</td>\n",
       "      <td>Liquefied Natural Gas</td>\n",
       "      <td>Italy</td>\n",
       "      <td>1.10</td>\n",
       "      <td>0</td>\n",
       "      <td>0</td>\n",
       "      <td>0</td>\n",
       "      <td>0</td>\n",
       "      <td>0</td>\n",
       "      <td>0</td>\n",
       "      <td>...</td>\n",
       "      <td>687.0</td>\n",
       "      <td>654.0</td>\n",
       "      <td>850.0</td>\n",
       "      <td>714.0</td>\n",
       "      <td>809.0</td>\n",
       "      <td>620.0</td>\n",
       "      <td>823.0</td>\n",
       "      <td>693.0</td>\n",
       "      <td>754.0</td>\n",
       "      <td>745.0</td>\n",
       "    </tr>\n",
       "    <tr>\n",
       "      <th>1</th>\n",
       "      <td>Almeria</td>\n",
       "      <td>Algeria</td>\n",
       "      <td>Spain</td>\n",
       "      <td>1.07</td>\n",
       "      <td>0</td>\n",
       "      <td>0</td>\n",
       "      <td>0</td>\n",
       "      <td>0</td>\n",
       "      <td>0</td>\n",
       "      <td>0</td>\n",
       "      <td>...</td>\n",
       "      <td>760.0</td>\n",
       "      <td>659.0</td>\n",
       "      <td>569.0</td>\n",
       "      <td>619.0</td>\n",
       "      <td>698.0</td>\n",
       "      <td>448.0</td>\n",
       "      <td>767.0</td>\n",
       "      <td>696.0</td>\n",
       "      <td>709.0</td>\n",
       "      <td>863.0</td>\n",
       "    </tr>\n",
       "    <tr>\n",
       "      <th>2</th>\n",
       "      <td>Alveringem</td>\n",
       "      <td>Belgium</td>\n",
       "      <td>France</td>\n",
       "      <td>NaN</td>\n",
       "      <td>0</td>\n",
       "      <td>0</td>\n",
       "      <td>0</td>\n",
       "      <td>0</td>\n",
       "      <td>0</td>\n",
       "      <td>0</td>\n",
       "      <td>...</td>\n",
       "      <td>0.0</td>\n",
       "      <td>0.0</td>\n",
       "      <td>0.0</td>\n",
       "      <td>0.0</td>\n",
       "      <td>0.0</td>\n",
       "      <td>0.0</td>\n",
       "      <td>0.0</td>\n",
       "      <td>0.0</td>\n",
       "      <td>0.0</td>\n",
       "      <td>0.0</td>\n",
       "    </tr>\n",
       "    <tr>\n",
       "      <th>3</th>\n",
       "      <td>Alveringem</td>\n",
       "      <td>France</td>\n",
       "      <td>Belgium</td>\n",
       "      <td>0.37</td>\n",
       "      <td>0</td>\n",
       "      <td>0</td>\n",
       "      <td>0</td>\n",
       "      <td>0</td>\n",
       "      <td>0</td>\n",
       "      <td>0</td>\n",
       "      <td>...</td>\n",
       "      <td>644.0</td>\n",
       "      <td>616.0</td>\n",
       "      <td>185.0</td>\n",
       "      <td>240.0</td>\n",
       "      <td>392.0</td>\n",
       "      <td>396.0</td>\n",
       "      <td>195.0</td>\n",
       "      <td>50.0</td>\n",
       "      <td>394.0</td>\n",
       "      <td>371.0</td>\n",
       "    </tr>\n",
       "    <tr>\n",
       "      <th>4</th>\n",
       "      <td>Badajoz</td>\n",
       "      <td>Portugal</td>\n",
       "      <td>Spain</td>\n",
       "      <td>0.30</td>\n",
       "      <td>0</td>\n",
       "      <td>0</td>\n",
       "      <td>0</td>\n",
       "      <td>0</td>\n",
       "      <td>12</td>\n",
       "      <td>2</td>\n",
       "      <td>...</td>\n",
       "      <td>54.0</td>\n",
       "      <td>0.0</td>\n",
       "      <td>4.0</td>\n",
       "      <td>91.0</td>\n",
       "      <td>139.0</td>\n",
       "      <td>84.0</td>\n",
       "      <td>44.0</td>\n",
       "      <td>25.0</td>\n",
       "      <td>19.0</td>\n",
       "      <td>27.0</td>\n",
       "    </tr>\n",
       "  </tbody>\n",
       "</table>\n",
       "<p>5 rows × 185 columns</p>\n",
       "</div>"
      ],
      "text/plain": [
       "    Borderpoint                   Exit    Entry  MAXFLOW (Mm3/h)  Oct-08  \\\n",
       "0  Adriatic LNG  Liquefied Natural Gas    Italy             1.10       0   \n",
       "1       Almeria                Algeria    Spain             1.07       0   \n",
       "2    Alveringem                Belgium   France              NaN       0   \n",
       "3    Alveringem                 France  Belgium             0.37       0   \n",
       "4       Badajoz               Portugal    Spain             0.30       0   \n",
       "\n",
       "   Nov-08  Dec-08  Jan-09  Feb-09  Mar-09  ...  Jan-23  Feb-23  Mar-23  \\\n",
       "0       0       0       0       0       0  ...   687.0   654.0   850.0   \n",
       "1       0       0       0       0       0  ...   760.0   659.0   569.0   \n",
       "2       0       0       0       0       0  ...     0.0     0.0     0.0   \n",
       "3       0       0       0       0       0  ...   644.0   616.0   185.0   \n",
       "4       0       0       0      12       2  ...    54.0     0.0     4.0   \n",
       "\n",
       "   Apr-23  May-23  Jun-23  Jul-23  Aug-23  Sep-23  Oct-23  \n",
       "0   714.0   809.0   620.0   823.0   693.0   754.0   745.0  \n",
       "1   619.0   698.0   448.0   767.0   696.0   709.0   863.0  \n",
       "2     0.0     0.0     0.0     0.0     0.0     0.0     0.0  \n",
       "3   240.0   392.0   396.0   195.0    50.0   394.0   371.0  \n",
       "4    91.0   139.0    84.0    44.0    25.0    19.0    27.0  \n",
       "\n",
       "[5 rows x 185 columns]"
      ]
     },
     "execution_count": 2,
     "metadata": {},
     "output_type": "execute_result"
    }
   ],
   "source": [
    "# Drop the unnamed column\n",
    "df = df.drop(columns=['Unnamed: 2'])\n",
    "df.head()"
   ]
  },
  {
   "cell_type": "code",
   "execution_count": 3,
   "metadata": {},
   "outputs": [],
   "source": [
    "# Remove the columns with flow data beteen Oct-08 and Aug-09\n",
    "df = df.drop(columns=['Oct-08', 'Nov-08', 'Dec-08', 'Jan-09', 'Feb-09', 'Mar-09', 'Apr-09', 'May-09', 'Jun-09', 'Jul-09', 'Aug-09', 'Sep-09', 'Oct-09', 'Nov-09', 'Dec-09'])"
   ]
  },
  {
   "cell_type": "code",
   "execution_count": 4,
   "metadata": {},
   "outputs": [
    {
     "data": {
      "text/html": [
       "<div>\n",
       "<style scoped>\n",
       "    .dataframe tbody tr th:only-of-type {\n",
       "        vertical-align: middle;\n",
       "    }\n",
       "\n",
       "    .dataframe tbody tr th {\n",
       "        vertical-align: top;\n",
       "    }\n",
       "\n",
       "    .dataframe thead th {\n",
       "        text-align: right;\n",
       "    }\n",
       "</style>\n",
       "<table border=\"1\" class=\"dataframe\">\n",
       "  <thead>\n",
       "    <tr style=\"text-align: right;\">\n",
       "      <th></th>\n",
       "      <th>Borderpoint</th>\n",
       "      <th>Exit</th>\n",
       "      <th>Entry</th>\n",
       "      <th>MAXFLOW (Mm3/h)</th>\n",
       "      <th>Jan-10</th>\n",
       "      <th>Feb-10</th>\n",
       "      <th>Mar-10</th>\n",
       "      <th>Apr-10</th>\n",
       "      <th>May-10</th>\n",
       "      <th>Jun-10</th>\n",
       "      <th>...</th>\n",
       "      <th>Jan-23</th>\n",
       "      <th>Feb-23</th>\n",
       "      <th>Mar-23</th>\n",
       "      <th>Apr-23</th>\n",
       "      <th>May-23</th>\n",
       "      <th>Jun-23</th>\n",
       "      <th>Jul-23</th>\n",
       "      <th>Aug-23</th>\n",
       "      <th>Sep-23</th>\n",
       "      <th>Oct-23</th>\n",
       "    </tr>\n",
       "  </thead>\n",
       "  <tbody>\n",
       "    <tr>\n",
       "      <th>0</th>\n",
       "      <td>Adriatic LNG</td>\n",
       "      <td>Liquefied Natural Gas</td>\n",
       "      <td>Italy</td>\n",
       "      <td>1.10</td>\n",
       "      <td>602</td>\n",
       "      <td>581</td>\n",
       "      <td>657</td>\n",
       "      <td>622</td>\n",
       "      <td>608</td>\n",
       "      <td>439</td>\n",
       "      <td>...</td>\n",
       "      <td>687.0</td>\n",
       "      <td>654.0</td>\n",
       "      <td>850.0</td>\n",
       "      <td>714.0</td>\n",
       "      <td>809.0</td>\n",
       "      <td>620.0</td>\n",
       "      <td>823.0</td>\n",
       "      <td>693.0</td>\n",
       "      <td>754.0</td>\n",
       "      <td>745.0</td>\n",
       "    </tr>\n",
       "    <tr>\n",
       "      <th>1</th>\n",
       "      <td>Almeria</td>\n",
       "      <td>Algeria</td>\n",
       "      <td>Spain</td>\n",
       "      <td>1.07</td>\n",
       "      <td>0</td>\n",
       "      <td>0</td>\n",
       "      <td>0</td>\n",
       "      <td>0</td>\n",
       "      <td>0</td>\n",
       "      <td>0</td>\n",
       "      <td>...</td>\n",
       "      <td>760.0</td>\n",
       "      <td>659.0</td>\n",
       "      <td>569.0</td>\n",
       "      <td>619.0</td>\n",
       "      <td>698.0</td>\n",
       "      <td>448.0</td>\n",
       "      <td>767.0</td>\n",
       "      <td>696.0</td>\n",
       "      <td>709.0</td>\n",
       "      <td>863.0</td>\n",
       "    </tr>\n",
       "    <tr>\n",
       "      <th>2</th>\n",
       "      <td>Alveringem</td>\n",
       "      <td>Belgium</td>\n",
       "      <td>France</td>\n",
       "      <td>NaN</td>\n",
       "      <td>0</td>\n",
       "      <td>0</td>\n",
       "      <td>0</td>\n",
       "      <td>0</td>\n",
       "      <td>0</td>\n",
       "      <td>0</td>\n",
       "      <td>...</td>\n",
       "      <td>0.0</td>\n",
       "      <td>0.0</td>\n",
       "      <td>0.0</td>\n",
       "      <td>0.0</td>\n",
       "      <td>0.0</td>\n",
       "      <td>0.0</td>\n",
       "      <td>0.0</td>\n",
       "      <td>0.0</td>\n",
       "      <td>0.0</td>\n",
       "      <td>0.0</td>\n",
       "    </tr>\n",
       "    <tr>\n",
       "      <th>3</th>\n",
       "      <td>Alveringem</td>\n",
       "      <td>France</td>\n",
       "      <td>Belgium</td>\n",
       "      <td>0.37</td>\n",
       "      <td>0</td>\n",
       "      <td>0</td>\n",
       "      <td>0</td>\n",
       "      <td>0</td>\n",
       "      <td>0</td>\n",
       "      <td>0</td>\n",
       "      <td>...</td>\n",
       "      <td>644.0</td>\n",
       "      <td>616.0</td>\n",
       "      <td>185.0</td>\n",
       "      <td>240.0</td>\n",
       "      <td>392.0</td>\n",
       "      <td>396.0</td>\n",
       "      <td>195.0</td>\n",
       "      <td>50.0</td>\n",
       "      <td>394.0</td>\n",
       "      <td>371.0</td>\n",
       "    </tr>\n",
       "    <tr>\n",
       "      <th>4</th>\n",
       "      <td>Badajoz</td>\n",
       "      <td>Portugal</td>\n",
       "      <td>Spain</td>\n",
       "      <td>0.30</td>\n",
       "      <td>5</td>\n",
       "      <td>4</td>\n",
       "      <td>2</td>\n",
       "      <td>0</td>\n",
       "      <td>0</td>\n",
       "      <td>0</td>\n",
       "      <td>...</td>\n",
       "      <td>54.0</td>\n",
       "      <td>0.0</td>\n",
       "      <td>4.0</td>\n",
       "      <td>91.0</td>\n",
       "      <td>139.0</td>\n",
       "      <td>84.0</td>\n",
       "      <td>44.0</td>\n",
       "      <td>25.0</td>\n",
       "      <td>19.0</td>\n",
       "      <td>27.0</td>\n",
       "    </tr>\n",
       "  </tbody>\n",
       "</table>\n",
       "<p>5 rows × 170 columns</p>\n",
       "</div>"
      ],
      "text/plain": [
       "    Borderpoint                   Exit    Entry  MAXFLOW (Mm3/h)  Jan-10  \\\n",
       "0  Adriatic LNG  Liquefied Natural Gas    Italy             1.10     602   \n",
       "1       Almeria                Algeria    Spain             1.07       0   \n",
       "2    Alveringem                Belgium   France              NaN       0   \n",
       "3    Alveringem                 France  Belgium             0.37       0   \n",
       "4       Badajoz               Portugal    Spain             0.30       5   \n",
       "\n",
       "   Feb-10  Mar-10  Apr-10  May-10  Jun-10  ...  Jan-23  Feb-23  Mar-23  \\\n",
       "0     581     657     622     608     439  ...   687.0   654.0   850.0   \n",
       "1       0       0       0       0       0  ...   760.0   659.0   569.0   \n",
       "2       0       0       0       0       0  ...     0.0     0.0     0.0   \n",
       "3       0       0       0       0       0  ...   644.0   616.0   185.0   \n",
       "4       4       2       0       0       0  ...    54.0     0.0     4.0   \n",
       "\n",
       "   Apr-23  May-23  Jun-23  Jul-23  Aug-23  Sep-23  Oct-23  \n",
       "0   714.0   809.0   620.0   823.0   693.0   754.0   745.0  \n",
       "1   619.0   698.0   448.0   767.0   696.0   709.0   863.0  \n",
       "2     0.0     0.0     0.0     0.0     0.0     0.0     0.0  \n",
       "3   240.0   392.0   396.0   195.0    50.0   394.0   371.0  \n",
       "4    91.0   139.0    84.0    44.0    25.0    19.0    27.0  \n",
       "\n",
       "[5 rows x 170 columns]"
      ]
     },
     "execution_count": 4,
     "metadata": {},
     "output_type": "execute_result"
    }
   ],
   "source": [
    "# Create a copy of the dataframe and call it country_aggregated_df\n",
    "country_aggregated_df = df.copy()\n",
    "country_aggregated_df.to_csv('./Data/country_aggregated.csv', index=False)\n",
    "country_aggregated_df.head()"
   ]
  },
  {
   "cell_type": "code",
   "execution_count": 5,
   "metadata": {},
   "outputs": [
    {
     "data": {
      "text/plain": [
       "(228, 170)"
      ]
     },
     "execution_count": 5,
     "metadata": {},
     "output_type": "execute_result"
    }
   ],
   "source": [
    "country_aggregated_df.shape"
   ]
  },
  {
   "cell_type": "markdown",
   "metadata": {},
   "source": [
    "### Countries in the data"
   ]
  },
  {
   "cell_type": "code",
   "execution_count": 6,
   "metadata": {},
   "outputs": [
    {
     "name": "stdout",
     "output_type": "stream",
     "text": [
      "Data contains 45 unique countries\n",
      "{'Spain', 'Switzerland', 'Denmark', 'Czech Republic', 'Libya', 'Italy', 'Greece', 'Serbia', 'Poland', 'Netherlands', 'Slovenia', 'Iran', 'Sweden', 'Tunisia', 'Moldova', 'Algeria', 'Belgium', 'Republic of Türkiye', 'Romania', 'United Kingdom', 'Ukraine', 'Norway', 'Austria', 'Lithuania', 'Isle of Man', 'Croatia', 'Not Elsewhere Specified', 'Finland', 'Morocco', 'Bulgaria', 'Liquefied Natural Gas', 'Georgia', 'Ireland', 'Luxembourg', 'North Macedonia', 'Latvia', 'Hungary', 'Slovak Republic', 'Albania', 'Belarus', 'Russia', 'Estonia', 'Germany', 'France', 'Portugal'}\n"
     ]
    }
   ],
   "source": [
    "unique_countries = set(country_aggregated_df['Exit'].unique()) | set(country_aggregated_df['Entry'].unique())\n",
    "\n",
    "print(\"Data contains {} unique countries\".format(len(unique_countries)))\n",
    "print(unique_countries)\n"
   ]
  },
  {
   "cell_type": "code",
   "execution_count": 7,
   "metadata": {},
   "outputs": [
    {
     "name": "stdout",
     "output_type": "stream",
     "text": [
      "Pure exporting countries: {'Libya', 'Algeria', 'Belarus', 'Iran', 'Georgia', 'Not Elsewhere Specified'}\n",
      "Pure importing countries: {'Moldova', 'Ireland', 'Isle of Man', 'Luxembourg', 'Sweden'}\n"
     ]
    }
   ],
   "source": [
    "print(\"Pure exporting countries: {}\".format(set(country_aggregated_df['Exit'].unique()) - set(country_aggregated_df['Entry'].unique())))\n",
    "print(\"Pure importing countries: {}\".format(set(country_aggregated_df['Entry'].unique()) - set(country_aggregated_df['Exit'].unique())))"
   ]
  },
  {
   "cell_type": "code",
   "execution_count": 8,
   "metadata": {},
   "outputs": [
    {
     "data": {
      "image/png": "[encoded data removed]",
      "text/plain": [
       "<Figure size 2160x864 with 1 Axes>"
      ]
     },
     "metadata": {
      "needs_background": "light"
     },
     "output_type": "display_data"
    }
   ],
   "source": [
    "net_flow_df = pd.DataFrame(index=set(country_aggregated_df['Entry'].unique()).union(set(country_aggregated_df['Exit'].unique())))\n",
    "net_flow_df['Net_Flow_Oct_23'] = net_flow_df.index.map(lambda country: country_aggregated_df.loc[country_aggregated_df['Exit'] == country, 'Oct-23'].sum() - country_aggregated_df.loc[country_aggregated_df['Entry'] == country, 'Oct-23'].sum())\n",
    "plt.figure(figsize=(30, 12))\n",
    "net_flow_df.sort_values(by='Net_Flow_Oct_23', inplace=True)\n",
    "plt.bar(net_flow_df.index, net_flow_df['Net_Flow_Oct_23'], color='blue')\n",
    "plt.title('Net Flow for each Country - Oct-23', fontsize=30)\n",
    "plt.yticks(fontsize=20)\n",
    "plt.xticks(rotation=90, fontsize=20)\n",
    "plt.show()\n"
   ]
  },
  {
   "cell_type": "code",
   "execution_count": 9,
   "metadata": {},
   "outputs": [
    {
     "data": {
      "image/png": "[encoded data removed]",
      "text/plain": [
       "<Figure size 2160x864 with 1 Axes>"
      ]
     },
     "metadata": {
      "needs_background": "light"
     },
     "output_type": "display_data"
    }
   ],
   "source": [
    "total_flow_df = pd.DataFrame(index=set(country_aggregated_df['Entry'].unique()).union(set(country_aggregated_df['Exit'].unique())))\n",
    "total_flow_df['Total_Import'] = total_flow_df.index.map(lambda country: country_aggregated_df.loc[country_aggregated_df['Entry'] == country, 'Oct-23'].sum())\n",
    "total_flow_df['Total_Export'] = total_flow_df.index.map(lambda country: country_aggregated_df.loc[country_aggregated_df['Exit'] == country, 'Oct-23'].sum())\n",
    "plt.figure(figsize=(30, 12))\n",
    "total_flow_df.sort_values(by=['Total_Import', 'Total_Export'], ascending=False, inplace=True)\n",
    "plt.bar(total_flow_df.index, total_flow_df['Total_Import'], color='blue', label='Total Import')\n",
    "plt.bar(total_flow_df.index, total_flow_df['Total_Export'], color='red', bottom=total_flow_df['Total_Import'], label='Total Export')\n",
    "plt.title('Total Gas Flow for each Country - Oct-23', fontsize=30)\n",
    "plt.xticks(rotation=90, fontsize=20)\n",
    "plt.yticks(fontsize=20)\n",
    "plt.legend(fontsize=20)\n",
    "plt.show()\n"
   ]
  },
  {
   "cell_type": "code",
   "execution_count": 10,
   "metadata": {},
   "outputs": [],
   "source": [
    "# Retrieve columns with flow data \n",
    "mm_yyyy = df.iloc[:, df.columns.get_loc('Jan-10'):]"
   ]
  },
  {
   "cell_type": "code",
   "execution_count": 11,
   "metadata": {},
   "outputs": [
    {
     "data": {
      "text/plain": [
       "' # Heatmap of NaN values\\nplt.figure(figsize=(30, 8))\\nsns.heatmap(mm_yyyy.isnull(), cmap=\\'viridis\\', cbar_kws={\\'ticks\\': [0, 1], \\'label\\': \\'NaN Values\\'})\\nplt.title(\"Heatmap of NaN values\")\\n '"
      ]
     },
     "execution_count": 11,
     "metadata": {},
     "output_type": "execute_result"
    }
   ],
   "source": [
    "\"\"\" # Heatmap of NaN values\n",
    "plt.figure(figsize=(30, 8))\n",
    "sns.heatmap(mm_yyyy.isnull(), cmap='viridis', cbar_kws={'ticks': [0, 1], 'label': 'NaN Values'})\n",
    "plt.title(\"Heatmap of NaN values\")\n",
    " \"\"\""
   ]
  },
  {
   "cell_type": "code",
   "execution_count": 12,
   "metadata": {},
   "outputs": [
    {
     "data": {
      "text/plain": [
       "' # Heatmap of 0 values\\nplt.figure(figsize=(30, 8))\\nsns.heatmap(mm_yyyy == 0, cmap=\\'viridis\\', cbar_kws={\\'ticks\\': [0, 1], \\'label\\': \\'0 Values\\'})\\nplt.title(\"Heatmap of 0 values\")\\nplt.show() '"
      ]
     },
     "execution_count": 12,
     "metadata": {},
     "output_type": "execute_result"
    }
   ],
   "source": [
    "\"\"\" # Heatmap of 0 values\n",
    "plt.figure(figsize=(30, 8))\n",
    "sns.heatmap(mm_yyyy == 0, cmap='viridis', cbar_kws={'ticks': [0, 1], 'label': '0 Values'})\n",
    "plt.title(\"Heatmap of 0 values\")\n",
    "plt.show() \"\"\""
   ]
  },
  {
   "cell_type": "code",
   "execution_count": 13,
   "metadata": {},
   "outputs": [
    {
     "data": {
      "text/plain": [
       "' # If a pipeline is observed with non-zero flow at some point in time, we \\'keep\\' the pipeline in the grid for subsequent periods (regardless of whether the flow is zero or not)\\n\\nmm_yyyy_copy = mm_yyyy.copy()\\nfor index, row in mm_yyyy_copy.iterrows():\\n    seen_nonzero = False\\n    for col in mm_yyyy_copy.columns:\\n        if row[col] == 0:\\n            if not seen_nonzero:\\n                mm_yyyy_copy.at[index, col] = -1\\n        else:\\n            seen_nonzero = True\\n\\n# Heatmap of 0 values\\nplt.figure(figsize=(30, 8))\\nsns.heatmap(mm_yyyy_copy == -1, cmap=\\'viridis\\', cbar_kws={\\'ticks\\': [0, 1], \\'label\\': \\'0 Values\\'})\\nplt.title(\"Heatmap of 0 values\")\\nplt.show() '"
      ]
     },
     "execution_count": 13,
     "metadata": {},
     "output_type": "execute_result"
    }
   ],
   "source": [
    "\"\"\" # If a pipeline is observed with non-zero flow at some point in time, we 'keep' the pipeline in the grid for subsequent periods (regardless of whether the flow is zero or not)\n",
    "\n",
    "mm_yyyy_copy = mm_yyyy.copy()\n",
    "for index, row in mm_yyyy_copy.iterrows():\n",
    "    seen_nonzero = False\n",
    "    for col in mm_yyyy_copy.columns:\n",
    "        if row[col] == 0:\n",
    "            if not seen_nonzero:\n",
    "                mm_yyyy_copy.at[index, col] = -1\n",
    "        else:\n",
    "            seen_nonzero = True\n",
    "\n",
    "# Heatmap of 0 values\n",
    "plt.figure(figsize=(30, 8))\n",
    "sns.heatmap(mm_yyyy_copy == -1, cmap='viridis', cbar_kws={'ticks': [0, 1], 'label': '0 Values'})\n",
    "plt.title(\"Heatmap of 0 values\")\n",
    "plt.show() \"\"\""
   ]
  },
  {
   "cell_type": "markdown",
   "metadata": {},
   "source": [
    "### Create graph objects of grid per MM-YYYY"
   ]
  },
  {
   "cell_type": "code",
   "execution_count": 14,
   "metadata": {},
   "outputs": [],
   "source": [
    "graphs = utils.create_graphs_from_dataset(country_aggregated_df)"
   ]
  },
  {
   "cell_type": "markdown",
   "metadata": {},
   "source": [
    "### Development of borderpoints"
   ]
  },
  {
   "cell_type": "code",
   "execution_count": 15,
   "metadata": {},
   "outputs": [
    {
     "data": {
      "text/plain": [
       "\"  \\n# NOTE:\\n# If a pipeline is observed with non-zero flow at some point in time, we 'keep' the pipeline \\n# in the grid for subsequent periods (regardless of whether the flow is zero or not)\\n\\n\\nedge_counts_nonzero, edge_counts_zero = [sum(1 for edge in G.edges if G.edges[edge]['flow'] != 0) for G in graphs], [sum(1 for edge in G.edges if G.edges[edge]['flow'] == 0) for G in graphs]\\n\\nplt.figure(figsize=(40, 20))\\nbar_width = 0.35\\n\\nplt.bar(mm_yyyy.columns, edge_counts_nonzero, width=bar_width, label='Nonzero Flow', color='blue')\\nplt.bar(mm_yyyy.columns, edge_counts_zero, width=bar_width, label='Zero Flow', bottom=edge_counts_nonzero, color='red')\\nplt.ylabel('Number of Pipelines', fontsize=20)\\nplt.title('Number of Pipelines in the European Natural Gas Grid, per MM-YYYY', fontsize=30)\\nplt.legend(fontsize=20)\\nplt.yticks(fontsize=20)\\nplt.xticks(range(0, len(mm_yyyy.columns), 4), mm_yyyy.columns[range(0, len(mm_yyyy.columns), 4)], rotation=45, fontsize=20)\\n\\nplt.show()\\n \""
      ]
     },
     "execution_count": 15,
     "metadata": {},
     "output_type": "execute_result"
    }
   ],
   "source": [
    "\"\"\"  \n",
    "# NOTE:\n",
    "# If a pipeline is observed with non-zero flow at some point in time, we 'keep' the pipeline \n",
    "# in the grid for subsequent periods (regardless of whether the flow is zero or not)\n",
    "\n",
    "\n",
    "edge_counts_nonzero, edge_counts_zero = [sum(1 for edge in G.edges if G.edges[edge]['flow'] != 0) for G in graphs], [sum(1 for edge in G.edges if G.edges[edge]['flow'] == 0) for G in graphs]\n",
    "\n",
    "plt.figure(figsize=(40, 20))\n",
    "bar_width = 0.35\n",
    "\n",
    "plt.bar(mm_yyyy.columns, edge_counts_nonzero, width=bar_width, label='Nonzero Flow', color='blue')\n",
    "plt.bar(mm_yyyy.columns, edge_counts_zero, width=bar_width, label='Zero Flow', bottom=edge_counts_nonzero, color='red')\n",
    "plt.ylabel('Number of Pipelines', fontsize=20)\n",
    "plt.title('Number of Pipelines in the European Natural Gas Grid, per MM-YYYY', fontsize=30)\n",
    "plt.legend(fontsize=20)\n",
    "plt.yticks(fontsize=20)\n",
    "plt.xticks(range(0, len(mm_yyyy.columns), 4), mm_yyyy.columns[range(0, len(mm_yyyy.columns), 4)], rotation=45, fontsize=20)\n",
    "\n",
    "plt.show()\n",
    " \"\"\""
   ]
  },
  {
   "cell_type": "code",
   "execution_count": 16,
   "metadata": {},
   "outputs": [
    {
     "data": {
      "text/plain": [
       "\" total_flow = mm_yyyy.sum()\\nplt.figure(figsize=(40, 20))\\nplt.bar(total_flow.index, total_flow.values)\\nplt.ylabel('Volume of Flow (million m3)', fontsize=20)\\nplt.title('Total Volume of Natural Gas Flow in the European natural gas grid, per MM-YYYY', fontsize=30)\\nplt.xticks(range(0, len(mm_yyyy.columns), 4), mm_yyyy.columns[range(0, len(mm_yyyy.columns), 4)], rotation=45, fontsize=20)\\nplt.yticks(fontsize=20)\\nplt.show()\\n \""
      ]
     },
     "execution_count": 16,
     "metadata": {},
     "output_type": "execute_result"
    }
   ],
   "source": [
    "\"\"\" total_flow = mm_yyyy.sum()\n",
    "plt.figure(figsize=(40, 20))\n",
    "plt.bar(total_flow.index, total_flow.values)\n",
    "plt.ylabel('Volume of Flow (million m3)', fontsize=20)\n",
    "plt.title('Total Volume of Natural Gas Flow in the European natural gas grid, per MM-YYYY', fontsize=30)\n",
    "plt.xticks(range(0, len(mm_yyyy.columns), 4), mm_yyyy.columns[range(0, len(mm_yyyy.columns), 4)], rotation=45, fontsize=20)\n",
    "plt.yticks(fontsize=20)\n",
    "plt.show()\n",
    " \"\"\""
   ]
  },
  {
   "cell_type": "code",
   "execution_count": 17,
   "metadata": {},
   "outputs": [
    {
     "data": {
      "text/plain": [
       "\" total_export_by_country = country_aggregated_df.groupby('Exit').sum().reset_index().set_index('Exit')\\nflow_columns = total_export_by_country.columns[total_export_by_country.columns.get_loc('Jan-10'):]\\nplt.figure(figsize=(40, 20))\\ntotal_export_by_country[flow_columns].T.plot(kind='bar', stacked=True, figsize=(40, 20))\\nplt.title('Total Volume of Flow in the European natural gas grid, broken down by exporter, per MM-YYYY', fontsize=30)\\nplt.ylabel('Volume of Flow (million m3)', fontsize=20)\\nplt.xticks(range(0, len(mm_yyyy.columns), 4), mm_yyyy.columns[range(0, len(mm_yyyy.columns), 4)], rotation=45, fontsize=20)\\nplt.yticks(fontsize=20)\\nplt.legend(title='Exporter', loc='upper left', bbox_to_anchor=(1, 1), fontsize=20, title_fontsize=20)\\nplt.show()\\n \""
      ]
     },
     "execution_count": 17,
     "metadata": {},
     "output_type": "execute_result"
    }
   ],
   "source": [
    "\"\"\" total_export_by_country = country_aggregated_df.groupby('Exit').sum().reset_index().set_index('Exit')\n",
    "flow_columns = total_export_by_country.columns[total_export_by_country.columns.get_loc('Jan-10'):]\n",
    "plt.figure(figsize=(40, 20))\n",
    "total_export_by_country[flow_columns].T.plot(kind='bar', stacked=True, figsize=(40, 20))\n",
    "plt.title('Total Volume of Flow in the European natural gas grid, broken down by exporter, per MM-YYYY', fontsize=30)\n",
    "plt.ylabel('Volume of Flow (million m3)', fontsize=20)\n",
    "plt.xticks(range(0, len(mm_yyyy.columns), 4), mm_yyyy.columns[range(0, len(mm_yyyy.columns), 4)], rotation=45, fontsize=20)\n",
    "plt.yticks(fontsize=20)\n",
    "plt.legend(title='Exporter', loc='upper left', bbox_to_anchor=(1, 1), fontsize=20, title_fontsize=20)\n",
    "plt.show()\n",
    " \"\"\""
   ]
  },
  {
   "cell_type": "code",
   "execution_count": 18,
   "metadata": {},
   "outputs": [
    {
     "data": {
      "text/plain": [
       "\" total_export_by_country = country_aggregated_df.groupby('Exit').sum().reset_index().set_index('Exit')\\nflow_columns = total_export_by_country.columns[total_export_by_country.columns.get_loc('Jan-10'):]\\ntop_exporters = total_export_by_country[flow_columns].sum(axis=1).nlargest(15).index\\ntop_exporters_data = total_export_by_country.loc[top_exporters, flow_columns]\\n\\nplt.figure(figsize=(40, 20))\\ntop_exporters_data.T.plot(kind='bar', stacked=True, figsize=(40, 20))\\nplt.title('Volume of Flow in the European natural gas grid, broken down by top 15 exporters, per MM-YYYY', fontsize=30)\\nplt.ylabel('Volume of Flow (million m3)', fontsize=20)\\nplt.xticks(range(0, len(mm_yyyy.columns), 4), mm_yyyy.columns[range(0, len(mm_yyyy.columns), 4)], rotation=45, fontsize=20)\\nplt.yticks(fontsize=20)\\nplt.legend(title='Exporter', loc='upper left', bbox_to_anchor=(1, 1), fontsize=20, title_fontsize=20)\\nplt.show()\\n \""
      ]
     },
     "execution_count": 18,
     "metadata": {},
     "output_type": "execute_result"
    }
   ],
   "source": [
    "\"\"\" total_export_by_country = country_aggregated_df.groupby('Exit').sum().reset_index().set_index('Exit')\n",
    "flow_columns = total_export_by_country.columns[total_export_by_country.columns.get_loc('Jan-10'):]\n",
    "top_exporters = total_export_by_country[flow_columns].sum(axis=1).nlargest(15).index\n",
    "top_exporters_data = total_export_by_country.loc[top_exporters, flow_columns]\n",
    "\n",
    "plt.figure(figsize=(40, 20))\n",
    "top_exporters_data.T.plot(kind='bar', stacked=True, figsize=(40, 20))\n",
    "plt.title('Volume of Flow in the European natural gas grid, broken down by top 15 exporters, per MM-YYYY', fontsize=30)\n",
    "plt.ylabel('Volume of Flow (million m3)', fontsize=20)\n",
    "plt.xticks(range(0, len(mm_yyyy.columns), 4), mm_yyyy.columns[range(0, len(mm_yyyy.columns), 4)], rotation=45, fontsize=20)\n",
    "plt.yticks(fontsize=20)\n",
    "plt.legend(title='Exporter', loc='upper left', bbox_to_anchor=(1, 1), fontsize=20, title_fontsize=20)\n",
    "plt.show()\n",
    " \"\"\""
   ]
  },
  {
   "cell_type": "code",
   "execution_count": 19,
   "metadata": {},
   "outputs": [
    {
     "data": {
      "text/plain": [
       "\" total_import_by_country = country_aggregated_df.groupby('Entry').sum().reset_index().set_index('Entry')\\nflow_columns = total_import_by_country.columns[total_import_by_country.columns.get_loc('Jan-10'):]\\nplt.figure(figsize=(40, 20))\\nax = total_import_by_country[flow_columns].T.plot(kind='bar', stacked=True, figsize=(40, 20))\\nplt.title('Total Volume of Flow in the European natural gas grid, broken down by importer, per MM-YYYY', fontsize=30)\\nplt.ylabel('Volume of Flow (million m3)', fontsize=20)\\nplt.xticks(range(0, len(mm_yyyy.columns), 4), mm_yyyy.columns[range(0, len(mm_yyyy.columns), 4)], rotation=45, fontsize=20)\\nplt.yticks(fontsize=20)\\nplt.legend(title='Importer', loc='upper left', bbox_to_anchor=(1, 1), fontsize=20, title_fontsize=20)\\nplt.show()\\n \""
      ]
     },
     "execution_count": 19,
     "metadata": {},
     "output_type": "execute_result"
    }
   ],
   "source": [
    "\"\"\" total_import_by_country = country_aggregated_df.groupby('Entry').sum().reset_index().set_index('Entry')\n",
    "flow_columns = total_import_by_country.columns[total_import_by_country.columns.get_loc('Jan-10'):]\n",
    "plt.figure(figsize=(40, 20))\n",
    "ax = total_import_by_country[flow_columns].T.plot(kind='bar', stacked=True, figsize=(40, 20))\n",
    "plt.title('Total Volume of Flow in the European natural gas grid, broken down by importer, per MM-YYYY', fontsize=30)\n",
    "plt.ylabel('Volume of Flow (million m3)', fontsize=20)\n",
    "plt.xticks(range(0, len(mm_yyyy.columns), 4), mm_yyyy.columns[range(0, len(mm_yyyy.columns), 4)], rotation=45, fontsize=20)\n",
    "plt.yticks(fontsize=20)\n",
    "plt.legend(title='Importer', loc='upper left', bbox_to_anchor=(1, 1), fontsize=20, title_fontsize=20)\n",
    "plt.show()\n",
    " \"\"\""
   ]
  },
  {
   "cell_type": "code",
   "execution_count": 20,
   "metadata": {},
   "outputs": [
    {
     "data": {
      "text/plain": [
       "\" total_import_by_country = country_aggregated_df.groupby('Entry').sum().reset_index().set_index('Entry')\\nflow_columns = total_import_by_country.columns[total_import_by_country.columns.get_loc('Jan-10'):]\\ntop_importers = total_import_by_country[flow_columns].sum(axis=1).nlargest(15).index\\ntop_importers_data = total_import_by_country.loc[top_importers, flow_columns]\\n\\nplt.figure(figsize=(40, 20))\\nax = top_importers_data[flow_columns].T.plot(kind='bar', stacked=True, figsize=(40, 20))\\nplt.title('Volume of Flow in the European natural gas grid, broken down by top 15 importers, per MM-YYYY', fontsize=30)\\nplt.ylabel('Volume of Flow (million m3)', fontsize=20)\\nplt.xticks(range(0, len(mm_yyyy.columns), 4), mm_yyyy.columns[range(0, len(mm_yyyy.columns), 4)], rotation=45, fontsize=20)\\nplt.yticks(fontsize=20)\\nplt.legend(title='Importer', loc='upper left', bbox_to_anchor=(1, 1), fontsize=20, title_fontsize=20)\\nplt.show() \""
      ]
     },
     "execution_count": 20,
     "metadata": {},
     "output_type": "execute_result"
    }
   ],
   "source": [
    "\"\"\" total_import_by_country = country_aggregated_df.groupby('Entry').sum().reset_index().set_index('Entry')\n",
    "flow_columns = total_import_by_country.columns[total_import_by_country.columns.get_loc('Jan-10'):]\n",
    "top_importers = total_import_by_country[flow_columns].sum(axis=1).nlargest(15).index\n",
    "top_importers_data = total_import_by_country.loc[top_importers, flow_columns]\n",
    "\n",
    "plt.figure(figsize=(40, 20))\n",
    "ax = top_importers_data[flow_columns].T.plot(kind='bar', stacked=True, figsize=(40, 20))\n",
    "plt.title('Volume of Flow in the European natural gas grid, broken down by top 15 importers, per MM-YYYY', fontsize=30)\n",
    "plt.ylabel('Volume of Flow (million m3)', fontsize=20)\n",
    "plt.xticks(range(0, len(mm_yyyy.columns), 4), mm_yyyy.columns[range(0, len(mm_yyyy.columns), 4)], rotation=45, fontsize=20)\n",
    "plt.yticks(fontsize=20)\n",
    "plt.legend(title='Importer', loc='upper left', bbox_to_anchor=(1, 1), fontsize=20, title_fontsize=20)\n",
    "plt.show() \"\"\""
   ]
  },
  {
   "cell_type": "code",
   "execution_count": 21,
   "metadata": {},
   "outputs": [
    {
     "data": {
      "text/plain": [
       "\" net_export_by_country = total_export_by_country[flow_columns] - total_import_by_country[flow_columns]\\nplt.figure(figsize=(40, 20))\\nax = net_export_by_country.T.plot(kind='bar', stacked=True, figsize=(40, 20))\\nplt.title('Net Export in the European natural gas grid, per MM-YYYY', fontsize=30)\\nplt.ylabel('Net Export (million m3)', fontsize=20)\\nplt.xticks(range(0, len(mm_yyyy.columns), 4), mm_yyyy.columns[range(0, len(mm_yyyy.columns), 4)], rotation=45, fontsize=20)\\nplt.yticks(fontsize=20)\\nplt.legend(title='Country', loc='upper left', bbox_to_anchor=(1, 1), fontsize=20, title_fontsize=20)\\nplt.show() \""
      ]
     },
     "execution_count": 21,
     "metadata": {},
     "output_type": "execute_result"
    }
   ],
   "source": [
    "\"\"\" net_export_by_country = total_export_by_country[flow_columns] - total_import_by_country[flow_columns]\n",
    "plt.figure(figsize=(40, 20))\n",
    "ax = net_export_by_country.T.plot(kind='bar', stacked=True, figsize=(40, 20))\n",
    "plt.title('Net Export in the European natural gas grid, per MM-YYYY', fontsize=30)\n",
    "plt.ylabel('Net Export (million m3)', fontsize=20)\n",
    "plt.xticks(range(0, len(mm_yyyy.columns), 4), mm_yyyy.columns[range(0, len(mm_yyyy.columns), 4)], rotation=45, fontsize=20)\n",
    "plt.yticks(fontsize=20)\n",
    "plt.legend(title='Country', loc='upper left', bbox_to_anchor=(1, 1), fontsize=20, title_fontsize=20)\n",
    "plt.show() \"\"\""
   ]
  },
  {
   "cell_type": "markdown",
   "metadata": {},
   "source": [
    "## Test configure grid for max-flow"
   ]
  },
  {
   "cell_type": "code",
   "execution_count": 22,
   "metadata": {},
   "outputs": [],
   "source": [
    "# Get most recent grid\n",
    "oct_23 = graphs[-1]"
   ]
  },
  {
   "cell_type": "code",
   "execution_count": 23,
   "metadata": {},
   "outputs": [
    {
     "data": {
      "text/html": [
       "<div>\n",
       "<style scoped>\n",
       "    .dataframe tbody tr th:only-of-type {\n",
       "        vertical-align: middle;\n",
       "    }\n",
       "\n",
       "    .dataframe tbody tr th {\n",
       "        vertical-align: top;\n",
       "    }\n",
       "\n",
       "    .dataframe thead th {\n",
       "        text-align: right;\n",
       "    }\n",
       "</style>\n",
       "<table border=\"1\" class=\"dataframe\">\n",
       "  <thead>\n",
       "    <tr style=\"text-align: right;\">\n",
       "      <th></th>\n",
       "      <th>Source</th>\n",
       "      <th>Target</th>\n",
       "      <th>Borderpoint</th>\n",
       "      <th>Max_Flow</th>\n",
       "      <th>Flow</th>\n",
       "    </tr>\n",
       "  </thead>\n",
       "  <tbody>\n",
       "    <tr>\n",
       "      <th>0</th>\n",
       "      <td>Liquefied Natural Gas</td>\n",
       "      <td>Italy</td>\n",
       "      <td>Adriatic LNG</td>\n",
       "      <td>818.40</td>\n",
       "      <td>745.0</td>\n",
       "    </tr>\n",
       "    <tr>\n",
       "      <th>1</th>\n",
       "      <td>Liquefied Natural Gas</td>\n",
       "      <td>Italy</td>\n",
       "      <td>Livorno</td>\n",
       "      <td>468.72</td>\n",
       "      <td>203.0</td>\n",
       "    </tr>\n",
       "    <tr>\n",
       "      <th>2</th>\n",
       "      <td>Liquefied Natural Gas</td>\n",
       "      <td>Italy</td>\n",
       "      <td>Panigaglia</td>\n",
       "      <td>401.76</td>\n",
       "      <td>69.0</td>\n",
       "    </tr>\n",
       "    <tr>\n",
       "      <th>3</th>\n",
       "      <td>Liquefied Natural Gas</td>\n",
       "      <td>Italy</td>\n",
       "      <td>Piombino</td>\n",
       "      <td>372.00</td>\n",
       "      <td>198.0</td>\n",
       "    </tr>\n",
       "    <tr>\n",
       "      <th>4</th>\n",
       "      <td>Liquefied Natural Gas</td>\n",
       "      <td>Spain</td>\n",
       "      <td>Barcelona</td>\n",
       "      <td>1450.80</td>\n",
       "      <td>320.0</td>\n",
       "    </tr>\n",
       "    <tr>\n",
       "      <th>...</th>\n",
       "      <td>...</td>\n",
       "      <td>...</td>\n",
       "      <td>...</td>\n",
       "      <td>...</td>\n",
       "      <td>...</td>\n",
       "    </tr>\n",
       "    <tr>\n",
       "      <th>222</th>\n",
       "      <td>Belarus</td>\n",
       "      <td>Lithuania</td>\n",
       "      <td>Kotlovka</td>\n",
       "      <td>967.20</td>\n",
       "      <td>240.0</td>\n",
       "    </tr>\n",
       "    <tr>\n",
       "      <th>223</th>\n",
       "      <td>Belarus</td>\n",
       "      <td>Lithuania</td>\n",
       "      <td>Privalka</td>\n",
       "      <td>7.44</td>\n",
       "      <td>32.0</td>\n",
       "    </tr>\n",
       "    <tr>\n",
       "      <th>224</th>\n",
       "      <td>Not Elsewhere Specified</td>\n",
       "      <td>Ukraine</td>\n",
       "      <td>Not Elsewhere Specified</td>\n",
       "      <td>6161.00</td>\n",
       "      <td>0.0</td>\n",
       "    </tr>\n",
       "    <tr>\n",
       "      <th>225</th>\n",
       "      <td>Morocco</td>\n",
       "      <td>Spain</td>\n",
       "      <td>Tarifa</td>\n",
       "      <td>1220.16</td>\n",
       "      <td>0.0</td>\n",
       "    </tr>\n",
       "    <tr>\n",
       "      <th>226</th>\n",
       "      <td>Georgia</td>\n",
       "      <td>Republic of Türkiye</td>\n",
       "      <td>Turkgozu</td>\n",
       "      <td>1119.00</td>\n",
       "      <td>719.0</td>\n",
       "    </tr>\n",
       "  </tbody>\n",
       "</table>\n",
       "<p>227 rows × 5 columns</p>\n",
       "</div>"
      ],
      "text/plain": [
       "                      Source               Target              Borderpoint  \\\n",
       "0      Liquefied Natural Gas                Italy             Adriatic LNG   \n",
       "1      Liquefied Natural Gas                Italy                  Livorno   \n",
       "2      Liquefied Natural Gas                Italy               Panigaglia   \n",
       "3      Liquefied Natural Gas                Italy                 Piombino   \n",
       "4      Liquefied Natural Gas                Spain                Barcelona   \n",
       "..                       ...                  ...                      ...   \n",
       "222                  Belarus            Lithuania                 Kotlovka   \n",
       "223                  Belarus            Lithuania                 Privalka   \n",
       "224  Not Elsewhere Specified              Ukraine  Not Elsewhere Specified   \n",
       "225                  Morocco                Spain                   Tarifa   \n",
       "226                  Georgia  Republic of Türkiye                 Turkgozu   \n",
       "\n",
       "     Max_Flow   Flow  \n",
       "0      818.40  745.0  \n",
       "1      468.72  203.0  \n",
       "2      401.76   69.0  \n",
       "3      372.00  198.0  \n",
       "4     1450.80  320.0  \n",
       "..        ...    ...  \n",
       "222    967.20  240.0  \n",
       "223      7.44   32.0  \n",
       "224   6161.00    0.0  \n",
       "225   1220.16    0.0  \n",
       "226   1119.00  719.0  \n",
       "\n",
       "[227 rows x 5 columns]"
      ]
     },
     "execution_count": 23,
     "metadata": {},
     "output_type": "execute_result"
    }
   ],
   "source": [
    "oct_23_edges = utils.get_edge_data(oct_23)\n",
    "oct_23_edges"
   ]
  },
  {
   "cell_type": "code",
   "execution_count": 24,
   "metadata": {},
   "outputs": [
    {
     "name": "stdout",
     "output_type": "stream",
     "text": [
      "Edges with flow exceeding capacity:  55\n"
     ]
    }
   ],
   "source": [
    "# Identify edges with flow greater than max flow\n",
    "print(\"Edges with flow exceeding capacity: \", oct_23_edges[oct_23_edges['Flow'] > oct_23_edges['Max_Flow']].size)"
   ]
  },
  {
   "cell_type": "code",
   "execution_count": 25,
   "metadata": {},
   "outputs": [
    {
     "name": "stdout",
     "output_type": "stream",
     "text": [
      "Edges with flow exceeding capacity:  0\n"
     ]
    }
   ],
   "source": [
    "\n",
    "oct_23 = utils.update_edge_capacities(oct_23)\n",
    "oct_23_edges = utils.get_edge_data(oct_23)\n",
    "print(\"Edges with flow exceeding capacity: \", oct_23_edges[oct_23_edges['Flow'] > oct_23_edges['Max_Flow']].size)"
   ]
  },
  {
   "cell_type": "markdown",
   "metadata": {},
   "source": [
    "## Convert multi-edge directed graph to directed graph\n",
    "Required by max-flow algorithm"
   ]
  },
  {
   "cell_type": "code",
   "execution_count": 40,
   "metadata": {},
   "outputs": [],
   "source": [
    "oct_23_digraph = utils.create_digraph_of(oct_23)"
   ]
  }
 ],
 "metadata": {
  "kernelspec": {
   "display_name": "venv",
   "language": "python",
   "name": "python3"
  },
  "language_info": {
   "codemirror_mode": {
    "name": "ipython",
    "version": 3
   },
   "file_extension": ".py",
   "mimetype": "text/x-python",
   "name": "python",
   "nbconvert_exporter": "python",
   "pygments_lexer": "ipython3",
   "version": "3.9.7"
  }
 },
 "nbformat": 4,
 "nbformat_minor": 2
}
