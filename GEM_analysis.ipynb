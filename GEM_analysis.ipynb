{
 "cells": [
  {
   "cell_type": "code",
   "execution_count": 3,
   "metadata": {},
   "outputs": [],
   "source": [
    "import pandas as pd\n",
    "import geopandas as gpd\n",
    "import plotly.express as px\n",
    "import json\n",
    "import networkx as nx\n",
    "import matplotlib.pyplot as plt\n",
    "import copy\n",
    "import matplotlib.ticker as mtick\n",
    "import numpy as np\n",
    "import scipy.optimize as opt\n",
    "import folium as fl"
   ]
  },
  {
   "cell_type": "code",
   "execution_count": 13,
   "metadata": {},
   "outputs": [],
   "source": [
    "# Plot both GEM-data/GEM-GGIT-Gas-Pipelines-2023-12.geojson and Scigrid_data/IGGIN_PipeSegments.geojson in a folium map\n",
    "\n",
    "# Load the GEM-GGIT-Gas-Pipelines-2023-12.geojson file\n",
    "with open('GEM-data/GEM-GGIT-Gas-Pipelines-2023-12.geojson') as f:\n",
    "    gem = json.load(f)\n",
    "\n",
    "# Filter out rows in gem where Status is not Operating, and where neither StartRegion nor EndRegion is Europe, and where Fuel it not Gas\n",
    "gem = [i for i in gem['features'] if i['properties']['Status'] == 'Operating' and i['properties']['StartRegion'] == 'Europe' and i['properties']['EndRegion'] == 'Europe' and i['properties']['Fuel'] == 'Gas']\n",
    "gem = {'type': 'FeatureCollection', 'features': gem}\n",
    "\n",
    "# Load the IGGIN_PipeSegments.geojson file\n",
    "with open('Scigrid_data/IGGIN_PipeSegments.geojson') as f:\n",
    "    scigrid = json.load(f)\n",
    "\n",
    "# Create a folium map\n",
    "m = fl.Map(location=[50, 10], zoom_start=5)\n",
    "\n",
    "# Add the GEM-GGIT-Gas-Pipelines-2023-12.geojson file to the map as a layer with a different color. Display the name of the pipeline when you click on the line\n",
    "fl.GeoJson(gem, name='GEM-GGIT-Gas-Pipelines-2023-12.geojson', style_function=lambda x: {'color': 'blue'}).add_to(m)\n",
    "\n",
    "# Add the IGGIN_PipeSegments.geojson file to the map as a layer with a different color. Display the name of the pipeline when you click on the line\n",
    "fl.GeoJson(scigrid, name='IGGIN_PipeSegments.geojson', style_function=lambda x: {'color': 'red'}).add_to(m)\n",
    "\n",
    "# Add a layer control to the map\n",
    "fl.LayerControl().add_to(m)\n",
    "\n",
    "# Save the map as a html file\n",
    "m.save('map.html')"
   ]
  },
  {
   "cell_type": "code",
   "execution_count": null,
   "metadata": {},
   "outputs": [],
   "source": []
  }
 ],
 "metadata": {
  "kernelspec": {
   "display_name": "venv",
   "language": "python",
   "name": "python3"
  },
  "language_info": {
   "codemirror_mode": {
    "name": "ipython",
    "version": 3
   },
   "file_extension": ".py",
   "mimetype": "text/x-python",
   "name": "python",
   "nbconvert_exporter": "python",
   "pygments_lexer": "ipython3",
   "version": "3.9.13"
  }
 },
 "nbformat": 4,
 "nbformat_minor": 2
}
