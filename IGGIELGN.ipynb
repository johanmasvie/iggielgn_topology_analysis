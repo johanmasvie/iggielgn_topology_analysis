{
 "cells": [
  {
   "cell_type": "markdown",
   "metadata": {},
   "source": [
    "# Imports"
   ]
  },
  {
   "cell_type": "code",
   "execution_count": null,
   "metadata": {},
   "outputs": [],
   "source": [
    "import pandas as pd\n",
    "import json\n",
    "import matplotlib.pyplot as plt\n",
    "import numpy as np\n",
    "import folium\n",
    "import pycountry\n",
    "from shapely import wkt\n",
    "import networkx as nx\n",
    "import dill\n",
    "from mpl_toolkits.basemap import Basemap\n",
    "import geopandas as gpd\n",
    "import ast\n",
    "import utils_pre_processing as upp\n",
    "from utils_pre_processing import split_col_to_and_from\n",
    "# Show all columns when using .head()\n",
    "pd.set_option('display.max_columns', None)"
   ]
  },
  {
   "cell_type": "markdown",
   "metadata": {},
   "source": [
    "# Reading data"
   ]
  },
  {
   "cell_type": "code",
   "execution_count": null,
   "metadata": {},
   "outputs": [],
   "source": [
    "iggielgn_borderpoints = pd.read_csv('IGGIELGN/IGGIELGN_BorderPoints.csv', delimiter=';')\n",
    "iggielgn_compressors = pd.read_csv('IGGIELGN/IGGIELGN_Compressors.csv', delimiter=';')\n",
    "iggielgn_consumers = pd.read_csv('IGGIELGN/IGGIELGN_Consumers.csv', delimiter=';')\n",
    "iggielgn_lngs = pd.read_csv('IGGIELGN/IGGIELGN_LNGs.csv', delimiter=';')\n",
    "iggielgn_nodes = pd.read_csv('IGGIELGN/IGGIELGN_Nodes.csv', delimiter=';')\n",
    "iggielgn_pipesegments = pd.read_csv('IGGIELGN/IGGIELGN_PipeSegments.csv', delimiter=';')\n",
    "iggielgn_productions = pd.read_csv('IGGIELGN/IGGIELGN_Productions.csv', delimiter=';')\n",
    "iggielgn_storages = pd.read_csv('IGGIELGN/IGGIELGN_Storages.csv', delimiter=';')"
   ]
  },
  {
   "cell_type": "markdown",
   "metadata": {},
   "source": [
    "# Pre-processing columns"
   ]
  },
  {
   "cell_type": "markdown",
   "metadata": {},
   "source": [
    "## Pipe Segments"
   ]
  },
  {
   "cell_type": "code",
   "execution_count": null,
   "metadata": {},
   "outputs": [],
   "source": [
    "# Expanding param, uncertainty and method columns\n",
    "iggielgn_pipesegments = upp.split_column_to_multiple(iggielgn_pipesegments, 'param')\n",
    "iggielgn_pipesegments = upp.split_column_to_multiple(iggielgn_pipesegments, 'uncertainty', 'uncertainty_')\n",
    "iggielgn_pipesegments = upp.split_column_to_multiple(iggielgn_pipesegments, 'method', 'method_')\n",
    "\n",
    "# Splitting node_id, country_code, lat and long columns\n",
    "iggielgn_pipesegments = upp.split_col_to_and_from(iggielgn_pipesegments, 'node_id', 'str')\n",
    "iggielgn_pipesegments = upp.split_col_to_and_from(iggielgn_pipesegments, 'country_code', 'str')\n",
    "iggielgn_pipesegments = upp.split_coords(iggielgn_pipesegments, 'lat')\n",
    "iggielgn_pipesegments = upp.split_coords(iggielgn_pipesegments, 'long')"
   ]
  },
  {
   "cell_type": "markdown",
   "metadata": {},
   "source": [
    "## Border Points"
   ]
  },
  {
   "cell_type": "code",
   "execution_count": null,
   "metadata": {},
   "outputs": [],
   "source": [
    "# Convert values in the node_id col of iggielgn_borderpoints from ['INET_CS_0'] to INET_CS_0. It is a string, so you need to evaluate it first\n",
    "iggielgn_borderpoints['node_id'] = iggielgn_borderpoints['node_id'].apply(lambda x: ast.literal_eval(x)[0])\n",
    "\n",
    "# Rename the country_code column to country_code_node\n",
    "iggielgn_borderpoints.rename(columns={'country_code': 'country_code_node'}, inplace=True)\n",
    "\n",
    "# Expanding param, uncertainty and method columns\n",
    "iggielgn_borderpoints = upp.split_column_to_multiple(iggielgn_borderpoints, 'param')\n",
    "iggielgn_borderpoints = upp.split_column_to_multiple(iggielgn_borderpoints, 'uncertainty', 'uncertainty_')\n",
    "iggielgn_borderpoints = upp.split_column_to_multiple(iggielgn_borderpoints, 'method', 'method_')"
   ]
  },
  {
   "cell_type": "markdown",
   "metadata": {},
   "source": [
    "## Compressors"
   ]
  },
  {
   "cell_type": "code",
   "execution_count": null,
   "metadata": {},
   "outputs": [],
   "source": [
    "# Convert values in the node_id col of iggielgn_compressors from ['INET_CS_0'] to INET_CS_0. It is a string, so you need to evaluate it first\n",
    "iggielgn_compressors['node_id'] = iggielgn_compressors['node_id'].apply(lambda x: ast.literal_eval(x)[0])\n",
    "\n",
    "# Expanding param, uncertainty and method columns\n",
    "iggielgn_compressors = upp.split_column_to_multiple(iggielgn_compressors, 'param')\n",
    "iggielgn_compressors = upp.split_column_to_multiple(iggielgn_compressors, 'uncertainty', 'uncertainty_')\n",
    "iggielgn_compressors = upp.split_column_to_multiple(iggielgn_compressors, 'method', 'method_')"
   ]
  },
  {
   "cell_type": "markdown",
   "metadata": {},
   "source": [
    "## LNGs"
   ]
  },
  {
   "cell_type": "code",
   "execution_count": null,
   "metadata": {},
   "outputs": [],
   "source": [
    "# Convert values in the node_id col of iggielgn_lngs from ['INET_CS_0'] to INET_CS_0. It is a string, so you need to evaluate it first\n",
    "iggielgn_lngs['node_id'] = iggielgn_lngs['node_id'].apply(lambda x: ast.literal_eval(x)[0])\n",
    "\n",
    "# Expanding param, uncertainty and method columns\n",
    "iggielgn_lngs = upp.split_column_to_multiple(iggielgn_lngs, 'param')\n",
    "iggielgn_lngs = upp.split_column_to_multiple(iggielgn_lngs, 'uncertainty', 'uncertainty_')\n",
    "iggielgn_lngs = upp.split_column_to_multiple(iggielgn_lngs, 'method', 'method_')"
   ]
  },
  {
   "cell_type": "markdown",
   "metadata": {},
   "source": [
    "## Consumers"
   ]
  },
  {
   "cell_type": "code",
   "execution_count": null,
   "metadata": {},
   "outputs": [],
   "source": [
    "# Convert values in the node_id col of iggielgn_consumers from ['INET_CS_0'] to INET_CS_0. It is a string, so you need to evaluate it first\n",
    "iggielgn_consumers['node_id'] = iggielgn_consumers['node_id'].apply(lambda x: ast.literal_eval(x)[0])\n",
    "\n",
    "# Expanding param, uncertainty and method columns\n",
    "iggielgn_consumers = upp.split_column_to_multiple(iggielgn_consumers, 'param')\n",
    "iggielgn_consumers = upp.split_column_to_multiple(iggielgn_consumers, 'uncertainty', 'uncertainty_')\n",
    "iggielgn_consumers = upp.split_column_to_multiple(iggielgn_consumers, 'method', 'method_')"
   ]
  },
  {
   "cell_type": "markdown",
   "metadata": {},
   "source": [
    "## Productions"
   ]
  },
  {
   "cell_type": "code",
   "execution_count": null,
   "metadata": {},
   "outputs": [],
   "source": [
    "# Convert values in the node_id col of iggielgn_productions from ['INET_CS_0'] to INET_CS_0. It is a string, so you need to evaluate it first\n",
    "iggielgn_productions['node_id'] = iggielgn_productions['node_id'].apply(lambda x: ast.literal_eval(x)[0])\n",
    "\n",
    "# Expanding param, uncertainty and method columns\n",
    "iggielgn_productions = upp.split_column_to_multiple(iggielgn_productions, 'param')\n",
    "iggielgn_productions = upp.split_column_to_multiple(iggielgn_productions, 'uncertainty', 'uncertainty_')\n",
    "iggielgn_productions = upp.split_column_to_multiple(iggielgn_productions, 'method', 'method_')"
   ]
  },
  {
   "cell_type": "markdown",
   "metadata": {},
   "source": [
    "## Storages"
   ]
  },
  {
   "cell_type": "code",
   "execution_count": null,
   "metadata": {},
   "outputs": [],
   "source": [
    "# Convert values in the node_id col of iggielgn_storages from ['INET_CS_0'] to INET_CS_0. It is a string, so you need to evaluate it first\n",
    "iggielgn_storages['node_id'] = iggielgn_storages['node_id'].apply(lambda x: ast.literal_eval(x)[0])\n",
    "\n",
    "# Expanding param, uncertainty and method columns\n",
    "iggielgn_storages = upp.split_column_to_multiple(iggielgn_storages, 'param')\n",
    "iggielgn_storages = upp.split_column_to_multiple(iggielgn_storages, 'uncertainty', 'uncertainty_')\n",
    "iggielgn_storages = upp.split_column_to_multiple(iggielgn_storages, 'method', 'method_')"
   ]
  },
  {
   "cell_type": "markdown",
   "metadata": {},
   "source": [
    "## Nodes"
   ]
  },
  {
   "cell_type": "code",
   "execution_count": null,
   "metadata": {},
   "outputs": [],
   "source": [
    "# Expanding param, uncertainty and method columns\n",
    "iggielgn_nodes = upp.split_column_to_multiple(iggielgn_nodes, 'param')\n",
    "iggielgn_nodes = upp.split_column_to_multiple(iggielgn_nodes, 'uncertainty', 'uncertainty_')\n",
    "iggielgn_nodes = upp.split_column_to_multiple(iggielgn_nodes, 'method', 'method_')\n",
    "\n",
    "# Add a type column to iggielgn_nodes\n",
    "iggielgn_nodes['type'] = ''\n",
    "\n",
    "# Populate the type column of iggielgn_consumers, based on whether the id of the node is in the node_id column of iggielgn_consumers, iggielgn_productions, or iggielgn_storages\n",
    "for row in iggielgn_nodes.itertuples():\n",
    "    if row.id in iggielgn_consumers['node_id'].values:\n",
    "        iggielgn_nodes.loc[iggielgn_nodes['id'] == row.id, 'type'] = 'consumer'\n",
    "    elif row.id in iggielgn_productions['node_id'].values:\n",
    "        iggielgn_nodes.loc[iggielgn_nodes['id'] == row.id, 'type'] = 'production'\n",
    "    elif row.id in iggielgn_storages['node_id'].values:\n",
    "        iggielgn_nodes.loc[iggielgn_nodes['id'] == row.id, 'type'] = 'storage'\n",
    "    elif row.id in iggielgn_compressors['node_id'].values:\n",
    "        iggielgn_nodes.loc[iggielgn_nodes['id'] == row.id, 'type'] = 'compressor'\n",
    "    elif row.id in iggielgn_lngs['node_id'].values:\n",
    "        iggielgn_nodes.loc[iggielgn_nodes['id'] == row.id, 'type'] = 'lng'\n",
    "    elif row.id in iggielgn_borderpoints['node_id'].values:\n",
    "        iggielgn_nodes.loc[iggielgn_nodes['id'] == row.id, 'type'] = 'borderpoint'\n",
    "    else:\n",
    "        iggielgn_nodes.loc[iggielgn_nodes['id'] == row.id, 'type'] = 'node'"
   ]
  },
  {
   "cell_type": "code",
   "execution_count": null,
   "metadata": {},
   "outputs": [],
   "source": [
    "# Plot the nodes on the map\n",
    "fig, ax = plt.subplots(figsize=(16, 16))\n",
    "\n",
    "# Use BaseMap to underlay a map of Europe\n",
    "m = Basemap(projection='merc', llcrnrlat=30, urcrnrlat=70, llcrnrlon=-15, urcrnrlon=80, resolution='l')\n",
    "m.drawcoastlines()\n",
    "m.drawcountries()\n",
    "m.fillcontinents(color='lightgray')\n",
    "\n",
    "# Plot the nodes, and color based on the type\n",
    "for row in iggielgn_nodes.itertuples():\n",
    "    x, y = m(row.long, row.lat)\n",
    "    if row.type == 'consumer':\n",
    "        m.plot(x, y, 'ro', markersize=2)\n",
    "    elif row.type == 'production':\n",
    "        m.plot(x, y, 'go', markersize=2)\n",
    "    elif row.type == 'storage':\n",
    "        m.plot(x, y, 'bo', markersize=2)\n",
    "    elif row.type == 'compressor':\n",
    "        m.plot(x, y, 'yo', markersize=2)\n",
    "    elif row.type == 'lng':\n",
    "        m.plot(x, y, 'mo', markersize=2)\n",
    "    elif row.type == 'borderpoint':\n",
    "        m.plot(x, y, 'co', markersize=2)\n",
    "    else:\n",
    "        m.plot(x, y, 'ko', markersize=2)\n",
    "\n",
    "# Add legend\n",
    "plt.plot([], [], 'ro', label='Consumer')\n",
    "plt.plot([], [], 'go', label='Production')\n",
    "plt.plot([], [], 'bo', label='Storage')\n",
    "plt.plot([], [], 'yo', label='Compressor')\n",
    "plt.plot([], [], 'mo', label='LNG')\n",
    "plt.plot([], [], 'co', label='Borderpoint')\n",
    "plt.plot([], [], 'ko', label='Node')\n",
    "plt.legend(loc='upper right', fontsize=20)\n",
    "\n",
    "plt.show()"
   ]
  },
  {
   "cell_type": "code",
   "execution_count": null,
   "metadata": {},
   "outputs": [],
   "source": [
    "# Create a networkx graph using the nodes_df as nodes and the pipe_segments_df as edges\n",
    "G_multi_directed = nx.MultiDiGraph()\n",
    "\n",
    "# Add nodes to the graph\n",
    "for index, row in iggielgn_nodes.iterrows():\n",
    "    # Get the columns of the row, and add the columns as attributes to the node\n",
    "    attributes = dict(row)\n",
    "    G_multi_directed.add_node(row['id'], **attributes)\n",
    "\n",
    "# Add edges to the graph\n",
    "for index, row in iggielgn_pipesegments.iterrows():\n",
    "    # Get the columns of the row, and add the columns as attributes to the edge\n",
    "    attributes = dict(row)\n",
    "    G_multi_directed.add_edge(row['from_node_id'], row['to_node_id'], **attributes)\n",
    "\n",
    "# Iterate over the edges once more: if the is_bothDirection is 1.0, add the edge in the opposite direction\n",
    "for index, row in iggielgn_pipesegments.iterrows():\n",
    "    if row['is_bothDirection'] == 1.0:\n",
    "        G_multi_directed.add_edge(row['to_node_id'], row['from_node_id'], **dict(row))"
   ]
  },
  {
   "cell_type": "code",
   "execution_count": null,
   "metadata": {},
   "outputs": [],
   "source": [
    "# Create a simple directed graph, a multi undirected graph, and a simple undirected graph from the directed multigraph\n",
    "\n",
    "# Aggregating the edges with the same from_node_id and to_node_id, and aggregating the capacity attribute of the edges\n",
    "G_simple_directed = nx.DiGraph()\n",
    "for from_node in G_multi_directed.nodes:\n",
    "    for to_node in G_multi_directed.nodes:\n",
    "        if G_multi_directed.has_edge(from_node, to_node):\n",
    "            edge_attrs = G_multi_directed[from_node][to_node][0]\n",
    "            print(edge_attrs)\n",
    "            if G_simple_directed.has_edge(from_node, to_node):\n",
    "                G_simple_directed[from_node][to_node]['max_cap_M_m3_per_d'] += edge_attrs['max_cap_M_m3_per_d']\n",
    "            else:\n",
    "                G_simple_directed.add_node(from_node, **G_multi_directed.nodes[from_node])\n",
    "                G_simple_directed.add_node(to_node, **G_multi_directed.nodes[to_node])\n",
    "                G_simple_directed.add_edge(from_node, to_node, name=edge_attrs['name'], max_cap_M_m3_per_d=edge_attrs['max_cap_M_m3_per_d'], length_km=edge_attrs['length_km'], diameter_mm=edge_attrs['diameter_mm'], is_H_gas=edge_attrs['is_H_gas'], is_bothDirection=edge_attrs['is_bothDirection'], start_year=edge_attrs['start_year'], end_year=edge_attrs['end_year'], from_country_code=edge_attrs['from_country_code'], to_country_code=edge_attrs['to_country_code'])\n",
    "\n",
    "G_multi_undirected = nx.MultiGraph(G_multi_directed)\n",
    "G_simple_undirected = nx.Graph(G_multi_directed)"
   ]
  },
  {
   "cell_type": "code",
   "execution_count": null,
   "metadata": {},
   "outputs": [],
   "source": [
    "# Saving the multi di-graph to a pickle file\n",
    "with open('graph_objects/G_multi_directed_iggielgn.pickle', 'wb') as file:\n",
    "    dill.dump(G_multi_directed, file)\n",
    "\n",
    "# Saving the simple di-graph to a pickle file\n",
    "with open('graph_objects/G_simple_directed_iggielgn.pickle', 'wb') as file:\n",
    "    dill.dump(G_simple_directed, file)\n",
    "\n",
    "# Saving the multi un-graph to a pickle file\n",
    "with open('graph_objects/G_multi_undirected_iggielgn.pickle', 'wb') as file:\n",
    "    dill.dump(G_multi_undirected, file)\n",
    "\n",
    "# Saving the simple un-graph to a pickle file\n",
    "with open('graph_objects/G_simple_undirected_iggielgn.pickle', 'wb') as file:\n",
    "    dill.dump(G_simple_undirected, file)"
   ]
  },
  {
   "cell_type": "code",
   "execution_count": null,
   "metadata": {},
   "outputs": [],
   "source": [
    "# Print the number of edges and nodes in each of the four graphs\n",
    "print(\"Number of edges and nodes in the four graphs:\")\n",
    "print(\"G:\", G_multi_directed.number_of_edges(), G_multi_directed.number_of_nodes())\n",
    "print(\"G_simple_directed:\", G_simple_directed.number_of_edges(), G_simple_directed.number_of_nodes())\n",
    "print(\"G_multi_undirected:\", G_multi_undirected.number_of_edges(), G_multi_undirected.number_of_nodes())\n",
    "print(\"G_simple_undirected:\", G_simple_undirected.number_of_edges(), G_simple_undirected.number_of_nodes())"
   ]
  },
  {
   "cell_type": "code",
   "execution_count": null,
   "metadata": {},
   "outputs": [],
   "source": [
    "# Plot the graph\n",
    "fig, ax = plt.subplots(figsize=(16, 16))\n",
    "\n",
    "# Use BaseMap to underlay a map of Europe\n",
    "m = Basemap(projection='merc', llcrnrlat=30, urcrnrlat=70, llcrnrlon=-15, urcrnrlon=80, resolution='l')\n",
    "m.drawcoastlines()\n",
    "m.drawcountries()\n",
    "m.fillcontinents(color='lightgray')\n",
    "\n",
    "# Plot the edges\n",
    "for edge in G_multi_directed.edges():\n",
    "    node1 = G_multi_directed.nodes[edge[0]]\n",
    "    node2 = G_multi_directed.nodes[edge[1]]\n",
    "    x1, y1 = m(node1['long'], node1['lat'])\n",
    "    x2, y2 = m(node2['long'], node2['lat'])\n",
    "    m.plot([x1, x2], [y1, y2], 'k-')\n",
    "\n",
    "\n",
    "# Add legend\n",
    "plt.legend(loc='upper right', fontsize=20)\n",
    "\n",
    "plt.show()"
   ]
  },
  {
   "cell_type": "code",
   "execution_count": null,
   "metadata": {},
   "outputs": [],
   "source": [
    "# Ouput the connected components of the graph\n",
    "connected_components = list(nx.weakly_connected_components(G_multi_directed))\n",
    "connected_components_sizes = [len(comp) for comp in connected_components]\n",
    "connected_components_sizes.sort(reverse=True)\n",
    "print(connected_components_sizes)"
   ]
  },
  {
   "cell_type": "code",
   "execution_count": null,
   "metadata": {},
   "outputs": [],
   "source": [
    "# Only plot nodes not in the largest connected component\n",
    "largest_component = connected_components[0]\n",
    "non_largest_component_nodes = [node for node in G_multi_directed.nodes() if node not in largest_component]\n",
    "\n",
    "# Plot the nodes on the map, and color based on the component id\n",
    "fig, ax = plt.subplots(figsize=(16, 16))\n",
    "\n",
    "# Use BaseMap to underlay a map of Europe\n",
    "m = Basemap(projection='merc', llcrnrlat=30, urcrnrlat=70, llcrnrlon=-15, urcrnrlon=80, resolution='l')\n",
    "m.drawcoastlines()\n",
    "m.drawcountries()\n",
    "m.fillcontinents(color='lightgray')\n",
    "\n",
    "# Plot the nodes, and color based on the component id\n",
    "for row in iggielgn_nodes.itertuples():\n",
    "    if row.id in non_largest_component_nodes:\n",
    "        x, y = m(row.long, row.lat)\n",
    "        m.plot(x, y, 'ko', markersize=2)\n",
    "\n",
    "plt.show()"
   ]
  },
  {
   "cell_type": "code",
   "execution_count": null,
   "metadata": {},
   "outputs": [],
   "source": [
    "# Plot a histogram for the is_bothDirection in the iggielgn_pipesegments dataframe\n",
    "iggielgn_pipesegments['is_bothDirection'].hist()"
   ]
  },
  {
   "cell_type": "code",
   "execution_count": null,
   "metadata": {},
   "outputs": [],
   "source": [
    "# Output the data of one edge in the graph\n",
    "print(list(G_multi_directed.nodes(data=True))[0])\n",
    "print(list(G_multi_directed.edges(data=True))[0])"
   ]
  },
  {
   "cell_type": "code",
   "execution_count": null,
   "metadata": {},
   "outputs": [],
   "source": [
    "# Show the degree distribution of the graph\n",
    "degrees = [G_multi_directed.degree(node) for node in G_multi_directed.nodes()]\n",
    "plt.hist(degrees)\n",
    "plt.show()"
   ]
  },
  {
   "cell_type": "code",
   "execution_count": null,
   "metadata": {},
   "outputs": [],
   "source": [
    "# Plot the in- and out-degree distribution for each node type using a bar chart, where the x-asis it the degree and the y-axis is the number of nodes with that degree\n",
    "node_types = iggielgn_nodes['type'].unique()\n",
    "for node_type in node_types:\n",
    "    nodes_of_type = iggielgn_nodes[iggielgn_nodes['type'] == node_type]\n",
    "    in_degrees = [G_multi_directed.in_degree(node) for node in nodes_of_type['id']]\n",
    "    out_degrees = [G_multi_directed.out_degree(node) for node in nodes_of_type['id']]\n",
    "    plt.figure(figsize=(16, 8))\n",
    "    plt.subplot(1, 2, 1)\n",
    "    plt.hist(in_degrees, bins=20)\n",
    "    plt.title(f'In-degree distribution for {node_type}')\n",
    "    plt.xlabel('In-degree')\n",
    "    plt.ylabel('Number of nodes')\n",
    "    plt.subplot(1, 2, 2)\n",
    "    plt.hist(out_degrees, bins=20)\n",
    "    plt.title(f'Out-degree distribution for {node_type}')\n",
    "    plt.xlabel('Out-degree')\n",
    "    plt.ylabel('Number of nodes')\n",
    "    plt.show()\n"
   ]
  }
 ],
 "metadata": {
  "kernelspec": {
   "display_name": "venv",
   "language": "python",
   "name": "python3"
  },
  "language_info": {
   "codemirror_mode": {
    "name": "ipython",
    "version": 3
   },
   "file_extension": ".py",
   "mimetype": "text/x-python",
   "name": "python",
   "nbconvert_exporter": "python",
   "pygments_lexer": "ipython3",
   "version": "3.9.13"
  }
 },
 "nbformat": 4,
 "nbformat_minor": 2
}
