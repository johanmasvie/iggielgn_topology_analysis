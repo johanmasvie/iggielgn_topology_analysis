{
 "cells": [
  {
   "cell_type": "code",
   "execution_count": 11,
   "metadata": {},
   "outputs": [],
   "source": [
    "import networkx as nx\n",
    "import dill as pickle\n",
    "import matplotlib.pyplot as plt\n",
    "import matplotlib.ticker as mtick\n",
    "import numpy as np\n",
    "import scipy.optimize as opt\n",
    "import copy\n",
    "from mpl_toolkits.basemap import Basemap"
   ]
  },
  {
   "cell_type": "code",
   "execution_count": 12,
   "metadata": {},
   "outputs": [],
   "source": [
    "# Read pickled graphs graph_objects/G_multi_directed.pickle, graph_objects/G_multi_undirected.pickle, graph_objects/G_simple_directed.pickle, graph_objects/G_simple_undirected.pickle\n",
    "with open('graph_objects/G_multi_directed_iggielgn.pickle', 'rb') as f:\n",
    "    G_multi_directed = pickle.load(f)\n",
    "\n",
    "with open('graph_objects/G_multi_undirected_iggielgn.pickle', 'rb') as f:\n",
    "    G_multi_undirected = pickle.load(f)\n",
    "\n",
    "with open('graph_objects/G_simple_directed_iggielgn.pickle', 'rb') as f:\n",
    "    G_simple_directed = pickle.load(f)\n",
    "\n",
    "with open('graph_objects/G_simple_undirected_iggielgn.pickle', 'rb') as f:\n",
    "    G_simple_undirected = pickle.load(f)"
   ]
  },
  {
   "cell_type": "code",
   "execution_count": 13,
   "metadata": {},
   "outputs": [
    {
     "name": "stdout",
     "output_type": "stream",
     "text": [
      "Attributes of a random node:\n",
      "{'id': 'N_101_L_LMGN', 'name': 'N_101_L_LMGN', 'source_id': \"['IT_1707']\", 'node_id': \"['N_101_L_LMGN']\", 'lat': 41.3134, 'long': 14.6161, 'country_code': 'IT', 'comment': nan, 'tags': '{}', 'nuts_id_1': 'ITF', 'nuts_id_2': 'ITF3', 'nuts_id_3': 'ITF32', 'uncertainty_nuts_id_1': 0, 'uncertainty_nuts_id_2': 0, 'uncertainty_nuts_id_3': 0, 'method_nuts_id_1': 'M_Consumers.add_Nuts_Num()', 'method_nuts_id_2': 'M_Consumers.add_Nuts_Num()', 'method_nuts_id_3': 'M_Consumers.add_Nuts_Num()', 'type': 'node', 'flow_type': 'transit'}\n",
      "Attributes of a random edge:\n",
      "{'id': 'PLM_2090_Seg_0_Seg_0_Seg_0', 'name': 'PLM_2090_Seg_0_Seg_0_Seg_0', 'source_id': \"['EntsoG_Map_51220', 'INET_PL_682']\", 'comment': nan, 'tags': '{}', 'diameter_mm': 900.0, 'end_year': None, 'is_H_gas': 1, 'is_bothDirection': 1, 'lat_mean': 47.45062, 'length_km': 12.635303, 'long_mean': 7.519408, 'max_cap_M_m3_per_d': 19.618598434835253, 'max_pressure_bar': 67.02092561304427, 'nuts_id_1': \"['CH0', 'FRF']\", 'nuts_id_2': \"['CH03', 'FRF1']\", 'nuts_id_3': \"['CH032', 'FRF12']\", 'path_lat': '[]', 'path_long': '[]', 'start_year': 1975.0, 'uncertainty_diameter_mm': 0.0, 'uncertainty_end_year': nan, 'uncertainty_is_H_gas': 0.0, 'uncertainty_is_bothDirection': 0.0, 'uncertainty_lat_mean': 0.015349999999997975, 'uncertainty_length_km': 0.5, 'uncertainty_long_mean': 0.08086750000000009, 'uncertainty_max_cap_M_m3_per_d': 0.0, 'uncertainty_max_pressure_bar': 1.0350988484531676, 'uncertainty_nuts_id_1': 0.0, 'uncertainty_nuts_id_2': 0.0, 'uncertainty_nuts_id_3': 0.0, 'uncertainty_path_lat': 0.0, 'uncertainty_path_long': 0.0, 'uncertainty_start_year': 0.0, 'method_diameter_mm': 'raw', 'method_end_year': None, 'method_is_H_gas': 'raw', 'method_is_bothDirection': 'raw', 'method_lat_mean': 'make_Attrib(latlong_mean)', 'method_length_km': 'fill_length(PipeSegments)', 'method_long_mean': 'make_Attrib(latlong_mean)', 'method_max_cap_M_m3_per_d': 'M_Heuristics.app_Phys_Heur_Move_Capacity()', 'method_max_pressure_bar': 'log_M_Heuristics.PipeSegment_pressure()', 'method_nuts_id_1': 'make_Attrib(const)', 'method_nuts_id_2': 'make_Attrib(const)', 'method_nuts_id_3': 'make_Attrib(const)', 'method_path_lat': 'K_Netze.make_path_latlong(lat)', 'method_path_long': 'K_Netze.make_path_latlong(lat)', 'method_start_year': 'raw', 'from_node_id': 'SEQ_8171__M_LMGN', 'to_node_id': 'SEQ_8173__M_LMGN', 'from_country_code': 'CH', 'to_country_code': 'FR', 'from_lat': 47.43527, 'to_lat': 47.46597, 'from_long': 7.600275, 'to_long': 7.43854}\n"
     ]
    }
   ],
   "source": [
    "import random\n",
    "\n",
    "# Assuming G_multi_directed is your NetworkX graph\n",
    "random_node = random.choice(list(G_multi_directed.nodes))\n",
    "random_edge = random.choice(list(G_multi_directed.edges))\n",
    "\n",
    "print('Attributes of a random node:')\n",
    "print(G_multi_directed.nodes[random_node])\n",
    "\n",
    "print('Attributes of a random edge:')\n",
    "print(G_multi_directed.edges[random_edge])"
   ]
  },
  {
   "cell_type": "code",
   "execution_count": 14,
   "metadata": {},
   "outputs": [],
   "source": [
    "# Create a dictionary. The keys are the country_codes and the values are 1) the number of nodes in the country 2) the number of to_edges in the country 3) the number of from_edges in the country 4) the number of total edges in the country\n",
    "\n",
    "country_dict = {}\n",
    "for node in G_multi_directed.nodes:\n",
    "    country_code = G_multi_directed.nodes[node]['country_code']\n",
    "    if country_code in country_dict:\n",
    "        country_dict[country_code][0] += 1\n",
    "    else:\n",
    "        country_dict[country_code] = [1, 0, 0, 0]"
   ]
  },
  {
   "cell_type": "code",
   "execution_count": 15,
   "metadata": {},
   "outputs": [
    {
     "name": "stdout",
     "output_type": "stream",
     "text": [
      "PL [198, 0, 0, 0]\n",
      "IT [373, 0, 0, 0]\n",
      "AL [2, 0, 0, 0]\n",
      "SK [18, 0, 0, 0]\n",
      "GB [178, 0, 0, 0]\n",
      "BY [87, 0, 0, 0]\n",
      "GR [33, 0, 0, 0]\n",
      "EE [24, 0, 0, 0]\n",
      "TR [180, 0, 0, 0]\n",
      "UA [197, 0, 0, 0]\n",
      "RU [372, 0, 0, 0]\n",
      "XX [513, 0, 0, 0]\n",
      "NL [102, 0, 0, 0]\n",
      "ES [210, 0, 0, 0]\n",
      "BE [70, 0, 0, 0]\n",
      "FR [622, 0, 0, 0]\n",
      "HR [36, 0, 0, 0]\n",
      "CZ [41, 0, 0, 0]\n",
      "SI [23, 0, 0, 0]\n",
      "HU [99, 0, 0, 0]\n",
      "RS [42, 0, 0, 0]\n",
      "AT [51, 0, 0, 0]\n",
      "SE [18, 0, 0, 0]\n",
      "RO [162, 0, 0, 0]\n",
      "IE [52, 0, 0, 0]\n",
      "MD [19, 0, 0, 0]\n",
      "FI [40, 0, 0, 0]\n",
      "BG [75, 0, 0, 0]\n",
      "LT [35, 0, 0, 0]\n",
      "DK [21, 0, 0, 0]\n",
      "CH [28, 0, 0, 0]\n",
      "PT [29, 0, 0, 0]\n",
      "LV [20, 0, 0, 0]\n",
      "AZ [9, 0, 0, 0]\n",
      "GE [35, 0, 0, 0]\n",
      "AM [9, 0, 0, 0]\n",
      "LU [5, 0, 0, 0]\n",
      "MK [4, 0, 0, 0]\n",
      "DE [631, 0, 0, 0]\n",
      "NO [7, 0, 0, 0]\n",
      "BA [2, 0, 0, 0]\n",
      "EL [2, 0, 0, 0]\n",
      "MT [1, 0, 0, 0]\n"
     ]
    }
   ],
   "source": [
    "# Print the country_dict\n",
    "for country in country_dict:\n",
    "    print(country, country_dict[country])"
   ]
  }
 ],
 "metadata": {
  "kernelspec": {
   "display_name": "venv",
   "language": "python",
   "name": "python3"
  },
  "language_info": {
   "codemirror_mode": {
    "name": "ipython",
    "version": 3
   },
   "file_extension": ".py",
   "mimetype": "text/x-python",
   "name": "python",
   "nbconvert_exporter": "python",
   "pygments_lexer": "ipython3",
   "version": "3.9.13"
  }
 },
 "nbformat": 4,
 "nbformat_minor": 2
}
