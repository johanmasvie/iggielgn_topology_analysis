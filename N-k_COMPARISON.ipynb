{
 "cells": [
  {
   "cell_type": "code",
   "execution_count": null,
   "metadata": {},
   "outputs": [],
   "source": [
    "import pandas as pd\n",
    "import utils_comp as utils\n",
    "import utils_max_flow\n",
    "import utils_centrality\n",
    "import pickle"
   ]
  },
  {
   "cell_type": "code",
   "execution_count": null,
   "metadata": {},
   "outputs": [],
   "source": [
    "# Dataset; 'iggin' or 'iggielgn'\n",
    "dataset = 'iggielgn'\n",
    "\n",
    "# S-t-flow; 's-t-degree' or 's-t-type'\n",
    "s_t_flow = 'hybrid'"
   ]
  },
  {
   "cell_type": "markdown",
   "metadata": {},
   "source": [
    "### Load data from 'N-k_CENTRALITY.ipynb' and 'N-k_MAX_FLOW.ipynb'"
   ]
  },
  {
   "cell_type": "code",
   "execution_count": null,
   "metadata": {},
   "outputs": [],
   "source": [
    "centrality_random_node_removal_df = pd.read_pickle('results/centrality/iggielgn/random_node_removal.pkl')\n",
    "centrality_greedy_node_removal_df = pd.read_pickle('results/centrality/iggielgn/greedy_node_removal.pkl')\n",
    "\n",
    "max_flow_random_node_removal_df = pd.read_pickle('results/max_flow/iggielgn/hybrid/random_node_removal_df.pkl')\n",
    "max_flow_greedy_node_removal_df = pd.read_pickle('results/max_flow/iggielgn/hybrid/wfcr_node_removal_df.pkl')\n",
    "\n",
    "centrality_random_edge_removal_df = pd.read_pickle('results/centrality/iggielgn/random_edge_removal.pkl')\n",
    "centrality_greedy_edge_removal_df = pd.read_pickle('results/centrality/iggielgn/greedy_edge_removal.pkl')\n",
    "\n",
    "max_flow_random_edge_removal_df = pd.read_pickle('results/max_flow/iggielgn/hybrid/random_edge_removal_df.pkl')\n",
    "max_flow_greedy_edge_removal_df = pd.read_pickle('results/max_flow/iggielgn/hybrid/wfcr_edge_removal_df.pkl')"
   ]
  },
  {
   "cell_type": "code",
   "execution_count": null,
   "metadata": {},
   "outputs": [],
   "source": [
    "with open('graph_objects/G_simple_directed_iggielgn.pickle', 'rb') as f:\n",
    "    G_simple_directed = pickle.load(f)\n",
    "    G_simple_directed.name = 'G_simple_directed' "
   ]
  },
  {
   "cell_type": "markdown",
   "metadata": {},
   "source": [
    "# Direct comparison of index "
   ]
  },
  {
   "cell_type": "markdown",
   "metadata": {},
   "source": [
    "### Node"
   ]
  },
  {
   "cell_type": "code",
   "execution_count": null,
   "metadata": {},
   "outputs": [],
   "source": [
    "utils.plot_direct_comparison(centrality_greedy_node_removal_df, centrality_random_node_removal_df, max_flow_greedy_node_removal_df, max_flow_random_node_removal_df)"
   ]
  },
  {
   "cell_type": "code",
   "execution_count": null,
   "metadata": {},
   "outputs": [],
   "source": [
    "utils.common_entities(centrality_greedy_node_removal_df, max_flow_greedy_node_removal_df)"
   ]
  },
  {
   "cell_type": "markdown",
   "metadata": {},
   "source": [
    "### Edge"
   ]
  },
  {
   "cell_type": "code",
   "execution_count": null,
   "metadata": {},
   "outputs": [],
   "source": [
    "utils.plot_direct_comparison(centrality_greedy_edge_removal_df, centrality_random_edge_removal_df, max_flow_greedy_edge_removal_df, max_flow_random_edge_removal_df)"
   ]
  },
  {
   "cell_type": "code",
   "execution_count": null,
   "metadata": {},
   "outputs": [],
   "source": [
    "# Ignore SettingWithCopyWarning\n",
    "pd.options.mode.chained_assignment = None\n",
    "\n",
    "corrected_centrality_greedy_edge_removal_df = centrality_greedy_edge_removal_df.iloc[1:]\n",
    "corrected_centrality_greedy_edge_removal_df['removed_entity'] = corrected_centrality_greedy_edge_removal_df['removed_entity'].apply(lambda edge: tuple(edge))\n",
    "for i in range(len(corrected_centrality_greedy_edge_removal_df)):\n",
    "    if corrected_centrality_greedy_edge_removal_df['removed_entity'].iloc[i] not in G_simple_directed.edges():\n",
    "        corrected_centrality_greedy_edge_removal_df['removed_entity'].iloc[i] = (corrected_centrality_greedy_edge_removal_df['removed_entity'].iloc[i][1], corrected_centrality_greedy_edge_removal_df['removed_entity'].iloc[i][0])\n",
    "\n",
    "corrected_max_flow_greedy_edge_removal_df = max_flow_greedy_edge_removal_df.iloc[1:]\n",
    "corrected_max_flow_greedy_edge_removal_df['removed_entity'] = corrected_max_flow_greedy_edge_removal_df['removed_entity'].apply(lambda edge: tuple(edge))\n",
    "for i in range(len(corrected_max_flow_greedy_edge_removal_df)):\n",
    "    if corrected_max_flow_greedy_edge_removal_df['removed_entity'].iloc[i] not in G_simple_directed.edges():\n",
    "        corrected_max_flow_greedy_edge_removal_df['removed_entity'].iloc[i] = (corrected_max_flow_greedy_edge_removal_df['removed_entity'].iloc[i][1], corrected_max_flow_greedy_edge_removal_df['removed_entity'].iloc[i][0])\n",
    "        "
   ]
  },
  {
   "cell_type": "code",
   "execution_count": null,
   "metadata": {},
   "outputs": [],
   "source": [
    "utils.common_entities(corrected_centrality_greedy_edge_removal_df, corrected_max_flow_greedy_edge_removal_df)"
   ]
  },
  {
   "cell_type": "markdown",
   "metadata": {},
   "source": [
    "# Transformation between 'domains'"
   ]
  },
  {
   "cell_type": "code",
   "execution_count": null,
   "metadata": {},
   "outputs": [],
   "source": [
    "centrality_greedily_removed_nodes_lst = centrality_greedy_node_removal_df['removed_entity'].dropna().tolist()\n",
    "max_flow_greedily_removed_nodes_lst = max_flow_greedy_node_removal_df['removed_entity'].dropna().tolist()\n",
    "\n",
    "centrality_greedily_removed_edges_lst = centrality_greedy_edge_removal_df['removed_entity'].dropna().tolist()\n",
    "max_flow_greedily_removed_edges_lst = max_flow_greedy_edge_removal_df['removed_entity'].dropna().tolist()"
   ]
  },
  {
   "cell_type": "code",
   "execution_count": null,
   "metadata": {},
   "outputs": [],
   "source": [
    "# Correct directionality of edges\n",
    "centrality_greedily_removed_edges_lst = utils.correct_edges([tuple(e) for e in centrality_greedily_removed_edges_lst])\n",
    "max_flow_greedily_removed_edges_lst = utils.correct_edges([tuple(e) for e in max_flow_greedily_removed_edges_lst])"
   ]
  },
  {
   "cell_type": "code",
   "execution_count": null,
   "metadata": {},
   "outputs": [],
   "source": [
    "# Limit to 100 removed entities\n",
    "centrality_greedy_node_removal_df = centrality_greedy_node_removal_df.iloc[:101]\n",
    "centrality_greedy_edge_removal_df = centrality_greedy_edge_removal_df.iloc[:101]"
   ]
  },
  {
   "cell_type": "markdown",
   "metadata": {},
   "source": [
    "### Max flow based N-k analysis employing greedy entity removal order resulting from centrality analysis"
   ]
  },
  {
   "cell_type": "code",
   "execution_count": null,
   "metadata": {},
   "outputs": [],
   "source": [
    "centrality_greedily_removed_nodes_max_flow_df = utils_max_flow.flow_capacity_robustness(G_simple_directed, heuristic='greedy_centrality', remove='node', greedy_centrality_lst=centrality_greedily_removed_nodes_lst)\n",
    "centrality_greedily_removed_nodes_max_flow_df.to_pickle('results/comparison/centrality_greedily_removed_nodes_max_flow_df.pkl')\n",
    "centrality_greedily_removed_nodes_max_flow_df = pd.read_pickle('results/comparison/centrality_greedily_removed_nodes_max_flow_df.pkl')"
   ]
  },
  {
   "cell_type": "code",
   "execution_count": null,
   "metadata": {},
   "outputs": [],
   "source": [
    "centrality_greedily_removed_edges_max_flow_df = utils_max_flow.flow_capacity_robustness(G_simple_directed, heuristic='greedy_centrality', remove='edge', greedy_centrality_lst=centrality_greedily_removed_edges_lst)\n",
    "centrality_greedily_removed_edges_max_flow_df.to_pickle('results/comparison/centrality_greedily_removed_edges_max_flow_df.pkl')\n",
    "centrality_greedily_removed_edges_max_flow_df = pd.read_pickle('results/comparison/centrality_greedily_removed_edges_max_flow_df.pkl')"
   ]
  },
  {
   "cell_type": "code",
   "execution_count": null,
   "metadata": {},
   "outputs": [],
   "source": [
    "\"\"\" fig = utils.plot_transform_analysis([centrality_greedily_removed_nodes_max_flow_df, centrality_greedily_removed_edges_max_flow_df], [max_flow_greedy_node_removal_df, max_flow_greedy_edge_removal_df], 'capacity_robustness_max_flow')\n",
    "fig.savefig('saved_plots/'+dataset+'/'+s_t_flow+'/comparison/max_flow_employing_centrality_removal_order.png') \"\"\""
   ]
  },
  {
   "cell_type": "code",
   "execution_count": null,
   "metadata": {},
   "outputs": [],
   "source": [
    "\"\"\" utils.common_entities(centrality_greedily_removed_nodes_max_flow_df, max_flow_greedy_node_removal_df) \"\"\""
   ]
  },
  {
   "cell_type": "code",
   "execution_count": null,
   "metadata": {},
   "outputs": [],
   "source": [
    "\"\"\" utils.common_entities(centrality_greedily_removed_edges_max_flow_df, max_flow_greedy_edge_removal_df) \"\"\""
   ]
  },
  {
   "cell_type": "markdown",
   "metadata": {},
   "source": [
    "### Centrality based N-k analysis employing greedy entity removal order resulting from max flow analysis"
   ]
  },
  {
   "cell_type": "code",
   "execution_count": null,
   "metadata": {},
   "outputs": [],
   "source": [
    "max_flow_greedily_removed_nodes_centrality_df, _ = utils_centrality.n_minus_k(G_simple_directed, heuristic='max_flow', remove='node', greedy_max_flow_lst=max_flow_greedily_removed_nodes_lst)\n",
    "max_flow_greedily_removed_nodes_centrality_df.to_pickle('results/comparison/max_flow_greedily_removed_nodes_centrality_df.pkl')\n",
    "max_flow_greedily_removed_nodes_centrality_df = pd.read_pickle('results/comparison/max_flow_greedily_removed_nodes_centrality_df.pkl')"
   ]
  },
  {
   "cell_type": "code",
   "execution_count": null,
   "metadata": {},
   "outputs": [],
   "source": [
    "max_flow_greedily_removed_edges_centrality_df, _ = utils_centrality.n_minus_k(G_simple_directed, heuristic='max_flow', remove='edge', greedy_max_flow_lst=max_flow_greedily_removed_edges_lst)\n",
    "max_flow_greedily_removed_edges_centrality_df.to_pickle('results/comparison/max_flow_greedily_removed_edges_centrality_df.pkl')\n",
    "max_flow_greedily_removed_edges_centrality_df = pd.read_pickle('results/comparison/max_flow_greedily_removed_edges_centrality_df.pkl')"
   ]
  },
  {
   "cell_type": "code",
   "execution_count": null,
   "metadata": {},
   "outputs": [],
   "source": [
    "\"\"\" fig = utils.plot_transform_analysis([max_flow_greedily_removed_nodes_centrality_df, max_flow_greedily_removed_edges_centrality_df], [centrality_greedy_node_removal_df, centrality_greedy_edge_removal_df], 'composite')\n",
    "fig.savefig('saved_plots/'+dataset+'/'+s_t_flow+'/comparison/centrality_employing_max_flow_removal_order.png') \"\"\""
   ]
  },
  {
   "cell_type": "code",
   "execution_count": null,
   "metadata": {},
   "outputs": [],
   "source": [
    "\"\"\" utils.common_entities(max_flow_greedily_removed_nodes_centrality_df, centrality_greedy_node_removal_df) \"\"\""
   ]
  },
  {
   "cell_type": "code",
   "execution_count": null,
   "metadata": {},
   "outputs": [],
   "source": [
    "\"\"\" utils.common_entities(max_flow_greedily_removed_edges_centrality_df, centrality_greedy_edge_removal_df) \"\"\""
   ]
  }
 ],
 "metadata": {
  "kernelspec": {
   "display_name": "master_thesis",
   "language": "python",
   "name": "python3"
  },
  "language_info": {
   "codemirror_mode": {
    "name": "ipython",
    "version": 3
   },
   "file_extension": ".py",
   "mimetype": "text/x-python",
   "name": "python",
   "nbconvert_exporter": "python",
   "pygments_lexer": "ipython3",
   "version": "3.12.1"
  }
 },
 "nbformat": 4,
 "nbformat_minor": 2
}
