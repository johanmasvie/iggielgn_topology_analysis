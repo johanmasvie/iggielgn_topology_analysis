{
 "cells": [
  {
   "cell_type": "code",
   "execution_count": null,
   "metadata": {},
   "outputs": [],
   "source": [
    "import pandas as pd\n",
    "import pickle\n",
    "import utils_centrality as utils"
   ]
  },
  {
   "cell_type": "code",
   "execution_count": null,
   "metadata": {},
   "outputs": [],
   "source": [
    "with open('graph_objects/G_simple_directed_iggielgn.pickle', 'rb') as f:\n",
    "    G_simple_directed = pickle.load(f)\n",
    "    G_simple_directed.name = 'G_simple_directed'"
   ]
  },
  {
   "cell_type": "code",
   "execution_count": null,
   "metadata": {},
   "outputs": [],
   "source": [
    "run_analysis = True\n",
    "\n",
    "# Dataset; 'iggin' or 'iggielgn'\n",
    "dataset = 'iggielgn'"
   ]
  },
  {
   "cell_type": "markdown",
   "metadata": {},
   "source": [
    "---"
   ]
  },
  {
   "cell_type": "markdown",
   "metadata": {},
   "source": [
    "# N-k CENTRALITY"
   ]
  },
  {
   "cell_type": "markdown",
   "metadata": {},
   "source": [
    "### Node removal"
   ]
  },
  {
   "cell_type": "code",
   "execution_count": null,
   "metadata": {},
   "outputs": [],
   "source": [
    "\"\"\"\n",
    "Random node removal \n",
    "\"\"\"\n",
    "if run_analysis:\n",
    "    random_node_removal_df, _ = utils.n_minus_k(G_simple_directed, heuristic='random', remove='node', n_benchmarks=1)\n",
    "    random_node_removal_df.to_pickle('results/centrality/'+dataset+'/random_node_removal.pkl')\n",
    "random_node_removal_df = pd.read_pickle('results/centrality/'+dataset+'/random_node_removal.pkl')"
   ]
  },
  {
   "cell_type": "code",
   "execution_count": null,
   "metadata": {},
   "outputs": [],
   "source": [
    "\"\"\"\n",
    "Greedy node removal (i.e. remove the node by CCI_v score)\n",
    "\"\"\"\n",
    "if run_analysis:\n",
    "    greedy_node_removal_df, _ = utils.n_minus_k(G_simple_directed, heuristic='greedy', remove='node')\n",
    "    greedy_node_removal_df.to_pickle('results/centrality/'+dataset+'/greedy_node_removal.pkl')\n",
    "greedy_node_removal_df = pd.read_pickle('results/centrality/'+dataset+'/greedy_node_removal.pkl')\n",
    "utils.results_summary(greedy_node_removal_df, metric='composite')"
   ]
  },
  {
   "cell_type": "code",
   "execution_count": null,
   "metadata": {},
   "outputs": [],
   "source": [
    "titles = ['(a) Connectedness vs k removals', '(b) Robustness vs k removals', '(c) Reach vs k removals', '(d) Connectivity vs k removals']\n",
    "fig = utils.plot_connectedness_fourway([random_node_removal_df, greedy_node_removal_df], titles, 'N-k centrality, node removals')\n",
    "fig.savefig('saved_plots/'+dataset+'/centrality/node_removals.png')"
   ]
  },
  {
   "cell_type": "markdown",
   "metadata": {},
   "source": [
    "### Edge removal"
   ]
  },
  {
   "cell_type": "code",
   "execution_count": null,
   "metadata": {},
   "outputs": [],
   "source": [
    "\"\"\"\n",
    "Random edge removal  \n",
    "\"\"\"\n",
    "if run_analysis:\n",
    "    random_edge_removal_df, _ = utils.n_minus_k(G_simple_directed, heuristic='random', remove='edge', n_benchmarks=1)\n",
    "    random_edge_removal_df.to_pickle('results/centrality/'+dataset+'/random_edge_removal.pkl')\n",
    "random_edge_removal_df = pd.read_pickle('results/centrality/'+dataset+'/random_edge_removal.pkl')"
   ]
  },
  {
   "cell_type": "code",
   "execution_count": null,
   "metadata": {},
   "outputs": [],
   "source": [
    "\"\"\"\n",
    "Greedy edge removal (i.e. remove the edge by CCI_e score)  \n",
    "\"\"\"\n",
    "if run_analysis:\n",
    "    greedy_edge_removal_df, _ = utils.n_minus_k(G_simple_directed, heuristic='greedy', remove='edge')\n",
    "    greedy_edge_removal_df.to_pickle('results/centrality/'+dataset+'/greedy_edge_removal.pkl')\n",
    "greedy_edge_removal_df = pd.read_pickle('results/centrality/'+dataset+'/greedy_edge_removal.pkl')\n",
    "utils.results_summary(greedy_edge_removal_df, metric='composite')"
   ]
  },
  {
   "cell_type": "code",
   "execution_count": null,
   "metadata": {},
   "outputs": [],
   "source": [
    "titles = ['(a) Connectedness vs k removals', '(b) Robustness vs k removals', '(c) Reach index vs k removals', '(d) Connectivity vs k removals']\n",
    "fig = utils.plot_connectedness_fourway([random_edge_removal_df, greedy_edge_removal_df], titles, 'N-k centrality, edge removals')\n",
    "fig.savefig('saved_plots/'+dataset+'/centrality/edge_removals.png')"
   ]
  }
 ],
 "metadata": {
  "kernelspec": {
   "display_name": "Python 3",
   "language": "python",
   "name": "python3"
  },
  "language_info": {
   "codemirror_mode": {
    "name": "ipython",
    "version": 3
   },
   "file_extension": ".py",
   "mimetype": "text/x-python",
   "name": "python",
   "nbconvert_exporter": "python",
   "pygments_lexer": "ipython3",
   "version": "3.12.1"
  }
 },
 "nbformat": 4,
 "nbformat_minor": 2
}
