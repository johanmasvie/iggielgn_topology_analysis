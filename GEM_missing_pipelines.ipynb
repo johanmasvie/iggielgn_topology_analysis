{
 "cells": [
  {
   "cell_type": "code",
   "execution_count": 40,
   "metadata": {},
   "outputs": [],
   "source": [
    "import pandas as pd\n",
    "import geopandas as gpd\n",
    "import folium as fl"
   ]
  },
  {
   "cell_type": "code",
   "execution_count": 41,
   "metadata": {},
   "outputs": [],
   "source": [
    "# In order to only focus on the pipelines part of the GEM European tracker, we will need to filter out the pipelines from the GEM Global tracker that are not in Europe.\n",
    "\n",
    "european_pipeline_names = pd.read_excel('GEM-data/Europe-Gas-Tracker-2024-01.xlsx', sheet_name='Gas pipelines - data')['PipelineName'].unique()"
   ]
  },
  {
   "cell_type": "code",
   "execution_count": 42,
   "metadata": {},
   "outputs": [],
   "source": [
    "# Read the GEM-data/GEM-GGIT-Gas-Pipelines-2023-12.geojson file\n",
    "gem_global_pipelines = gpd.read_file('GEM-data/GEM-GGIT-Gas-Pipelines-2023-12.geojson') \n",
    "\n",
    "# Only include pipelines that are in Europe, as per comment in the previous cell\n",
    "gem_global_pipelines = gem_global_pipelines[gem_global_pipelines['PipelineName'].isin(european_pipeline_names)]\n",
    "\n",
    "# Only include pipelines that are operating or mothballed\n",
    "gem_global_pipelines = gem_global_pipelines[gem_global_pipelines['Status'].isin(['Operating', 'Mothballed'])]\n",
    "\n",
    "# Filter out the pipelines that are relevant to add to our network\n",
    "relevant_pipelines = [\n",
    "    'Kohtla-Järve-Leningrad Gas Pipeline',\n",
    "    'Valdai-Pskov-Riga Gas Pipeline',\n",
    "    'Torzhok-Minsk-Ivatsevichy Gas Pipeline',\n",
    "    'Yamal-Europe Gas Pipeline',\n",
    "    'Torzhok-Smolensk-Mazyr-Dolyna Gas Pipeline',\n",
    "    'Urengoy-Pomary-Uzhgorod Gas Pipeline',\n",
    "    'Progress Gas Pipeline',\n",
    "    'Yelets-Kremenchuk–Kryvyi Rih Gas Pipeline',\n",
    "    'Urengoy-Novopskov Gas Pipeline',\n",
    "    'Petrovsk-Novopskov Gas Pipeline',\n",
    "    'Orenburg-Novopskov Gas Pipeline',\n",
    "    'Shebelinka-Dnipropetrovsk–Kryvyi Rih–Rozdilna-Izmail Gas Pipeline',\n",
    "    'Rozdilna-Izmail Gas Pipeline',\n",
    "    'TurkStream Gas Pipeline',\n",
    "    'Turk 2 Stream Gas Pipeline',\n",
    "    'Blue Stream Gas Pipeline',\n",
    "    'Kyiv–Western Border Pipeline',\n",
    "    'Kyiv–Western Border of Ukraine Gas Pipeline',\n",
    "    \"Kremenchuk-Anan'iv-Bohorodchany Gas Pipeline\",\n",
    "    'Ananjiv-Bohorodchani Gas Pipeline',\n",
    "    \"Anan'iv-Tiraspol-Izmail Gas Pipeline\",\n",
    "    'Tula-Shostka-Kiev Gas Pipeline',\n",
    "    'Dashava-Kiev-Bryansk-Moscow Gas Pipeline',\n",
    "    'Yelets-Kursk-Kyiv Gas Pipeline',\n",
    "    'Soyuz Gas Pipeline',\n",
    "    'Shebelinka-Poltava-Kiev Gas Pipeline',\n",
    "    'Shebelinka-Dikanka-Kiev Gas Pipeline',\n",
    "    'Gryazovets-Volkhov-Slavyanskaya Gas Pipeline',\n",
    "    'Gryazovets-Vyborg Gas Pipeline',\n",
    "    'Trans-Anatolian Gas Pipeline',\n",
    "    'Sarikali-Karacabey Gas Pipeline',\n",
    "    'Trans-Mediterranean Gas Pipeline',\n",
    "    'Greenstream Gas Pipeline',\n",
    "    'Medgaz Gas Pipeline',\n",
    "    'Maghreb-Europe Gas Pipeline',\n",
    "    'Trans-Balkan Gas Pipeline',\n",
    "    'Murati-Silivri Pipeline',\n",
    "    'Russian Federation – Turkey Natural Gas Main Transmission Line',\n",
    "    'Turkey-Greece-Italy Interconnector Gas Pipeline (ITGI)',\n",
    "    'Tekirdag-Buyukkaristiran Pipeline',\n",
    "\n",
    "]\n",
    "\n",
    "# Split the gem_global_pipelines into two dataframes, one with the excluded pipelines and one with the included pipelines\n",
    "relevant_pipelines_df = gem_global_pipelines[gem_global_pipelines['PipelineName'].isin(relevant_pipelines)]\n",
    "non_relevant_pipelines_df = gem_global_pipelines[~gem_global_pipelines['PipelineName'].isin(relevant_pipelines)]\n",
    "\n",
    "# Read the Scigrid_data/IGGIN_PipeSegments.geojson file\n",
    "scigrid_pipelines_df = gpd.read_file('Scigrid_data/IGGIN_PipeSegments.geojson')\n"
   ]
  },
  {
   "cell_type": "code",
   "execution_count": 43,
   "metadata": {},
   "outputs": [],
   "source": [
    "# Plot both the relevant, non-relevant and scigrid pipelines on a map\n",
    "m = fl.Map(location=[50, 10], zoom_start=4)\n",
    "\n",
    "# Add the relevant pipelines layer to the map with a red color\n",
    "fl.GeoJson(relevant_pipelines_df, name='Relevant Pipelines', style_function=lambda feature: {\n",
    "    'color': 'red'\n",
    "}).add_to(m)\n",
    "\n",
    "# Add the non-relevant pipelines layer to the map with a blue color\n",
    "fl.GeoJson(non_relevant_pipelines_df, name='Non-Relevant Pipelines', style_function=lambda feature: {\n",
    "    'color': 'blue'\n",
    "}).add_to(m)\n",
    "\n",
    "# Add the scigrid pipelines layer to the map with a green color\n",
    "fl.GeoJson(scigrid_pipelines_df, name='SciGRID Pipelines', style_function=lambda feature: {\n",
    "    'color': 'green'\n",
    "}).add_to(m)\n",
    "\n",
    "# Add layer control to the map\n",
    "fl.LayerControl().add_to(m)\n",
    "\n",
    "m.save('relevant_pipelines.html')"
   ]
  }
 ],
 "metadata": {
  "kernelspec": {
   "display_name": "venv",
   "language": "python",
   "name": "python3"
  },
  "language_info": {
   "codemirror_mode": {
    "name": "ipython",
    "version": 3
   },
   "file_extension": ".py",
   "mimetype": "text/x-python",
   "name": "python",
   "nbconvert_exporter": "python",
   "pygments_lexer": "ipython3",
   "version": "3.9.13"
  }
 },
 "nbformat": 4,
 "nbformat_minor": 2
}
