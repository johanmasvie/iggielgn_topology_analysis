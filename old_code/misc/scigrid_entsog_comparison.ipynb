{
 "cells": [
  {
   "cell_type": "code",
   "execution_count": null,
   "metadata": {},
   "outputs": [],
   "source": [
    "import matplotlib.pyplot as plt"
   ]
  },
  {
   "cell_type": "code",
   "execution_count": null,
   "metadata": {},
   "outputs": [],
   "source": [
    "\"\"\" # PROCESS DATAFRAMES\n",
    "def process_dataframe(df, suffix):\n",
    "    df = df.drop(df.filter(regex='_b$').columns, axis=1)\n",
    "    df = df.rename(columns=lambda x: x + f'_{suffix}' if x != 'iteration' else x)\n",
    "    return df\n",
    "\n",
    "def concatenate_and_rename(df1, df2, suffix1, suffix2):\n",
    "    result_df = pd.concat([df1, df2], axis=1)\n",
    "    result_df.columns = ['iteration_' + suffix1 if i == 0 else 'iteration_' + suffix2 if i == 5 else col for i, col in enumerate(result_df.columns)]\n",
    "    return result_df\n",
    "\n",
    "random_edge_removal_scigrid_df = process_dataframe(random_edge_removal_scigrid_df, 'scigrid')\n",
    "greedy_edge_removal_scigrid_df = process_dataframe(greedy_edge_removal_scigrid_df, 'scigrid')\n",
    "random_edge_removal_project_thesis_df = process_dataframe(random_edge_removal_project_thesis_df, 'entsog')\n",
    "greedy_edge_removal_project_thesis_df = process_dataframe(greedy_edge_removal_project_thesis_df, 'entsog')\n",
    "\n",
    "random_node_removal_scigrid_df = process_dataframe(random_node_removal_scigrid_df, 'scigrid')\n",
    "greedy_node_removal_scigrid_df = process_dataframe(greedy_node_removal_scigrid_df, 'scigrid')\n",
    "random_node_removal_project_thesis_df = process_dataframe(random_node_removal_project_thesis_df, 'entsog')\n",
    "greedy_node_removal_project_thesis_df = process_dataframe(greedy_node_removal_project_thesis_df, 'entsog')\n",
    "\n",
    "random_node_removal_df = concatenate_and_rename(random_node_removal_scigrid_df, random_node_removal_project_thesis_df, 'scigrid', 'entsog')\n",
    "greedy_node_removal_df = concatenate_and_rename(greedy_node_removal_scigrid_df, greedy_node_removal_project_thesis_df, 'scigrid', 'entsog')\n",
    "\n",
    "random_edge_removal_df = concatenate_and_rename(random_edge_removal_scigrid_df, random_edge_removal_project_thesis_df, 'scigrid', 'entsog')\n",
    "greedy_edge_removal_df = concatenate_and_rename(greedy_edge_removal_scigrid_df, greedy_edge_removal_project_thesis_df, 'scigrid', 'entsog')\n",
    "\n",
    "random_node_removal_df.name = 'random_node_removal'\n",
    "greedy_node_removal_df.name = 'greedy_node_removal'\n",
    "random_edge_removal_df.name = 'random_edge_removal'\n",
    "greedy_edge_removal_df.name = 'greedy_edge_removal' \"\"\""
   ]
  },
  {
   "cell_type": "code",
   "execution_count": null,
   "metadata": {},
   "outputs": [],
   "source": [
    "def compare_scigrid_entsog(data, metric=None):\n",
    "   \n",
    "    scigrid_columns = ['iteration_scigrid', 'composite_scigrid', 'robustness_scigrid', 'reach_scigrid', 'connectivity_scigrid']\n",
    "    entsog_columns = ['iteration_entsog', 'composite_entsog', 'robustness_entsog', 'reach_entsog', 'connectivity_entsog']\n",
    "\n",
    "    df = data.copy()\n",
    "\n",
    "    df['iteration_scigrid_scaled'] = (df['iteration_scigrid'] - df['iteration_scigrid'].min()) / (df['iteration_scigrid'].max() - df['iteration_scigrid'].min())\n",
    "    df['iteration_entsog_scaled'] = (df['iteration_entsog'] - df['iteration_entsog'].min()) / (df['iteration_entsog'].max() - df['iteration_entsog'].min())\n",
    "\n",
    "    # Plotting\n",
    "    plt.figure(figsize=(10, 6))\n",
    "\n",
    "    if metric == None:\n",
    "        for i, col in enumerate(scigrid_columns[1:]):\n",
    "            plt.plot(df['iteration_scigrid_scaled'], df[col], label=col, linestyle='-', color=f'C{i}', linewidth=2)\n",
    "\n",
    "        # Plotting entsog\n",
    "        for i, col in enumerate(entsog_columns[1:]):\n",
    "            plt.plot(df['iteration_entsog_scaled'], df[col], label=col, linestyle='--', color=f'C{i}', linewidth=2)\n",
    "\n",
    "    else:\n",
    "        plt.plot(df['iteration_scigrid_scaled'], df[metric+'_scigrid'], label=metric+'_scigrid', linestyle='-', color='C0', linewidth=2)\n",
    "        plt.plot(df['iteration_entsog_scaled'], df[metric+'_entsog'], label=metric+'_entsog', linestyle='--', color='C0', linewidth=2)\n",
    "\n",
    "    plt.xlabel('Scaled Iteration')\n",
    "    plt.ylabel('Metrics')\n",
    "    plt.suptitle('N-k project thesis algorithm, Scigrid and Entsog comparison', x=.375)\n",
    "    plt.title(data.name, loc='left')\n",
    "    plt.legend()\n",
    "    plt.grid(True)\n",
    "    plt.show()"
   ]
  },
  {
   "cell_type": "markdown",
   "metadata": {},
   "source": [
    "---"
   ]
  },
  {
   "cell_type": "markdown",
   "metadata": {},
   "source": [
    "# Comparison to classical robustness measures\n",
    "'Graph Vulnerability and Robustness: A Survey', Freitas et al. (2022) summarizes and compares recent and classical graph robustness measures, and explores which robustness\n",
    "measures are most applicable to different categories of networks (e.g., social, infrastructure).\n",
    "\n",
    "Link: https://arxiv.org/pdf/2105.00419.pdf\n",
    "\n",
    "Based on this, the performance of a natural gas grid measured with respect to its flow capacity robustness can be compared to performance with these already-established measures.\n",
    "\n",
    "Without a definitive definition of natural gas grid robustness, intuitive criteria may be considered:\n",
    "1. Overall network connectedness\n",
    "2. Extent of alternative pathways\n",
    "3. Existence of potential bottlenecks\n",
    "\n",
    "The N-k analysis from project thesis aimed at amalgamating various topological measures to assess overall grid connectedness (understood in this context as robustness). Below, the algorithm previously run has been employed on the new grid representation (constructed using data from Scigrid) and compared to the project thesis grid representation (constructed using data from Entsog)."
   ]
  },
  {
   "cell_type": "markdown",
   "metadata": {},
   "source": [
    "## Edge"
   ]
  },
  {
   "cell_type": "code",
   "execution_count": null,
   "metadata": {},
   "outputs": [],
   "source": [
    "# utils.compare_scigrid_entsog(random_edge_removal_df)"
   ]
  },
  {
   "cell_type": "code",
   "execution_count": null,
   "metadata": {},
   "outputs": [],
   "source": [
    "# utils.compare_scigrid_entsog(greedy_edge_removal_df)\n"
   ]
  },
  {
   "cell_type": "markdown",
   "metadata": {},
   "source": [
    "## Node"
   ]
  },
  {
   "cell_type": "code",
   "execution_count": null,
   "metadata": {},
   "outputs": [],
   "source": [
    "# utils.compare_scigrid_entsog(random_node_removal_df)\n"
   ]
  },
  {
   "cell_type": "code",
   "execution_count": null,
   "metadata": {},
   "outputs": [],
   "source": [
    "# utils.compare_scigrid_entsog(greedy_node_removal_df)\n"
   ]
  },
  {
   "cell_type": "markdown",
   "metadata": {},
   "source": [
    "## Specific metric"
   ]
  },
  {
   "cell_type": "code",
   "execution_count": null,
   "metadata": {},
   "outputs": [],
   "source": [
    "# utils.compare_scigrid_entsog(random_edge_removal_df, 'robustness')"
   ]
  }
 ],
 "metadata": {
  "kernelspec": {
   "display_name": "master_thesis",
   "language": "python",
   "name": "python3"
  },
  "language_info": {
   "name": "python",
   "version": "3.12.1"
  }
 },
 "nbformat": 4,
 "nbformat_minor": 2
}
