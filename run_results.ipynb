{
 "cells": [
  {
   "cell_type": "code",
   "execution_count": 1,
   "metadata": {},
   "outputs": [],
   "source": [
    "import pandas as pd\n",
    "import pickle\n",
    "import utils"
   ]
  },
  {
   "cell_type": "code",
   "execution_count": null,
   "metadata": {},
   "outputs": [],
   "source": [
    "with open('graph_objects/G_simple_directed_iggielgn.pickle', 'rb') as f:\n",
    "    G_simple_directed = pickle.load(f)\n",
    "    G_simple_directed.name = 'G_simple_directed'"
   ]
  },
  {
   "cell_type": "markdown",
   "metadata": {},
   "source": [
    "---"
   ]
  },
  {
   "cell_type": "markdown",
   "metadata": {},
   "source": [
    "# Centrality-based approach"
   ]
  },
  {
   "cell_type": "markdown",
   "metadata": {},
   "source": [
    "### Node removal"
   ]
  },
  {
   "cell_type": "code",
   "execution_count": null,
   "metadata": {},
   "outputs": [],
   "source": [
    "random_node_removal_df = utils.n_minus_k(G_simple_directed, heuristic='random', remove='node')\n",
    "random_node_removal_df.to_pickle('results_tables/centrality/random_node_removal.pkl')\n",
    "random_node_removal_df = pd.read_pickle('results_tables/centrality/random_node_removal.pkl')"
   ]
  },
  {
   "cell_type": "code",
   "execution_count": null,
   "metadata": {},
   "outputs": [],
   "source": [
    "greedy_node_removal_df = utils.n_minus_k(G_simple_directed, heuristic='greedy', remove='node')\n",
    "greedy_node_removal_df.to_pickle('results_tables/centrality/greedy_node_removal.pkl')\n",
    "greedy_node_removal_df = pd.read_pickle('results_tables/centrality/greedy_node_removal.pkl')"
   ]
  },
  {
   "cell_type": "markdown",
   "metadata": {},
   "source": [
    "### Edge removal"
   ]
  },
  {
   "cell_type": "code",
   "execution_count": null,
   "metadata": {},
   "outputs": [],
   "source": [
    "random_edge_removal_df = utils.n_minus_k(G_simple_directed, heuristic='random', remove='edge')\n",
    "random_edge_removal_df.to_pickle('results_tables/centrality/random_edge_removal.pkl')\n",
    "random_edge_removal_df = pd.read_pickle('results_tables/centrality/random_edge_removal.pkl')"
   ]
  },
  {
   "cell_type": "code",
   "execution_count": null,
   "metadata": {},
   "outputs": [],
   "source": [
    "greedy_edge_removal_df = utils.n_minus_k(G_simple_directed, k_removals=1000, heuristic='greedy', remove='edge')\n",
    "greedy_edge_removal_df.to_pickle('results_tables/centrality/greedy_edge_removal.pkl')\n",
    "greedy_edge_removal_df = pd.read_pickle('results_tables/centrality/greedy_edge_removal.pkl')"
   ]
  },
  {
   "cell_type": "markdown",
   "metadata": {},
   "source": [
    "----"
   ]
  },
  {
   "cell_type": "markdown",
   "metadata": {},
   "source": [
    "# Max flow-based approach"
   ]
  },
  {
   "cell_type": "markdown",
   "metadata": {},
   "source": [
    "### Node removal"
   ]
  },
  {
   "cell_type": "code",
   "execution_count": null,
   "metadata": {},
   "outputs": [],
   "source": [
    "random_node_removal_df = utils.flow_capacity_robustness(G_simple_directed, heuristic='random', remove='node')\n",
    "random_node_removal_df.to_pickle('results_tables/max_flow/random_node_removal.pkl')\n",
    "random_node_removal_df = pd.read_pickle('results_tables/max_flow/random_node_removal.pkl')"
   ]
  },
  {
   "cell_type": "code",
   "execution_count": null,
   "metadata": {},
   "outputs": [],
   "source": [
    "fc_node_removal_df = utils.flow_capacity_robustness(G_simple_directed, heuristic='fv', remove='node')\n",
    "fc_node_removal_df.to_pickle('results_tables/max_flow/fc_node_removal.pkl')       \n",
    "fc_node_removal_df = pd.read_pickle('results_tables/max_flow/fc_node_removal.pkl')"
   ]
  },
  {
   "cell_type": "code",
   "execution_count": null,
   "metadata": {},
   "outputs": [],
   "source": [
    "fcr_node_removal_df = utils.flow_capacity_robustness(G_simple_directed, heuristic='fcr', remove='node')\n",
    "fcr_node_removal_df.to_pickle('results_tables/max_flow/fcr_node_removal.pkl')\n",
    "fcr_node_removal_df = pd.read_pickle('results_tables/max_flow/fcr_node_removal.pkl')"
   ]
  },
  {
   "cell_type": "code",
   "execution_count": null,
   "metadata": {},
   "outputs": [],
   "source": [
    "wfcr_node_removal_df = utils.flow_capacity_robustness(G_simple_directed, heuristic='wfcr', remove='node')\n",
    "wfcr_node_removal_df.to_pickle('results_tables/max_flow/wfcr_node_removal.pkl')\n",
    "wfcr_node_removal_df = pd.read_pickle('results_tables/max_flow/wfcr_node_removal.pkl')"
   ]
  },
  {
   "cell_type": "markdown",
   "metadata": {},
   "source": [
    "### Edge removal"
   ]
  },
  {
   "cell_type": "code",
   "execution_count": null,
   "metadata": {},
   "outputs": [],
   "source": [
    "random_edge_removal_df = utils.flow_capacity_robustness(G_simple_directed, heuristic='random', remove='edge')\n",
    "random_edge_removal_df.to_pickle('results_tables/max_flow/random_edge_removal.pkl')\n",
    "random_edge_removal_df = pd.read_pickle('results_tables/max_flow/random_edge_removal.pkl')"
   ]
  },
  {
   "cell_type": "code",
   "execution_count": null,
   "metadata": {},
   "outputs": [],
   "source": [
    "fc_edge_removal_df = utils.flow_capacity_robustness(G_simple_directed, heuristic='max_flow', remove='edge')\n",
    "fc_edge_removal_df.to_pickle('results_tables/max_flow/fc_edge_removal.pkl')\n",
    "fc_edge_removal_df = pd.read_pickle('results_tables/max_flow/fc_edge_removal.pkl')"
   ]
  },
  {
   "cell_type": "code",
   "execution_count": null,
   "metadata": {},
   "outputs": [],
   "source": [
    "fcr_edge_removal_df = utils.flow_capacity_robustness(G_simple_directed, heuristic='fcr', remove='edge')\n",
    "fcr_edge_removal_df.to_pickle('results_tables/max_flow/fcr_edge_removal.pkl')\n",
    "fcr_edge_removal_df = pd.read_pickle('results_tables/max_flow/fcr_edge_removal.pkl')"
   ]
  },
  {
   "cell_type": "code",
   "execution_count": null,
   "metadata": {},
   "outputs": [],
   "source": [
    "wfcr_edge_removal_df = utils.flow_capacity_robustness(G_simple_directed, heuristic='wfcr', remove='edge')\n",
    "wfcr_edge_removal_df.to_pickle('results_tables/max_flow/wfcr_edge_removal.pkl')\n",
    "wfcr_edge_removal_df = pd.read_pickle('results_tables/max_flow/wfcr_edge_removal.pkl')"
   ]
  }
 ],
 "metadata": {
  "kernelspec": {
   "display_name": "Python 3",
   "language": "python",
   "name": "python3"
  },
  "language_info": {
   "codemirror_mode": {
    "name": "ipython",
    "version": 3
   },
   "file_extension": ".py",
   "mimetype": "text/x-python",
   "name": "python",
   "nbconvert_exporter": "python",
   "pygments_lexer": "ipython3",
   "version": "3.12.1"
  }
 },
 "nbformat": 4,
 "nbformat_minor": 2
}
